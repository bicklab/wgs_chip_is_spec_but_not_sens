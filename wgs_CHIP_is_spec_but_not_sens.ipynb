{
 "cells": [
  {
   "cell_type": "markdown",
   "metadata": {},
   "source": [
    "# setup"
   ]
  },
  {
   "cell_type": "code",
   "execution_count": null,
   "metadata": {
    "ExecuteTime": {
     "end_time": "2025-04-29T15:42:02.570742Z",
     "start_time": "2025-04-29T15:42:01.589Z"
    }
   },
   "outputs": [],
   "source": [
    "library(broom)\n",
    "# library(ggExtra)\n",
    "library(tidyverse)"
   ]
  },
  {
   "cell_type": "code",
   "execution_count": null,
   "metadata": {
    "ExecuteTime": {
     "end_time": "2025-04-29T15:42:06.177640Z",
     "start_time": "2025-04-29T15:42:06.032Z"
    }
   },
   "outputs": [],
   "source": [
    "gsutil = function(text, echo = FALSE) {\n",
    "  text = glue::glue('gsutil ', text)\n",
    "  if (echo) base::print(text)\n",
    "  system(command = text, intern = TRUE)\n",
    "}\n",
    "\n",
    "gscp = function(src, dest = '.', echo = TRUE) {\n",
    "    gsutil(paste('cp', src, dest))\n",
    "}\n",
    "\n",
    "gsls = function(path, echo = TRUE) {\n",
    "    gsutil(paste('ls', path))\n",
    "}"
   ]
  },
  {
   "cell_type": "code",
   "execution_count": null,
   "metadata": {
    "ExecuteTime": {
     "end_time": "2025-04-29T15:42:07.071282Z",
     "start_time": "2025-04-29T15:42:06.956Z"
    }
   },
   "outputs": [],
   "source": [
    "lu = function(x) (length(unique(x)))"
   ]
  },
  {
   "cell_type": "code",
   "execution_count": null,
   "metadata": {
    "ExecuteTime": {
     "end_time": "2025-04-29T15:42:07.477289Z",
     "start_time": "2025-04-29T15:42:07.372Z"
    }
   },
   "outputs": [],
   "source": [
    "years_between = function(a, b) {\n",
    "    as.numeric(difftime(b, a, units = 'weeks')/52.25)\n",
    "}"
   ]
  },
  {
   "cell_type": "code",
   "execution_count": null,
   "metadata": {
    "ExecuteTime": {
     "end_time": "2025-04-29T15:42:08.273604Z",
     "start_time": "2025-04-29T15:42:08.177Z"
    }
   },
   "outputs": [],
   "source": [
    "is_not_na = function(x) (!is.na(x))"
   ]
  },
  {
   "cell_type": "code",
   "execution_count": null,
   "metadata": {
    "ExecuteTime": {
     "end_time": "2025-04-29T17:24:50.598304Z",
     "start_time": "2025-04-29T17:24:48.628Z"
    }
   },
   "outputs": [],
   "source": [
    "# read in all AGD data\n",
    "'AGD250kcohortshiftedsampledates.csv' |>\n",
    "read_csv(show_col_types = FALSE, \n",
    "         name_repair = ~str_replace_all(., ' ', '_')) |>\n",
    "filter(!is.na(Data_Available)) |>\n",
    "mutate(biosample_date = mdy(SHIFTED_SAMPLE_DATE)) |>\n",
    "select(-SHIFTED_SAMPLE_DATE, -Data_Available) |>\n",
    "# join in sample ID\n",
    "left_join(read_csv('AGD_DATA_SAMPLE_ID_MAP_Q3_2024.csv', show_col_types = FALSE)) |>\n",
    "select(-OUTPUT_FOLDER_ID) |>\n",
    "# join in demographics\n",
    "left_join(read_csv('demog_of_agd.csv', show_col_types = FALSE)) |>\n",
    "# filtering join for DTS data\n",
    "# semi_join(read_tsv('targeted_sequencing_biovu_rad_mtp_kidney_yp_03182025.tsv', show_col_types = FALSE)) |>\n",
    "# mutate(age_at_biosample = years_between(birth_date, biosample_date)) |>\n",
    "filter(GRID %in% read_rds('all_dts_grids.rds')) |>\n",
    "glimpse() ->\n",
    "cohort_dts_wgs"
   ]
  },
  {
   "cell_type": "code",
   "execution_count": null,
   "metadata": {
    "ExecuteTime": {
     "end_time": "2025-04-29T16:57:02.567693Z",
     "start_time": "2025-04-29T16:57:02.409Z"
    }
   },
   "outputs": [],
   "source": [
    "cohort_dts_wgs$GRID |> lu()"
   ]
  },
  {
   "cell_type": "code",
   "execution_count": null,
   "metadata": {
    "ExecuteTime": {
     "end_time": "2025-04-29T16:57:03.397251Z",
     "start_time": "2025-04-29T16:57:03.200Z"
    }
   },
   "outputs": [],
   "source": [
    "cohort_dts_wgs$person_id |> lu()"
   ]
  },
  {
   "cell_type": "code",
   "execution_count": null,
   "metadata": {
    "ExecuteTime": {
     "end_time": "2025-04-29T16:57:04.000158Z",
     "start_time": "2025-04-29T16:57:03.806Z"
    }
   },
   "outputs": [],
   "source": [
    "cohort_dts_wgs |> distinct(person_id, biosample_date) |> glimpse()"
   ]
  },
  {
   "cell_type": "markdown",
   "metadata": {},
   "source": [
    "# read in and prep targeted seq calls"
   ]
  },
  {
   "cell_type": "code",
   "execution_count": null,
   "metadata": {
    "ExecuteTime": {
     "end_time": "2025-04-29T17:23:56.559694Z",
     "start_time": "2025-04-29T17:23:56.292Z"
    },
    "scrolled": false
   },
   "outputs": [],
   "source": [
    "'targeted_sequencing_biovu_rad_mtp_kidney_yp_03182025.tsv' |>\n",
    "read_tsv(show_col_types = FALSE) |> \n",
    "transmute(\n",
    "    GRID,\n",
    "    cohort,\n",
    "    biosample_date = mdy(biovu_sample_date),\n",
    "    chip_gene_dts = Gene.refGene,\n",
    "#     chip_mut_func_dts = Func.refGene,\n",
    "#     chip_mut_exofunc_dts = ExonicFunc.refGene,\n",
    "    chip_mut_aachange_dts = NonsynOI,\n",
    "    AF_dts = AF\n",
    ") |>\n",
    "# glimpse() |>\n",
    "# use only DTS data from same sample as WGS data\n",
    "semi_join(cohort_dts_wgs, by = join_by(GRID, biosample_date)) |>\n",
    "select(-biosample_date) |>\n",
    "# glimpse() |>\n",
    "# remove duplicates\n",
    "distinct(GRID, chip_gene_dts, chip_mut_aachange_dts, .keep_all = TRUE) |>\n",
    "# only CHIP calls (don't need a row for everyone)\n",
    "filter(!is.na(chip_gene_dts)) |>\n",
    "glimpse() ->\n",
    "chip_calls_dts_noheart"
   ]
  },
  {
   "cell_type": "code",
   "execution_count": null,
   "metadata": {
    "ExecuteTime": {
     "end_time": "2025-04-29T17:46:02.389066Z",
     "start_time": "2025-04-29T17:46:02.173Z"
    }
   },
   "outputs": [],
   "source": [
    "read_tsv('chip_calls_hearttransplant.tsv', show_col_types = FALSE) |> \n",
    "filter(!is.na(chip_gene_dts)) |> \n",
    "semi_join(cohort_dts_wgs, by = 'GRID') |>\n",
    "mutate(cohort = 'heart') |>\n",
    "glimpse() ->\n",
    "chip_calls_heart"
   ]
  },
  {
   "cell_type": "code",
   "execution_count": null,
   "metadata": {
    "ExecuteTime": {
     "end_time": "2025-04-29T17:46:03.176310Z",
     "start_time": "2025-04-29T17:46:02.914Z"
    }
   },
   "outputs": [],
   "source": [
    "bind_rows(\n",
    "    chip_calls_dts_noheart,\n",
    "    chip_calls_heart\n",
    ") |>\n",
    "glimpse() ->\n",
    "chip_calls_dts"
   ]
  },
  {
   "cell_type": "code",
   "execution_count": null,
   "metadata": {
    "ExecuteTime": {
     "end_time": "2025-04-29T17:46:03.822618Z",
     "start_time": "2025-04-29T17:46:03.637Z"
    }
   },
   "outputs": [],
   "source": [
    "chip_calls_dts$GRID |> lu()"
   ]
  },
  {
   "cell_type": "code",
   "execution_count": null,
   "metadata": {
    "ExecuteTime": {
     "end_time": "2025-04-29T17:46:07.262546Z",
     "start_time": "2025-04-29T17:46:07.097Z"
    }
   },
   "outputs": [],
   "source": [
    "mean(chip_calls_dts$GRID %in% cohort_dts_wgs$GRID)"
   ]
  },
  {
   "cell_type": "markdown",
   "metadata": {},
   "source": [
    "# read in and prep WGS calls"
   ]
  },
  {
   "cell_type": "code",
   "execution_count": null,
   "metadata": {
    "ExecuteTime": {
     "end_time": "2025-04-29T17:46:10.652735Z",
     "start_time": "2025-04-29T17:46:10.481Z"
    }
   },
   "outputs": [],
   "source": [
    "filter_wgs_chip_calls <- function(data, \n",
    "                                  min_dp = 20, \n",
    "                                  min_ad2 = 2,\n",
    "                                  require_both_strands = TRUE,\n",
    "                                  max_age_p = 0.1,\n",
    "                                  max_tert_p = 0.1,\n",
    "                                  max_binom_p = 0.01) {\n",
    "\n",
    "    data |>\n",
    "    filter(\n",
    "        DP_wgs >= min_dp,\n",
    "        AD2 >= min_ad2,\n",
    "        (!require_both_strands | both_strands),\n",
    "        (is.na(hotspot_age_p_val) | hotspot_age_p_val <= max_age_p | hotspot_tert_p_val <= max_tert_p),\n",
    "        binom_p_val <= max_binom_p\n",
    "    )\n",
    "}"
   ]
  },
  {
   "cell_type": "code",
   "execution_count": null,
   "metadata": {
    "ExecuteTime": {
     "end_time": "2025-04-29T17:46:13.613339Z",
     "start_time": "2025-04-29T17:46:12.155Z"
    }
   },
   "outputs": [],
   "source": [
    "'putative_chip_vars_flagged_nofilters.RDS' |>\n",
    "read_rds() |>\n",
    "transmute(\n",
    "    SAMPLE_ID = as.numeric(Sample),\n",
    "    chr = Chr,\n",
    "    start = Start,\n",
    "    end = End,\n",
    "    chip_gene_wgs = Gene.refGene,\n",
    "    chip_mut_func_wgs = Func.refGene,\n",
    "    chip_mut_exofunc_wgs = ExonicFunc.refGene,\n",
    "    chip_mut_aachange_wgs = NonsynOI,\n",
    "    DP_wgs = DP,\n",
    "    AD_wgs = AD,\n",
    "    AF_wgs = AF,\n",
    "    # there are none here\n",
    "    # multi_allelic_wgs = multi_allelic,\n",
    "    both_strands,\n",
    "    # no multiallelic so not necessary\n",
    "    # maxAF_wgs = maxAF\n",
    "    hotspot_age_p_val,\n",
    "    hotspot_tert_p_val,\n",
    "    binom_p_val\n",
    ") |>\n",
    "# filter to only GRIDs that also have DTS\n",
    "inner_join(cohort_dts_wgs, by = 'SAMPLE_ID') |>\n",
    "# some GRIDs were run through mutect twice -- keep only one\n",
    "distinct(GRID, chip_gene_wgs, chip_mut_aachange_wgs, AF_wgs, .keep_all = TRUE) |>\n",
    "# make AD2 computable\n",
    "separate_wider_delim(cols = 'AD_wgs', delim = ',', names = c('AD1', 'AD2')) |>\n",
    "# apply standard filters\n",
    "filter_wgs_chip_calls() |>\n",
    "# glimpse() |>\n",
    "# keep only needed columns\n",
    "select(GRID, starts_with('chip_'), AF_wgs, DP_wgs) |>\n",
    "glimpse() ->\n",
    "chip_calls_wgs"
   ]
  },
  {
   "cell_type": "code",
   "execution_count": null,
   "metadata": {
    "ExecuteTime": {
     "end_time": "2025-04-29T17:46:14.314619Z",
     "start_time": "2025-04-29T17:46:14.161Z"
    },
    "scrolled": true
   },
   "outputs": [],
   "source": [
    "chip_calls_wgs$GRID |> lu()"
   ]
  },
  {
   "cell_type": "code",
   "execution_count": null,
   "metadata": {
    "ExecuteTime": {
     "end_time": "2025-04-29T17:46:14.995649Z",
     "start_time": "2025-04-29T17:46:14.848Z"
    }
   },
   "outputs": [],
   "source": [
    "mean(chip_calls_wgs$GRID %in% cohort_dts_wgs$GRID)"
   ]
  },
  {
   "cell_type": "markdown",
   "metadata": {},
   "source": [
    "# cohort basics"
   ]
  },
  {
   "cell_type": "code",
   "execution_count": null,
   "metadata": {
    "ExecuteTime": {
     "end_time": "2025-04-29T17:46:16.116268Z",
     "start_time": "2025-04-29T17:46:15.951Z"
    }
   },
   "outputs": [],
   "source": [
    "# size of study cohort?\n",
    "nrow(cohort_dts_wgs)"
   ]
  },
  {
   "cell_type": "code",
   "execution_count": null,
   "metadata": {
    "ExecuteTime": {
     "end_time": "2025-04-29T17:46:16.864591Z",
     "start_time": "2025-04-29T17:46:16.729Z"
    }
   },
   "outputs": [],
   "source": [
    "# how many have CHIP by gold standard?\n",
    "nrow(chip_calls_dts |> distinct(GRID))"
   ]
  },
  {
   "cell_type": "code",
   "execution_count": null,
   "metadata": {
    "ExecuteTime": {
     "end_time": "2025-04-29T17:46:17.536623Z",
     "start_time": "2025-04-29T17:46:17.394Z"
    }
   },
   "outputs": [],
   "source": [
    "# what % have CHIP?\n",
    "round(100 * nrow(distinct(chip_calls_dts, GRID))/nrow(cohort_dts_wgs))"
   ]
  },
  {
   "cell_type": "code",
   "execution_count": null,
   "metadata": {
    "ExecuteTime": {
     "end_time": "2025-04-29T17:46:18.186077Z",
     "start_time": "2025-04-29T17:46:18.014Z"
    }
   },
   "outputs": [],
   "source": [
    "# how many have single CHIP vs multi-CHIP?\n",
    "chip_calls_dts |>\n",
    "filter(!is.na(chip_gene_dts)) |>\n",
    "count(GRID) |>\n",
    "count(n, name = 'num_chip_muts')"
   ]
  },
  {
   "cell_type": "markdown",
   "metadata": {},
   "source": [
    "# sens/spec by person"
   ]
  },
  {
   "cell_type": "code",
   "execution_count": null,
   "metadata": {
    "ExecuteTime": {
     "end_time": "2025-04-29T17:46:20.694975Z",
     "start_time": "2025-04-29T17:46:20.177Z"
    }
   },
   "outputs": [],
   "source": [
    "cohort_dts_wgs |>\n",
    "left_join(\n",
    "    chip_calls_dts |>\n",
    "    group_by(GRID) |>\n",
    "    summarise(AF_dts = max(AF_dts))\n",
    ") |>\n",
    "left_join(\n",
    "    chip_calls_wgs |>\n",
    "    group_by(GRID) |>\n",
    "    summarise(AF_wgs = max(AF_wgs))\n",
    ") |>\n",
    "glimpse() ->\n",
    "chip_calls_joined_byperson"
   ]
  },
  {
   "cell_type": "code",
   "execution_count": null,
   "metadata": {
    "ExecuteTime": {
     "end_time": "2025-04-29T17:46:21.408504Z",
     "start_time": "2025-04-29T17:46:21.258Z"
    }
   },
   "outputs": [],
   "source": [
    "chip_calls_joined_byperson |>\n",
    "filter(is.na(AF_dts)) |>\n",
    "pull(AF_wgs) |>\n",
    "is.na() |> mean() |> print() ->\n",
    "wgs_spec"
   ]
  },
  {
   "cell_type": "code",
   "execution_count": null,
   "metadata": {
    "ExecuteTime": {
     "end_time": "2025-04-29T17:46:22.339678Z",
     "start_time": "2025-04-29T17:46:22.191Z"
    }
   },
   "outputs": [],
   "source": [
    "chip_calls_joined_byperson |>\n",
    "filter(!is.na(AF_dts)) |>\n",
    "pull(AF_wgs) |>\n",
    "is_not_na() |> mean() |> print() ->\n",
    "wgs_sens"
   ]
  },
  {
   "cell_type": "code",
   "execution_count": null,
   "metadata": {
    "ExecuteTime": {
     "end_time": "2025-04-29T17:46:23.004245Z",
     "start_time": "2025-04-29T17:46:22.855Z"
    }
   },
   "outputs": [],
   "source": [
    "chip_calls_joined_byperson |>\n",
    "filter(!is.na(AF_dts)) |>\n",
    "filter(AF_dts > 0.05) |>\n",
    "pull(AF_wgs) |>\n",
    "is_not_na() |> mean() |> print() ->\n",
    "wgs_sens_gt_05"
   ]
  },
  {
   "cell_type": "code",
   "execution_count": null,
   "metadata": {
    "ExecuteTime": {
     "end_time": "2025-04-29T17:46:23.625592Z",
     "start_time": "2025-04-29T17:46:23.468Z"
    }
   },
   "outputs": [],
   "source": [
    "chip_calls_joined_byperson |>\n",
    "filter(!is.na(AF_dts)) |>\n",
    "filter(AF_dts > 0.1) |>\n",
    "pull(AF_wgs) |>\n",
    "is_not_na() |> mean() |> print() ->\n",
    "wgs_sens_gt_10"
   ]
  },
  {
   "cell_type": "code",
   "execution_count": null,
   "metadata": {
    "ExecuteTime": {
     "end_time": "2025-04-29T17:46:27.677632Z",
     "start_time": "2025-04-29T17:46:27.165Z"
    },
    "scrolled": false
   },
   "outputs": [],
   "source": [
    "tibble(\n",
    "    `specificity` = wgs_spec,\n",
    "    `sensitivity for people\\nwith CHIP` = wgs_sens,\n",
    "    `sensitivity for people\\nwith AF > 5%` = wgs_sens_gt_05,\n",
    "    `sensitivity for people\\nwith AF > 10%` = wgs_sens_gt_10) |>\n",
    "pivot_longer(cols = everything()) |>\n",
    "print() |>\n",
    "mutate(name = factor(name, levels = name)) |>\n",
    "ggplot(aes(x = name, y = value)) +\n",
    "geom_bar(stat = 'identity') +\n",
    "theme_bw() +\n",
    "labs(x = NULL, y = 'sensitivity or specificity')"
   ]
  },
  {
   "cell_type": "code",
   "execution_count": null,
   "metadata": {
    "ExecuteTime": {
     "end_time": "2025-04-29T17:46:28.372273Z",
     "start_time": "2025-04-29T17:46:28.118Z"
    }
   },
   "outputs": [],
   "source": [
    "ggsave('wgs_sens_spec_byperson.pdf', height = 4, width = 6)"
   ]
  },
  {
   "cell_type": "markdown",
   "metadata": {},
   "source": [
    "# sens/spec by variant"
   ]
  },
  {
   "cell_type": "code",
   "execution_count": null,
   "metadata": {
    "ExecuteTime": {
     "end_time": "2025-04-29T17:46:31.561430Z",
     "start_time": "2025-04-29T17:46:31.392Z"
    }
   },
   "outputs": [],
   "source": [
    "chip_calls_dts |>\n",
    "full_join(chip_calls_wgs, \n",
    "          by = join_by(\n",
    "              GRID, \n",
    "              chip_gene_dts == chip_gene_wgs,\n",
    "              chip_mut_aachange_dts == chip_mut_aachange_wgs)) |>\n",
    "full_join(cohort_dts_wgs, by = 'GRID') |>\n",
    "glimpse() ->\n",
    "chip_calls_joined_byvariant"
   ]
  },
  {
   "cell_type": "code",
   "execution_count": null,
   "metadata": {
    "ExecuteTime": {
     "end_time": "2025-04-29T17:46:31.808946Z",
     "start_time": "2025-04-29T17:46:31.659Z"
    }
   },
   "outputs": [],
   "source": [
    "chip_calls_joined_byvariant |>\n",
    "filter(is.na(AF_dts)) |>\n",
    "pull(AF_wgs) |>\n",
    "is.na() |> mean() |> print() ->\n",
    "wgs_spec"
   ]
  },
  {
   "cell_type": "code",
   "execution_count": null,
   "metadata": {
    "ExecuteTime": {
     "end_time": "2025-04-29T17:46:32.097627Z",
     "start_time": "2025-04-29T17:46:31.948Z"
    }
   },
   "outputs": [],
   "source": [
    "chip_calls_joined_byvariant |>\n",
    "filter(is.na(AF_dts), !is.na(AF_wgs)) |>\n",
    "# glimpse()\n",
    "# ggplot(aes(x = age_at_biosample, y = AF_wgs)) + geom_point()\n",
    "# ggplot(aes(x = AF_wgs)) + geom_histogram()\n",
    "pull(AF_wgs) ->\n",
    "false_pos_AF_wgs"
   ]
  },
  {
   "cell_type": "code",
   "execution_count": null,
   "metadata": {
    "ExecuteTime": {
     "end_time": "2025-04-29T17:46:32.593162Z",
     "start_time": "2025-04-29T17:46:32.448Z"
    }
   },
   "outputs": [],
   "source": [
    "# for use in sims\n",
    "# dput(false_pos_AF_wgs)"
   ]
  },
  {
   "cell_type": "code",
   "execution_count": null,
   "metadata": {
    "ExecuteTime": {
     "end_time": "2025-04-29T17:46:32.897449Z",
     "start_time": "2025-04-29T17:46:32.749Z"
    }
   },
   "outputs": [],
   "source": [
    "chip_calls_joined_byvariant |>\n",
    "filter(!is.na(AF_dts)) |>\n",
    "pull(AF_wgs) |>\n",
    "is_not_na() |> mean() |> print() ->\n",
    "wgs_sens"
   ]
  },
  {
   "cell_type": "code",
   "execution_count": null,
   "metadata": {
    "ExecuteTime": {
     "end_time": "2025-04-29T17:46:33.349763Z",
     "start_time": "2025-04-29T17:46:33.198Z"
    }
   },
   "outputs": [],
   "source": [
    "chip_calls_joined_byvariant |>\n",
    "filter(!is.na(AF_dts)) |>\n",
    "filter(AF_dts > 0.05) |>\n",
    "pull(AF_wgs) |>\n",
    "is_not_na() |> mean() |> print() ->\n",
    "wgs_sens_gt_05"
   ]
  },
  {
   "cell_type": "code",
   "execution_count": null,
   "metadata": {
    "ExecuteTime": {
     "end_time": "2025-04-29T17:46:33.651783Z",
     "start_time": "2025-04-29T17:46:33.511Z"
    }
   },
   "outputs": [],
   "source": [
    "chip_calls_joined_byvariant |>\n",
    "filter(!is.na(AF_dts)) |>\n",
    "filter(AF_dts > 0.1) |>\n",
    "pull(AF_wgs) |>\n",
    "is_not_na() |> mean() |> print() ->\n",
    "wgs_sens_gt_10"
   ]
  },
  {
   "cell_type": "code",
   "execution_count": null,
   "metadata": {
    "ExecuteTime": {
     "end_time": "2025-04-29T17:46:34.444949Z",
     "start_time": "2025-04-29T17:46:34.287Z"
    }
   },
   "outputs": [],
   "source": [
    "chip_calls_joined_byvariant |>\n",
    "filter(!is.na(AF_dts)) |>\n",
    "filter(AF_dts > 0.2) |>\n",
    "pull(AF_wgs) |>\n",
    "is_not_na() |>\n",
    "mean() ->\n",
    "wgs_sens_gt_20"
   ]
  },
  {
   "cell_type": "code",
   "execution_count": null,
   "metadata": {
    "ExecuteTime": {
     "end_time": "2025-04-29T17:46:35.390880Z",
     "start_time": "2025-04-29T17:46:35.065Z"
    }
   },
   "outputs": [],
   "source": [
    "tibble(\n",
    "    `specificity` = wgs_spec,\n",
    "    `sensitivity for CHIP\\nvariants` = wgs_sens,\n",
    "    `sensitivity for variants\\nwith AF > 5%` = wgs_sens_gt_05,\n",
    "    `sensitivity for variants\\nwith AF > 10%` = wgs_sens_gt_10) |>\n",
    "pivot_longer(cols = everything()) |>\n",
    "mutate(name = factor(name, levels = name)) |>\n",
    "ggplot(aes(x = name, y = value)) +\n",
    "geom_bar(stat = 'identity') +\n",
    "scale_y_continuous(labels = scales::percent) +\n",
    "theme_bw() +\n",
    "labs(x = NULL, y = 'sensitivity or specificity')"
   ]
  },
  {
   "cell_type": "code",
   "execution_count": null,
   "metadata": {
    "ExecuteTime": {
     "end_time": "2025-04-29T17:46:36.558049Z",
     "start_time": "2025-04-29T17:46:36.305Z"
    }
   },
   "outputs": [],
   "source": [
    "ggsave('wgs_sens_spec_byvariant.pdf', height = 4, width = 6)"
   ]
  },
  {
   "cell_type": "code",
   "execution_count": null,
   "metadata": {
    "ExecuteTime": {
     "end_time": "2025-04-29T17:46:36.862653Z",
     "start_time": "2025-04-29T17:46:36.702Z"
    }
   },
   "outputs": [],
   "source": [
    "chip_calls_joined_byvariant |>\n",
    "filter(AF_wgs != 0 & AF_dts != 0) |>\n",
    "lm(AF_wgs ~ AF_dts, data = _) |>\n",
    "tidy()"
   ]
  },
  {
   "cell_type": "code",
   "execution_count": null,
   "metadata": {
    "ExecuteTime": {
     "end_time": "2025-04-29T17:46:37.993262Z",
     "start_time": "2025-04-29T17:46:37.329Z"
    }
   },
   "outputs": [],
   "source": [
    "chip_calls_joined_byvariant |>\n",
    "filter(AF_wgs != 0 & AF_dts != 0) |>\n",
    "# glimpse() \n",
    "ggplot(aes(x = AF_dts, y = AF_wgs)) +\n",
    "geom_point(aes(color = factor(round(DP_wgs, -1)))) +\n",
    "geom_abline(slope = 1, intercept = 0) +\n",
    "# geom_abline(slope = 1, intercept = -0.05, color = 'blue') +\n",
    "# geom_abline(slope = 1, intercept = 0.05, color = 'blue') +\n",
    "geom_smooth(method = 'lm') +\n",
    "theme_bw() +\n",
    "xlim(c(0, 0.45)) +\n",
    "ylim(c(0, 0.45)) +\n",
    "labs(x = 'AF', y = 'WGS-estimated AF', color = 'depth') \n",
    "\n",
    "ggsave('AF_dotplot.pdf', height = 4, width = 5)"
   ]
  },
  {
   "cell_type": "code",
   "execution_count": null,
   "metadata": {
    "ExecuteTime": {
     "end_time": "2025-04-29T17:46:38.263447Z",
     "start_time": "2025-04-29T17:46:38.101Z"
    }
   },
   "outputs": [],
   "source": [
    "chip_calls_joined_byvariant |>\n",
    "filter(AF_wgs != 0 & AF_dts != 0) |>\n",
    "mutate(AF_dev = abs(AF_dts - AF_wgs)) |>\n",
    "lm(AF_dev ~ DP_wgs, data = _) |>\n",
    "tidy()"
   ]
  },
  {
   "cell_type": "code",
   "execution_count": null,
   "metadata": {
    "ExecuteTime": {
     "end_time": "2025-04-29T17:46:39.057807Z",
     "start_time": "2025-04-29T17:46:38.896Z"
    }
   },
   "outputs": [],
   "source": [
    "chip_calls_joined_byvariant |>\n",
    "filter(AF_wgs != 0 & AF_dts != 0) |>\n",
    "mutate(AF_dev = (AF_dts - AF_wgs)^2) |>\n",
    "lm(AF_dev ~ DP_wgs, data = _) |>\n",
    "tidy()"
   ]
  },
  {
   "cell_type": "code",
   "execution_count": null,
   "metadata": {},
   "outputs": [],
   "source": []
  }
 ],
 "metadata": {
  "kernelspec": {
   "display_name": "R",
   "language": "R",
   "name": "ir"
  },
  "language_info": {
   "codemirror_mode": "r",
   "file_extension": ".r",
   "mimetype": "text/x-r-source",
   "name": "R",
   "pygments_lexer": "r",
   "version": "4.4.2"
  },
  "toc": {
   "base_numbering": 1,
   "nav_menu": {},
   "number_sections": true,
   "sideBar": true,
   "skip_h1_title": false,
   "title_cell": "Table of Contents",
   "title_sidebar": "Contents",
   "toc_cell": false,
   "toc_position": {},
   "toc_section_display": true,
   "toc_window_display": false
  }
 },
 "nbformat": 4,
 "nbformat_minor": 2
}
