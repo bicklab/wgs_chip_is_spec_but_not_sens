{
 "cells": [
  {
   "cell_type": "code",
   "execution_count": 3,
   "metadata": {},
   "outputs": [
    {
     "name": "stderr",
     "output_type": "stream",
     "text": [
      "Warning message in system(command = text, intern = TRUE):\n",
      "“running command 'gsutil -u $GOOGLE_PROJECT cp rwc - WGS vs targeted seq.ipynb gs://fc-secure-95fec9d6-9173-477a-822e-cad4b97c8f0d/rcorty/' had status 1”\n"
     ]
    },
    {
     "data": {
      "text/html": [],
      "text/latex": [],
      "text/markdown": [],
      "text/plain": [
       "character(0)\n",
       "attr(,\"status\")\n",
       "[1] 1\n",
       "attr(,\"errmsg\")\n",
       "[1] \"Resource temporarily unavailable\""
      ]
     },
     "metadata": {},
     "output_type": "display_data"
    }
   ],
   "source": [
    "gscp('rwc - WGS vs targeted seq.ipynb', glue('{WORKSPACE_BUCKET}/rcorty/'))"
   ]
  },
  {
   "cell_type": "markdown",
   "metadata": {},
   "source": [
    "# setup"
   ]
  },
  {
   "cell_type": "code",
   "execution_count": 1,
   "metadata": {
    "ExecuteTime": {
     "end_time": "2025-07-14T19:30:23.189585Z",
     "start_time": "2025-07-14T19:30:22.064Z"
    }
   },
   "outputs": [],
   "source": [
    "#R.version"
   ]
  },
  {
   "cell_type": "code",
   "execution_count": 2,
   "metadata": {
    "ExecuteTime": {
     "end_time": "2025-07-14T19:42:15.626704Z",
     "start_time": "2025-07-14T19:42:15.551Z"
    }
   },
   "outputs": [
    {
     "name": "stderr",
     "output_type": "stream",
     "text": [
      "── \u001b[1mAttaching core tidyverse packages\u001b[22m ──────────────────────── tidyverse 2.0.0 ──\n",
      "\u001b[32m✔\u001b[39m \u001b[34mdplyr    \u001b[39m 1.1.4     \u001b[32m✔\u001b[39m \u001b[34mreadr    \u001b[39m 2.1.5\n",
      "\u001b[32m✔\u001b[39m \u001b[34mforcats  \u001b[39m 1.0.0     \u001b[32m✔\u001b[39m \u001b[34mstringr  \u001b[39m 1.5.1\n",
      "\u001b[32m✔\u001b[39m \u001b[34mggplot2  \u001b[39m 3.5.2     \u001b[32m✔\u001b[39m \u001b[34mtibble   \u001b[39m 3.3.0\n",
      "\u001b[32m✔\u001b[39m \u001b[34mlubridate\u001b[39m 1.9.4     \u001b[32m✔\u001b[39m \u001b[34mtidyr    \u001b[39m 1.3.1\n",
      "\u001b[32m✔\u001b[39m \u001b[34mpurrr    \u001b[39m 1.1.0     \n",
      "── \u001b[1mConflicts\u001b[22m ────────────────────────────────────────── tidyverse_conflicts() ──\n",
      "\u001b[31m✖\u001b[39m \u001b[34mdplyr\u001b[39m::\u001b[32mfilter()\u001b[39m masks \u001b[34mstats\u001b[39m::filter()\n",
      "\u001b[31m✖\u001b[39m \u001b[34mdplyr\u001b[39m::\u001b[32mlag()\u001b[39m    masks \u001b[34mstats\u001b[39m::lag()\n",
      "\u001b[36mℹ\u001b[39m Use the conflicted package (\u001b[3m\u001b[34m<http://conflicted.r-lib.org/>\u001b[39m\u001b[23m) to force all conflicts to become errors\n"
     ]
    }
   ],
   "source": [
    "library(broom)\n",
    "library(tidyverse)\n",
    "library(glue)\n",
    "library(CortyKit2)"
   ]
  },
  {
   "cell_type": "code",
   "execution_count": 3,
   "metadata": {
    "ExecuteTime": {
     "end_time": "2025-07-14T19:42:31.548640Z",
     "start_time": "2025-07-14T19:42:29.706Z"
    },
    "scrolled": true
   },
   "outputs": [
    {
     "name": "stderr",
     "output_type": "stream",
     "text": [
      "all results of gsutil ls start with gs://fc-secure-95fec9d6-9173-477a-822e-cad4b97c8f0d/rcorty/\n",
      "\n"
     ]
    },
    {
     "data": {
      "text/html": [
       "<style>\n",
       ".list-inline {list-style: none; margin:0; padding: 0}\n",
       ".list-inline>li {display: inline-block}\n",
       ".list-inline>li:not(:last-child)::after {content: \"\\00b7\"; padding: 0 .5ex}\n",
       "</style>\n",
       "<ol class=list-inline><li>'AGD250kcohortshiftedsampledates.csv'</li><li>'AGD_March_2025_SampleIDMap.csv'</li><li>'SRSF1.bed'</li><li>'TERT.bed'</li><li>'WGS_DTS_chip_calls_joined_by_variant.tsv'</li><li>'chip_calls_byperson_DP_15p_AD2_2p_bs.tsv'</li><li>'chip_calls_byperson_DP_15p_AD2_2p_bs_35k_cohort.tsv'</li><li>'chip_calls_byperson_DP_15p_AD2_2p_os.tsv'</li><li>'chip_calls_byperson_DP_15p_AD2_3p_bs.tsv'</li><li>'chip_calls_byperson_DP_15p_AD2_3p_os.tsv'</li><li>'chip_calls_byperson_DP_15p_AD2_4p_bs.tsv'</li><li>'chip_calls_byperson_DP_15p_AD2_4p_os.tsv'</li><li>'chip_calls_byperson_DP_15p_AD2_5p_bs.tsv'</li><li>'chip_calls_byperson_DP_15p_AD2_5p_os.tsv'</li><li>'chip_vars_DP_15p_AD2_2p_bs.tsv'</li><li>'chip_vars_DP_15p_AD2_2p_os.tsv'</li><li>'chip_vars_DP_15p_AD2_3p_bs.tsv'</li><li>'chip_vars_DP_15p_AD2_3p_os.tsv'</li><li>'chip_vars_DP_15p_AD2_4p_bs.tsv'</li><li>'chip_vars_DP_15p_AD2_4p_os.tsv'</li><li>'chip_vars_DP_15p_AD2_5p_bs.tsv'</li><li>'chip_vars_DP_15p_AD2_5p_os.tsv'</li><li>'demog_of_agd.csv'</li><li>'targeted_sequencing_biovu_rad_mtp_kidney_yp_03182025.tsv'</li><li>'wgs_CHIP_is_spec_but_not_sens.ipynb'</li><li>'score_files/'</li></ol>\n"
      ],
      "text/latex": [
       "\\begin{enumerate*}\n",
       "\\item 'AGD250kcohortshiftedsampledates.csv'\n",
       "\\item 'AGD\\_March\\_2025\\_SampleIDMap.csv'\n",
       "\\item 'SRSF1.bed'\n",
       "\\item 'TERT.bed'\n",
       "\\item 'WGS\\_DTS\\_chip\\_calls\\_joined\\_by\\_variant.tsv'\n",
       "\\item 'chip\\_calls\\_byperson\\_DP\\_15p\\_AD2\\_2p\\_bs.tsv'\n",
       "\\item 'chip\\_calls\\_byperson\\_DP\\_15p\\_AD2\\_2p\\_bs\\_35k\\_cohort.tsv'\n",
       "\\item 'chip\\_calls\\_byperson\\_DP\\_15p\\_AD2\\_2p\\_os.tsv'\n",
       "\\item 'chip\\_calls\\_byperson\\_DP\\_15p\\_AD2\\_3p\\_bs.tsv'\n",
       "\\item 'chip\\_calls\\_byperson\\_DP\\_15p\\_AD2\\_3p\\_os.tsv'\n",
       "\\item 'chip\\_calls\\_byperson\\_DP\\_15p\\_AD2\\_4p\\_bs.tsv'\n",
       "\\item 'chip\\_calls\\_byperson\\_DP\\_15p\\_AD2\\_4p\\_os.tsv'\n",
       "\\item 'chip\\_calls\\_byperson\\_DP\\_15p\\_AD2\\_5p\\_bs.tsv'\n",
       "\\item 'chip\\_calls\\_byperson\\_DP\\_15p\\_AD2\\_5p\\_os.tsv'\n",
       "\\item 'chip\\_vars\\_DP\\_15p\\_AD2\\_2p\\_bs.tsv'\n",
       "\\item 'chip\\_vars\\_DP\\_15p\\_AD2\\_2p\\_os.tsv'\n",
       "\\item 'chip\\_vars\\_DP\\_15p\\_AD2\\_3p\\_bs.tsv'\n",
       "\\item 'chip\\_vars\\_DP\\_15p\\_AD2\\_3p\\_os.tsv'\n",
       "\\item 'chip\\_vars\\_DP\\_15p\\_AD2\\_4p\\_bs.tsv'\n",
       "\\item 'chip\\_vars\\_DP\\_15p\\_AD2\\_4p\\_os.tsv'\n",
       "\\item 'chip\\_vars\\_DP\\_15p\\_AD2\\_5p\\_bs.tsv'\n",
       "\\item 'chip\\_vars\\_DP\\_15p\\_AD2\\_5p\\_os.tsv'\n",
       "\\item 'demog\\_of\\_agd.csv'\n",
       "\\item 'targeted\\_sequencing\\_biovu\\_rad\\_mtp\\_kidney\\_yp\\_03182025.tsv'\n",
       "\\item 'wgs\\_CHIP\\_is\\_spec\\_but\\_not\\_sens.ipynb'\n",
       "\\item 'score\\_files/'\n",
       "\\end{enumerate*}\n"
      ],
      "text/markdown": [
       "1. 'AGD250kcohortshiftedsampledates.csv'\n",
       "2. 'AGD_March_2025_SampleIDMap.csv'\n",
       "3. 'SRSF1.bed'\n",
       "4. 'TERT.bed'\n",
       "5. 'WGS_DTS_chip_calls_joined_by_variant.tsv'\n",
       "6. 'chip_calls_byperson_DP_15p_AD2_2p_bs.tsv'\n",
       "7. 'chip_calls_byperson_DP_15p_AD2_2p_bs_35k_cohort.tsv'\n",
       "8. 'chip_calls_byperson_DP_15p_AD2_2p_os.tsv'\n",
       "9. 'chip_calls_byperson_DP_15p_AD2_3p_bs.tsv'\n",
       "10. 'chip_calls_byperson_DP_15p_AD2_3p_os.tsv'\n",
       "11. 'chip_calls_byperson_DP_15p_AD2_4p_bs.tsv'\n",
       "12. 'chip_calls_byperson_DP_15p_AD2_4p_os.tsv'\n",
       "13. 'chip_calls_byperson_DP_15p_AD2_5p_bs.tsv'\n",
       "14. 'chip_calls_byperson_DP_15p_AD2_5p_os.tsv'\n",
       "15. 'chip_vars_DP_15p_AD2_2p_bs.tsv'\n",
       "16. 'chip_vars_DP_15p_AD2_2p_os.tsv'\n",
       "17. 'chip_vars_DP_15p_AD2_3p_bs.tsv'\n",
       "18. 'chip_vars_DP_15p_AD2_3p_os.tsv'\n",
       "19. 'chip_vars_DP_15p_AD2_4p_bs.tsv'\n",
       "20. 'chip_vars_DP_15p_AD2_4p_os.tsv'\n",
       "21. 'chip_vars_DP_15p_AD2_5p_bs.tsv'\n",
       "22. 'chip_vars_DP_15p_AD2_5p_os.tsv'\n",
       "23. 'demog_of_agd.csv'\n",
       "24. 'targeted_sequencing_biovu_rad_mtp_kidney_yp_03182025.tsv'\n",
       "25. 'wgs_CHIP_is_spec_but_not_sens.ipynb'\n",
       "26. 'score_files/'\n",
       "\n",
       "\n"
      ],
      "text/plain": [
       " [1] \"AGD250kcohortshiftedsampledates.csv\"                     \n",
       " [2] \"AGD_March_2025_SampleIDMap.csv\"                          \n",
       " [3] \"SRSF1.bed\"                                               \n",
       " [4] \"TERT.bed\"                                                \n",
       " [5] \"WGS_DTS_chip_calls_joined_by_variant.tsv\"                \n",
       " [6] \"chip_calls_byperson_DP_15p_AD2_2p_bs.tsv\"                \n",
       " [7] \"chip_calls_byperson_DP_15p_AD2_2p_bs_35k_cohort.tsv\"     \n",
       " [8] \"chip_calls_byperson_DP_15p_AD2_2p_os.tsv\"                \n",
       " [9] \"chip_calls_byperson_DP_15p_AD2_3p_bs.tsv\"                \n",
       "[10] \"chip_calls_byperson_DP_15p_AD2_3p_os.tsv\"                \n",
       "[11] \"chip_calls_byperson_DP_15p_AD2_4p_bs.tsv\"                \n",
       "[12] \"chip_calls_byperson_DP_15p_AD2_4p_os.tsv\"                \n",
       "[13] \"chip_calls_byperson_DP_15p_AD2_5p_bs.tsv\"                \n",
       "[14] \"chip_calls_byperson_DP_15p_AD2_5p_os.tsv\"                \n",
       "[15] \"chip_vars_DP_15p_AD2_2p_bs.tsv\"                          \n",
       "[16] \"chip_vars_DP_15p_AD2_2p_os.tsv\"                          \n",
       "[17] \"chip_vars_DP_15p_AD2_3p_bs.tsv\"                          \n",
       "[18] \"chip_vars_DP_15p_AD2_3p_os.tsv\"                          \n",
       "[19] \"chip_vars_DP_15p_AD2_4p_bs.tsv\"                          \n",
       "[20] \"chip_vars_DP_15p_AD2_4p_os.tsv\"                          \n",
       "[21] \"chip_vars_DP_15p_AD2_5p_bs.tsv\"                          \n",
       "[22] \"chip_vars_DP_15p_AD2_5p_os.tsv\"                          \n",
       "[23] \"demog_of_agd.csv\"                                        \n",
       "[24] \"targeted_sequencing_biovu_rad_mtp_kidney_yp_03182025.tsv\"\n",
       "[25] \"wgs_CHIP_is_spec_but_not_sens.ipynb\"                     \n",
       "[26] \"score_files/\"                                            "
      ]
     },
     "metadata": {},
     "output_type": "display_data"
    }
   ],
   "source": [
    "gsls(glue('{WORKSPACE_BUCKET}/rcorty'))"
   ]
  },
  {
   "cell_type": "code",
   "execution_count": 4,
   "metadata": {
    "ExecuteTime": {
     "end_time": "2025-07-14T19:30:32.921467Z",
     "start_time": "2025-07-14T19:30:32.865Z"
    }
   },
   "outputs": [],
   "source": [
    "# gscp('gs://fc-secure-95fec9d6-9173-477a-822e-cad4b97c8f0d/rcorty/AGD250kcohortshiftedsampledates.csv')"
   ]
  },
  {
   "cell_type": "code",
   "execution_count": 5,
   "metadata": {},
   "outputs": [],
   "source": [
    "# gscp('gs://fc-secure-95fec9d6-9173-477a-822e-cad4b97c8f0d/rcorty/AGD_March_2025_SampleIDMap.csv')"
   ]
  },
  {
   "cell_type": "code",
   "execution_count": 6,
   "metadata": {},
   "outputs": [],
   "source": [
    "# gscp('gs://fc-secure-95fec9d6-9173-477a-822e-cad4b97c8f0d/rcorty/demog_of_agd.csv')"
   ]
  },
  {
   "cell_type": "code",
   "execution_count": 7,
   "metadata": {},
   "outputs": [],
   "source": [
    "# gscp('gs://fc-secure-95fec9d6-9173-477a-822e-cad4b97c8f0d/rcorty/targeted_sequencing*')"
   ]
  },
  {
   "cell_type": "code",
   "execution_count": 8,
   "metadata": {
    "ExecuteTime": {
     "end_time": "2025-07-14T19:30:36.241485Z",
     "start_time": "2025-07-14T19:30:33.204Z"
    }
   },
   "outputs": [
    {
     "name": "stderr",
     "output_type": "stream",
     "text": [
      "\u001b[1m\u001b[22mJoining with `by = join_by(GRID)`\n",
      "\u001b[1m\u001b[22mJoining with `by = join_by(GRID)`\n",
      "\u001b[1m\u001b[22mJoining with `by = join_by(GRID)`\n"
     ]
    },
    {
     "name": "stdout",
     "output_type": "stream",
     "text": [
      "Rows: 9,925\n",
      "Columns: 7\n",
      "$ GRID             \u001b[3m\u001b[90m<chr>\u001b[39m\u001b[23m \"R266326281\"\u001b[90m, \u001b[39m\"R291706619\"\u001b[90m, \u001b[39m\"R269032555\"\u001b[90m, \u001b[39m\"R220168678…\n",
      "$ biosample_date   \u001b[3m\u001b[90m<date>\u001b[39m\u001b[23m 2007-04-15\u001b[90m, \u001b[39m2007-01-03\u001b[90m, \u001b[39m2015-04-24\u001b[90m, \u001b[39m2010-06-05\u001b[90m, \u001b[39m2010…\n",
      "$ SAMPLE_ID        \u001b[3m\u001b[90m<dbl>\u001b[39m\u001b[23m 100118647\u001b[90m, \u001b[39m100046382\u001b[90m, \u001b[39m100248046\u001b[90m, \u001b[39m100113980\u001b[90m, \u001b[39m100242018…\n",
      "$ person_id        \u001b[3m\u001b[90m<dbl>\u001b[39m\u001b[23m 410132\u001b[90m, \u001b[39m2793542\u001b[90m, \u001b[39m1628809\u001b[90m, \u001b[39m1298642\u001b[90m, \u001b[39m1723942\u001b[90m, \u001b[39m1420199\u001b[90m, \u001b[39m…\n",
      "$ birth_date       \u001b[3m\u001b[90m<dttm>\u001b[39m\u001b[23m 1943-10-27\u001b[90m, \u001b[39m1948-03-13\u001b[90m, \u001b[39m1950-02-19\u001b[90m, \u001b[39m1940-04-27\u001b[90m, \u001b[39m1936…\n",
      "$ gender           \u001b[3m\u001b[90m<chr>\u001b[39m\u001b[23m \"M\"\u001b[90m, \u001b[39m\"M\"\u001b[90m, \u001b[39m\"F\"\u001b[90m, \u001b[39m\"M\"\u001b[90m, \u001b[39m\"F\"\u001b[90m, \u001b[39m\"F\"\u001b[90m, \u001b[39m\"M\"\u001b[90m, \u001b[39m\"M\"\u001b[90m, \u001b[39m\"M\"\u001b[90m, \u001b[39m\"M\"\u001b[90m, \u001b[39m\"F\"…\n",
      "$ age_at_biosample \u001b[3m\u001b[90m<dbl>\u001b[39m\u001b[23m 63.46786\u001b[90m, \u001b[39m58.81065\u001b[90m, \u001b[39m65.17632\u001b[90m, \u001b[39m70.10733\u001b[90m, \u001b[39m74.77275\u001b[90m, \u001b[39m58.…\n"
     ]
    }
   ],
   "source": [
    "# read in all AGD data\n",
    "'AGD250kcohortshiftedsampledates.csv' |>\n",
    "read_csv(show_col_types = FALSE, \n",
    "         name_repair = ~str_replace_all(., ' ', '_')) |>\n",
    "# filter(!is.na(Data_Available)) |>\n",
    "mutate(biosample_date = mdy(SHIFTED_SAMPLE_DATE)) |>\n",
    "select(-SHIFTED_SAMPLE_DATE, -Data_Available) |>\n",
    "# join in sample ID\n",
    "left_join(read_csv('AGD_March_2025_SampleIDMap.csv', show_col_types = FALSE)) |>\n",
    "select(-OUTPUT_FOLDER_ID) |>\n",
    "# join in demographics\n",
    "left_join(read_csv('demog_of_agd.csv', show_col_types = FALSE)) |>\n",
    "# filtering join for DTS data\n",
    "semi_join(read_tsv('targeted_sequencing_biovu_rad_mtp_kidney_yp_03182025.tsv', show_col_types = FALSE)) |>\n",
    "mutate(age_at_biosample = years_between(birth_date, biosample_date)) |>\n",
    "glimpse() ->\n",
    "cohort_dts_wgs"
   ]
  },
  {
   "cell_type": "code",
   "execution_count": 9,
   "metadata": {
    "ExecuteTime": {
     "end_time": "2025-07-14T19:30:36.264246Z",
     "start_time": "2025-07-14T19:30:34.246Z"
    }
   },
   "outputs": [
    {
     "data": {
      "text/html": [
       "9925"
      ],
      "text/latex": [
       "9925"
      ],
      "text/markdown": [
       "9925"
      ],
      "text/plain": [
       "[1] 9925"
      ]
     },
     "metadata": {},
     "output_type": "display_data"
    }
   ],
   "source": [
    "cohort_dts_wgs$GRID |> lu()"
   ]
  },
  {
   "cell_type": "code",
   "execution_count": 10,
   "metadata": {
    "ExecuteTime": {
     "end_time": "2025-07-14T19:30:36.286497Z",
     "start_time": "2025-07-14T19:30:34.492Z"
    }
   },
   "outputs": [
    {
     "data": {
      "text/html": [
       "9925"
      ],
      "text/latex": [
       "9925"
      ],
      "text/markdown": [
       "9925"
      ],
      "text/plain": [
       "[1] 9925"
      ]
     },
     "metadata": {},
     "output_type": "display_data"
    }
   ],
   "source": [
    "cohort_dts_wgs$person_id |> lu()"
   ]
  },
  {
   "cell_type": "code",
   "execution_count": 11,
   "metadata": {
    "ExecuteTime": {
     "end_time": "2025-07-14T19:30:36.311358Z",
     "start_time": "2025-07-14T19:30:34.957Z"
    }
   },
   "outputs": [
    {
     "name": "stdout",
     "output_type": "stream",
     "text": [
      "Rows: 9,925\n",
      "Columns: 2\n",
      "$ person_id      \u001b[3m\u001b[90m<dbl>\u001b[39m\u001b[23m 410132\u001b[90m, \u001b[39m2793542\u001b[90m, \u001b[39m1628809\u001b[90m, \u001b[39m1298642\u001b[90m, \u001b[39m1723942\u001b[90m, \u001b[39m1420199\u001b[90m, \u001b[39m17…\n",
      "$ biosample_date \u001b[3m\u001b[90m<date>\u001b[39m\u001b[23m 2007-04-15\u001b[90m, \u001b[39m2007-01-03\u001b[90m, \u001b[39m2015-04-24\u001b[90m, \u001b[39m2010-06-05\u001b[90m, \u001b[39m2010-1…\n"
     ]
    }
   ],
   "source": [
    "cohort_dts_wgs |> distinct(person_id, biosample_date) |> glimpse()"
   ]
  },
  {
   "cell_type": "markdown",
   "metadata": {},
   "source": [
    "# read in and prep targeted seq calls"
   ]
  },
  {
   "cell_type": "code",
   "execution_count": 12,
   "metadata": {
    "ExecuteTime": {
     "end_time": "2025-07-14T19:30:36.327890Z",
     "start_time": "2025-07-14T19:30:35.832Z"
    }
   },
   "outputs": [],
   "source": [
    "# gscp('gs://bicklab-main-storage/Data/BioVU/targeted_sequencing_results/targeted_sequencing_biovu_rad_mtp_kidney_yp_03182025.tsv')"
   ]
  },
  {
   "cell_type": "code",
   "execution_count": 18,
   "metadata": {
    "ExecuteTime": {
     "end_time": "2025-07-14T19:39:18.545600Z",
     "start_time": "2025-07-14T19:39:18.406Z"
    },
    "scrolled": false
   },
   "outputs": [
    {
     "name": "stdout",
     "output_type": "stream",
     "text": [
      "Rows: 13,027\n",
      "Columns: 8\n",
      "$ GRID                  \u001b[3m\u001b[90m<chr>\u001b[39m\u001b[23m \"R221177023\"\u001b[90m, \u001b[39m\"R238211457\"\u001b[90m, \u001b[39m\"R202293796\"\u001b[90m, \u001b[39m\"R2377…\n",
      "$ cohort                \u001b[3m\u001b[90m<chr>\u001b[39m\u001b[23m \"kidney\"\u001b[90m, \u001b[39m\"kidney\"\u001b[90m, \u001b[39m\"kidney\"\u001b[90m, \u001b[39m\"kidney\"\u001b[90m, \u001b[39m\"kidney\"…\n",
      "$ biosample_date        \u001b[3m\u001b[90m<date>\u001b[39m\u001b[23m 2016-12-27\u001b[90m, \u001b[39m2007-03-21\u001b[90m, \u001b[39m2009-08-04\u001b[90m, \u001b[39m2009-01-24\u001b[90m,\u001b[39m…\n",
      "$ chip_gene_dts         \u001b[3m\u001b[90m<chr>\u001b[39m\u001b[23m \u001b[31mNA\u001b[39m\u001b[90m, \u001b[39m\u001b[31mNA\u001b[39m\u001b[90m, \u001b[39m\u001b[31mNA\u001b[39m\u001b[90m, \u001b[39m\u001b[31mNA\u001b[39m\u001b[90m, \u001b[39m\u001b[31mNA\u001b[39m\u001b[90m, \u001b[39m\u001b[31mNA\u001b[39m\u001b[90m, \u001b[39m\"DNMT3A\"\u001b[90m, \u001b[39m\"DNMT3A\"\u001b[90m, \u001b[39m\u001b[31mNA\u001b[39m\u001b[90m, \u001b[39m…\n",
      "$ chip_mut_func_dts     \u001b[3m\u001b[90m<chr>\u001b[39m\u001b[23m \u001b[31mNA\u001b[39m\u001b[90m, \u001b[39m\u001b[31mNA\u001b[39m\u001b[90m, \u001b[39m\u001b[31mNA\u001b[39m\u001b[90m, \u001b[39m\u001b[31mNA\u001b[39m\u001b[90m, \u001b[39m\u001b[31mNA\u001b[39m\u001b[90m, \u001b[39m\u001b[31mNA\u001b[39m\u001b[90m, \u001b[39m\"exonic\"\u001b[90m, \u001b[39m\"exonic\"\u001b[90m, \u001b[39m\u001b[31mNA\u001b[39m\u001b[90m, \u001b[39m…\n",
      "$ chip_mut_exofunc_dts  \u001b[3m\u001b[90m<chr>\u001b[39m\u001b[23m \u001b[31mNA\u001b[39m\u001b[90m, \u001b[39m\u001b[31mNA\u001b[39m\u001b[90m, \u001b[39m\u001b[31mNA\u001b[39m\u001b[90m, \u001b[39m\u001b[31mNA\u001b[39m\u001b[90m, \u001b[39m\u001b[31mNA\u001b[39m\u001b[90m, \u001b[39m\u001b[31mNA\u001b[39m\u001b[90m, \u001b[39m\"frameshift deletion\"\u001b[90m, \u001b[39m\"…\n",
      "$ chip_mut_aachange_dts \u001b[3m\u001b[90m<chr>\u001b[39m\u001b[23m \u001b[31mNA\u001b[39m\u001b[90m, \u001b[39m\u001b[31mNA\u001b[39m\u001b[90m, \u001b[39m\u001b[31mNA\u001b[39m\u001b[90m, \u001b[39m\u001b[31mNA\u001b[39m\u001b[90m, \u001b[39m\u001b[31mNA\u001b[39m\u001b[90m, \u001b[39m\u001b[31mNA\u001b[39m\u001b[90m, \u001b[39m\"R767Gfs*14\"\u001b[90m, \u001b[39m\"R767Gfs*1…\n",
      "$ AF_dts                \u001b[3m\u001b[90m<dbl>\u001b[39m\u001b[23m \u001b[31mNA\u001b[39m\u001b[90m, \u001b[39m\u001b[31mNA\u001b[39m\u001b[90m, \u001b[39m\u001b[31mNA\u001b[39m\u001b[90m, \u001b[39m\u001b[31mNA\u001b[39m\u001b[90m, \u001b[39m\u001b[31mNA\u001b[39m\u001b[90m, \u001b[39m\u001b[31mNA\u001b[39m\u001b[90m, \u001b[39m0.065\u001b[90m, \u001b[39m0.065\u001b[90m, \u001b[39m\u001b[31mNA\u001b[39m\u001b[90m, \u001b[39m0.020\u001b[90m,\u001b[39m…\n",
      "Rows: 1,509\n",
      "Columns: 6\n",
      "$ GRID                  \u001b[3m\u001b[90m<chr>\u001b[39m\u001b[23m \"R236850354\"\u001b[90m, \u001b[39m\"R288271461\"\u001b[90m, \u001b[39m\"R231178314\"\u001b[90m, \u001b[39m\"R2126…\n",
      "$ chip_gene_dts         \u001b[3m\u001b[90m<chr>\u001b[39m\u001b[23m \"DNMT3A\"\u001b[90m, \u001b[39m\"GNB1\"\u001b[90m, \u001b[39m\"DNMT3A\"\u001b[90m, \u001b[39m\"ASXL1\"\u001b[90m, \u001b[39m\"DNMT3A\"\u001b[90m, \u001b[39m\"…\n",
      "$ chip_mut_func_dts     \u001b[3m\u001b[90m<chr>\u001b[39m\u001b[23m \"exonic\"\u001b[90m, \u001b[39m\"exonic\"\u001b[90m, \u001b[39m\"splicing\"\u001b[90m, \u001b[39m\"exonic\"\u001b[90m, \u001b[39m\"exoni…\n",
      "$ chip_mut_exofunc_dts  \u001b[3m\u001b[90m<chr>\u001b[39m\u001b[23m \"frameshift deletion\"\u001b[90m, \u001b[39m\"nonsynonymous SNV\"\u001b[90m, \u001b[39m\".\"\u001b[90m,\u001b[39m…\n",
      "$ chip_mut_aachange_dts \u001b[3m\u001b[90m<chr>\u001b[39m\u001b[23m \"R767Gfs*14\"\u001b[90m, \u001b[39m\"K57E\"\u001b[90m, \u001b[39m\u001b[31mNA\u001b[39m\u001b[90m, \u001b[39m\"P808Lfs*10\"\u001b[90m, \u001b[39m\"L637P\"\u001b[90m,\u001b[39m…\n",
      "$ AF_dts                \u001b[3m\u001b[90m<dbl>\u001b[39m\u001b[23m 0.065\u001b[90m, \u001b[39m0.031\u001b[90m, \u001b[39m0.439\u001b[90m, \u001b[39m0.264\u001b[90m, \u001b[39m0.023\u001b[90m, \u001b[39m0.048\u001b[90m, \u001b[39m0.032\u001b[90m,\u001b[39m…\n"
     ]
    }
   ],
   "source": [
    "'targeted_sequencing_biovu_rad_mtp_kidney_yp_03182025.tsv' |>\n",
    "read_tsv(show_col_types = FALSE) |> \n",
    "filter(GRID != 'BLANK') |>\n",
    "# count(GRID, sort = TRUE)\n",
    "transmute(\n",
    "    GRID,\n",
    "    cohort,\n",
    "    biosample_date = mdy(biovu_sample_date),\n",
    "    chip_gene_dts = Gene.refGene,\n",
    "    chip_mut_func_dts = Func.refGene,\n",
    "    chip_mut_exofunc_dts = ExonicFunc.refGene,\n",
    "    chip_mut_aachange_dts = NonsynOI,\n",
    "    AF_dts = AF,\n",
    "#     AD_dts = AD,\n",
    "#     DP_dts = DP\n",
    ") |>\n",
    "glimpse() |>\n",
    "# use only DTS data from same sample as WGS data\n",
    "semi_join(cohort_dts_wgs, by = join_by(GRID, biosample_date)) |>\n",
    "select(-cohort, -biosample_date) |>\n",
    "# glimpse() |>\n",
    "# remove duplicates\n",
    "distinct(GRID, chip_gene_dts, chip_mut_aachange_dts, .keep_all = TRUE) |>\n",
    "# only CHIP calls (don't need a row for everyone)\n",
    "filter(!is.na(chip_gene_dts)) |>\n",
    "glimpse() ->\n",
    "chip_vars_dts"
   ]
  },
  {
   "cell_type": "code",
   "execution_count": 19,
   "metadata": {
    "ExecuteTime": {
     "end_time": "2025-07-14T19:30:37.126434Z",
     "start_time": "2025-07-14T19:30:37.049Z"
    }
   },
   "outputs": [
    {
     "data": {
      "text/html": [
       "1255"
      ],
      "text/latex": [
       "1255"
      ],
      "text/markdown": [
       "1255"
      ],
      "text/plain": [
       "[1] 1255"
      ]
     },
     "metadata": {},
     "output_type": "display_data"
    }
   ],
   "source": [
    "chip_vars_dts$GRID |> lu()"
   ]
  },
  {
   "cell_type": "code",
   "execution_count": 20,
   "metadata": {
    "ExecuteTime": {
     "end_time": "2025-07-14T19:30:37.459263Z",
     "start_time": "2025-07-14T19:30:37.400Z"
    }
   },
   "outputs": [
    {
     "data": {
      "text/html": [
       "1"
      ],
      "text/latex": [
       "1"
      ],
      "text/markdown": [
       "1"
      ],
      "text/plain": [
       "[1] 1"
      ]
     },
     "metadata": {},
     "output_type": "display_data"
    }
   ],
   "source": [
    "mean(chip_vars_dts$GRID %in% cohort_dts_wgs$GRID)"
   ]
  },
  {
   "cell_type": "code",
   "execution_count": 21,
   "metadata": {},
   "outputs": [
    {
     "data": {
      "image/png": "[encoded data removed]",
      "text/plain": [
       "plot without title"
      ]
     },
     "metadata": {
      "image/png": {
       "height": 420,
       "width": 420
      }
     },
     "output_type": "display_data"
    }
   ],
   "source": [
    "chip_vars_dts |>\n",
    "count(chip_gene_dts, sort = TRUE) |>\n",
    "mutate(chip_gene_dts = factor(chip_gene_dts, levels = chip_gene_dts)) |>\n",
    "ggplot(mapping = aes(x = chip_gene_dts, y = n)) +\n",
    "geom_bar(stat = 'identity') +\n",
    "theme_bw() +\n",
    "theme(axis.text.x = element_text(angle = 90, vjust = 0.5, hjust=1))"
   ]
  },
  {
   "cell_type": "code",
   "execution_count": 22,
   "metadata": {},
   "outputs": [],
   "source": [
    "ggsave('DTS_chip_genes_histogram.pdf', width = 7, height = 4)"
   ]
  },
  {
   "cell_type": "markdown",
   "metadata": {},
   "source": [
    "# read in and prep WGS calls"
   ]
  },
  {
   "cell_type": "code",
   "execution_count": 20,
   "metadata": {},
   "outputs": [],
   "source": [
    "# gscp(\n",
    "#     'gs://fc-secure-95fec9d6-9173-477a-822e-cad4b97c8f0d/rcorty/chip_vars_DP_15p_AD2_2p_bs.tsv',\n",
    "# )"
   ]
  },
  {
   "cell_type": "code",
   "execution_count": 33,
   "metadata": {
    "ExecuteTime": {
     "end_time": "2025-07-14T19:47:45.624503Z",
     "start_time": "2025-07-14T19:47:43.403Z"
    }
   },
   "outputs": [
    {
     "name": "stdout",
     "output_type": "stream",
     "text": [
      "Rows: 962\n",
      "Columns: 29\n",
      "$ GRID                  \u001b[3m\u001b[90m<chr>\u001b[39m\u001b[23m \"R217582400\"\u001b[90m, \u001b[39m\"R294922217\"\u001b[90m, \u001b[39m\"R211228060\"\u001b[90m, \u001b[39m\"R2379…\n",
      "$ person_id             \u001b[3m\u001b[90m<dbl>\u001b[39m\u001b[23m 1184631\u001b[90m, \u001b[39m1244311\u001b[90m, \u001b[39m1303665\u001b[90m, \u001b[39m1153140\u001b[90m, \u001b[39m1022350\u001b[90m, \u001b[39m131…\n",
      "$ SAMPLE_ID             \u001b[3m\u001b[90m<dbl>\u001b[39m\u001b[23m 110018\u001b[90m, \u001b[39m100204337\u001b[90m, \u001b[39m100140949\u001b[90m, \u001b[39m103045\u001b[90m, \u001b[39m100226875\u001b[90m,\u001b[39m…\n",
      "$ birth_date            \u001b[3m\u001b[90m<dttm>\u001b[39m\u001b[23m 1934-03-26\u001b[90m, \u001b[39m1948-03-05\u001b[90m, \u001b[39m1929-03-29\u001b[90m, \u001b[39m1934-04-09\u001b[90m,\u001b[39m…\n",
      "$ gender                \u001b[3m\u001b[90m<chr>\u001b[39m\u001b[23m \"F\"\u001b[90m, \u001b[39m\"F\"\u001b[90m, \u001b[39m\"F\"\u001b[90m, \u001b[39m\"F\"\u001b[90m, \u001b[39m\"F\"\u001b[90m, \u001b[39m\"F\"\u001b[90m, \u001b[39m\"F\"\u001b[90m, \u001b[39m\"F\"\u001b[90m, \u001b[39m\"F\"\u001b[90m, \u001b[39m\"F\"…\n",
      "$ biosample_date        \u001b[3m\u001b[90m<date>\u001b[39m\u001b[23m 2010-01-02\u001b[90m, \u001b[39m2006-11-04\u001b[90m, \u001b[39m2011-08-26\u001b[90m, \u001b[39m2012-09-01\u001b[90m,\u001b[39m…\n",
      "$ age_at_biosample      \u001b[3m\u001b[90m<dbl>\u001b[39m\u001b[23m 75.774833\u001b[90m, \u001b[39m58.668273\u001b[90m, \u001b[39m82.411565\u001b[90m, \u001b[39m78.400504\u001b[90m, \u001b[39m81.3…\n",
      "$ chr                   \u001b[3m\u001b[90m<chr>\u001b[39m\u001b[23m \"chr20\"\u001b[90m, \u001b[39m\"chr2\"\u001b[90m, \u001b[39m\"chr2\"\u001b[90m, \u001b[39m\"chr20\"\u001b[90m, \u001b[39m\"chr2\"\u001b[90m, \u001b[39m\"chr2\"…\n",
      "$ start                 \u001b[3m\u001b[90m<dbl>\u001b[39m\u001b[23m 32437080\u001b[90m, \u001b[39m25275081\u001b[90m, \u001b[39m25234373\u001b[90m, \u001b[39m32437183\u001b[90m, \u001b[39m25247690…\n",
      "$ end                   \u001b[3m\u001b[90m<dbl>\u001b[39m\u001b[23m 32437080\u001b[90m, \u001b[39m25275081\u001b[90m, \u001b[39m25234373\u001b[90m, \u001b[39m32437183\u001b[90m, \u001b[39m25247690…\n",
      "$ chip_gene_wgs         \u001b[3m\u001b[90m<chr>\u001b[39m\u001b[23m \"ASXL1\"\u001b[90m, \u001b[39m\"DNMT3A\"\u001b[90m, \u001b[39m\"DNMT3A\"\u001b[90m, \u001b[39m\"ASXL1\"\u001b[90m, \u001b[39m\"DNMT3A\"\u001b[90m, \u001b[39m…\n",
      "$ chip_mut_func_wgs     \u001b[3m\u001b[90m<chr>\u001b[39m\u001b[23m \"exonic\"\u001b[90m, \u001b[39m\"exonic\"\u001b[90m, \u001b[39m\"exonic\"\u001b[90m, \u001b[39m\"exonic\"\u001b[90m, \u001b[39m\"exonic\"…\n",
      "$ chip_mut_exofunc_wgs  \u001b[3m\u001b[90m<chr>\u001b[39m\u001b[23m \"stopgain\"\u001b[90m, \u001b[39m\"frameshift deletion\"\u001b[90m, \u001b[39m\"nonsynonymou…\n",
      "$ chip_mut_aachange_wgs \u001b[3m\u001b[90m<chr>\u001b[39m\u001b[23m \"Y1456X\"\u001b[90m, \u001b[39m\"R167Gfs*58\"\u001b[90m, \u001b[39m\"R882H\"\u001b[90m, \u001b[39m\"Q1491X\"\u001b[90m, \u001b[39m\"W305…\n",
      "$ GT_wgs                \u001b[3m\u001b[90m<chr>\u001b[39m\u001b[23m \"0/1\"\u001b[90m, \u001b[39m\"0|1\"\u001b[90m, \u001b[39m\"0/1\"\u001b[90m, \u001b[39m\"0/1\"\u001b[90m, \u001b[39m\"0/1\"\u001b[90m, \u001b[39m\"0/1\"\u001b[90m, \u001b[39m\"0/1\"\u001b[90m,\u001b[39m…\n",
      "$ AF_wgs                \u001b[3m\u001b[90m<dbl>\u001b[39m\u001b[23m 0.936\u001b[90m, \u001b[39m0.936\u001b[90m, \u001b[39m0.936\u001b[90m, \u001b[39m0.936\u001b[90m, \u001b[39m0.936\u001b[90m, \u001b[39m0.936\u001b[90m, \u001b[39m0.936\u001b[90m,\u001b[39m…\n",
      "$ DP_wgs                \u001b[3m\u001b[90m<dbl>\u001b[39m\u001b[23m 36\u001b[90m, \u001b[39m27\u001b[90m, \u001b[39m23\u001b[90m, \u001b[39m32\u001b[90m, \u001b[39m25\u001b[90m, \u001b[39m38\u001b[90m, \u001b[39m26\u001b[90m, \u001b[39m38\u001b[90m, \u001b[39m21\u001b[90m, \u001b[39m37\u001b[90m, \u001b[39m27\u001b[90m, \u001b[39m25\u001b[90m, \u001b[39m…\n",
      "$ AD_1_wgs              \u001b[3m\u001b[90m<dbl>\u001b[39m\u001b[23m 31\u001b[90m, \u001b[39m25\u001b[90m, \u001b[39m14\u001b[90m, \u001b[39m28\u001b[90m, \u001b[39m23\u001b[90m, \u001b[39m35\u001b[90m, \u001b[39m24\u001b[90m, \u001b[39m36\u001b[90m, \u001b[39m19\u001b[90m, \u001b[39m32\u001b[90m, \u001b[39m23\u001b[90m, \u001b[39m21\u001b[90m, \u001b[39m…\n",
      "$ AD_2_wgs              \u001b[3m\u001b[90m<dbl>\u001b[39m\u001b[23m 5\u001b[90m, \u001b[39m2\u001b[90m, \u001b[39m9\u001b[90m, \u001b[39m4\u001b[90m, \u001b[39m2\u001b[90m, \u001b[39m3\u001b[90m, \u001b[39m2\u001b[90m, \u001b[39m2\u001b[90m, \u001b[39m2\u001b[90m, \u001b[39m5\u001b[90m, \u001b[39m4\u001b[90m, \u001b[39m4\u001b[90m, \u001b[39m3\u001b[90m, \u001b[39m9\u001b[90m, \u001b[39m4\u001b[90m, \u001b[39m3\u001b[90m, \u001b[39m…\n",
      "$ AD_3_wgs              \u001b[3m\u001b[90m<dbl>\u001b[39m\u001b[23m \u001b[31mNA\u001b[39m\u001b[90m, \u001b[39m\u001b[31mNA\u001b[39m\u001b[90m, \u001b[39m\u001b[31mNA\u001b[39m\u001b[90m, \u001b[39m\u001b[31mNA\u001b[39m\u001b[90m, \u001b[39m\u001b[31mNA\u001b[39m\u001b[90m, \u001b[39m\u001b[31mNA\u001b[39m\u001b[90m, \u001b[39m\u001b[31mNA\u001b[39m\u001b[90m, \u001b[39m\u001b[31mNA\u001b[39m\u001b[90m, \u001b[39m\u001b[31mNA\u001b[39m\u001b[90m, \u001b[39m\u001b[31mNA\u001b[39m\u001b[90m, \u001b[39m\u001b[31mNA\u001b[39m\u001b[90m, \u001b[39m\u001b[31mNA\u001b[39m\u001b[90m, \u001b[39m…\n",
      "$ AD_4_wgs              \u001b[3m\u001b[90m<lgl>\u001b[39m\u001b[23m \u001b[31mNA\u001b[39m\u001b[90m, \u001b[39m\u001b[31mNA\u001b[39m\u001b[90m, \u001b[39m\u001b[31mNA\u001b[39m\u001b[90m, \u001b[39m\u001b[31mNA\u001b[39m\u001b[90m, \u001b[39m\u001b[31mNA\u001b[39m\u001b[90m, \u001b[39m\u001b[31mNA\u001b[39m\u001b[90m, \u001b[39m\u001b[31mNA\u001b[39m\u001b[90m, \u001b[39m\u001b[31mNA\u001b[39m\u001b[90m, \u001b[39m\u001b[31mNA\u001b[39m\u001b[90m, \u001b[39m\u001b[31mNA\u001b[39m\u001b[90m, \u001b[39m\u001b[31mNA\u001b[39m\u001b[90m, \u001b[39m\u001b[31mNA\u001b[39m\u001b[90m, \u001b[39m…\n",
      "$ F1R2_1_wgs            \u001b[3m\u001b[90m<dbl>\u001b[39m\u001b[23m 12\u001b[90m, \u001b[39m16\u001b[90m, \u001b[39m4\u001b[90m, \u001b[39m16\u001b[90m, \u001b[39m5\u001b[90m, \u001b[39m15\u001b[90m, \u001b[39m11\u001b[90m, \u001b[39m14\u001b[90m, \u001b[39m12\u001b[90m, \u001b[39m14\u001b[90m, \u001b[39m9\u001b[90m, \u001b[39m11\u001b[90m, \u001b[39m18\u001b[90m,\u001b[39m…\n",
      "$ F1R2_2_wgs            \u001b[3m\u001b[90m<dbl>\u001b[39m\u001b[23m 2\u001b[90m, \u001b[39m1\u001b[90m, \u001b[39m3\u001b[90m, \u001b[39m3\u001b[90m, \u001b[39m1\u001b[90m, \u001b[39m1\u001b[90m, \u001b[39m1\u001b[90m, \u001b[39m1\u001b[90m, \u001b[39m1\u001b[90m, \u001b[39m4\u001b[90m, \u001b[39m2\u001b[90m, \u001b[39m2\u001b[90m, \u001b[39m2\u001b[90m, \u001b[39m3\u001b[90m, \u001b[39m1\u001b[90m, \u001b[39m1\u001b[90m, \u001b[39m…\n",
      "$ F1R2_3_wgs            \u001b[3m\u001b[90m<dbl>\u001b[39m\u001b[23m \u001b[31mNA\u001b[39m\u001b[90m, \u001b[39m\u001b[31mNA\u001b[39m\u001b[90m, \u001b[39m\u001b[31mNA\u001b[39m\u001b[90m, \u001b[39m\u001b[31mNA\u001b[39m\u001b[90m, \u001b[39m\u001b[31mNA\u001b[39m\u001b[90m, \u001b[39m\u001b[31mNA\u001b[39m\u001b[90m, \u001b[39m\u001b[31mNA\u001b[39m\u001b[90m, \u001b[39m\u001b[31mNA\u001b[39m\u001b[90m, \u001b[39m\u001b[31mNA\u001b[39m\u001b[90m, \u001b[39m\u001b[31mNA\u001b[39m\u001b[90m, \u001b[39m\u001b[31mNA\u001b[39m\u001b[90m, \u001b[39m\u001b[31mNA\u001b[39m\u001b[90m, \u001b[39m…\n",
      "$ F1R2_4_wgs            \u001b[3m\u001b[90m<lgl>\u001b[39m\u001b[23m \u001b[31mNA\u001b[39m\u001b[90m, \u001b[39m\u001b[31mNA\u001b[39m\u001b[90m, \u001b[39m\u001b[31mNA\u001b[39m\u001b[90m, \u001b[39m\u001b[31mNA\u001b[39m\u001b[90m, \u001b[39m\u001b[31mNA\u001b[39m\u001b[90m, \u001b[39m\u001b[31mNA\u001b[39m\u001b[90m, \u001b[39m\u001b[31mNA\u001b[39m\u001b[90m, \u001b[39m\u001b[31mNA\u001b[39m\u001b[90m, \u001b[39m\u001b[31mNA\u001b[39m\u001b[90m, \u001b[39m\u001b[31mNA\u001b[39m\u001b[90m, \u001b[39m\u001b[31mNA\u001b[39m\u001b[90m, \u001b[39m\u001b[31mNA\u001b[39m\u001b[90m, \u001b[39m…\n",
      "$ F2R1_1_wgs            \u001b[3m\u001b[90m<dbl>\u001b[39m\u001b[23m 13\u001b[90m, \u001b[39m8\u001b[90m, \u001b[39m10\u001b[90m, \u001b[39m10\u001b[90m, \u001b[39m18\u001b[90m, \u001b[39m20\u001b[90m, \u001b[39m13\u001b[90m, \u001b[39m22\u001b[90m, \u001b[39m7\u001b[90m, \u001b[39m18\u001b[90m, \u001b[39m13\u001b[90m, \u001b[39m10\u001b[90m, \u001b[39m11…\n",
      "$ F2R1_2_wgs            \u001b[3m\u001b[90m<dbl>\u001b[39m\u001b[23m 1\u001b[90m, \u001b[39m1\u001b[90m, \u001b[39m5\u001b[90m, \u001b[39m1\u001b[90m, \u001b[39m1\u001b[90m, \u001b[39m2\u001b[90m, \u001b[39m1\u001b[90m, \u001b[39m1\u001b[90m, \u001b[39m1\u001b[90m, \u001b[39m1\u001b[90m, \u001b[39m2\u001b[90m, \u001b[39m2\u001b[90m, \u001b[39m1\u001b[90m, \u001b[39m4\u001b[90m, \u001b[39m3\u001b[90m, \u001b[39m2\u001b[90m, \u001b[39m…\n",
      "$ F2R1_3_wgs            \u001b[3m\u001b[90m<dbl>\u001b[39m\u001b[23m \u001b[31mNA\u001b[39m\u001b[90m, \u001b[39m\u001b[31mNA\u001b[39m\u001b[90m, \u001b[39m\u001b[31mNA\u001b[39m\u001b[90m, \u001b[39m\u001b[31mNA\u001b[39m\u001b[90m, \u001b[39m\u001b[31mNA\u001b[39m\u001b[90m, \u001b[39m\u001b[31mNA\u001b[39m\u001b[90m, \u001b[39m\u001b[31mNA\u001b[39m\u001b[90m, \u001b[39m\u001b[31mNA\u001b[39m\u001b[90m, \u001b[39m\u001b[31mNA\u001b[39m\u001b[90m, \u001b[39m\u001b[31mNA\u001b[39m\u001b[90m, \u001b[39m\u001b[31mNA\u001b[39m\u001b[90m, \u001b[39m\u001b[31mNA\u001b[39m\u001b[90m, \u001b[39m…\n",
      "$ F2R1_4_wgs            \u001b[3m\u001b[90m<lgl>\u001b[39m\u001b[23m \u001b[31mNA\u001b[39m\u001b[90m, \u001b[39m\u001b[31mNA\u001b[39m\u001b[90m, \u001b[39m\u001b[31mNA\u001b[39m\u001b[90m, \u001b[39m\u001b[31mNA\u001b[39m\u001b[90m, \u001b[39m\u001b[31mNA\u001b[39m\u001b[90m, \u001b[39m\u001b[31mNA\u001b[39m\u001b[90m, \u001b[39m\u001b[31mNA\u001b[39m\u001b[90m, \u001b[39m\u001b[31mNA\u001b[39m\u001b[90m, \u001b[39m\u001b[31mNA\u001b[39m\u001b[90m, \u001b[39m\u001b[31mNA\u001b[39m\u001b[90m, \u001b[39m\u001b[31mNA\u001b[39m\u001b[90m, \u001b[39m\u001b[31mNA\u001b[39m\u001b[90m, \u001b[39m…\n"
     ]
    }
   ],
   "source": [
    "'chip_vars_DP_15p_AD2_2p_bs.tsv' |>\n",
    "read_tsv(show_col_types = FALSE) |>\n",
    "transmute(\n",
    "    SAMPLE_ID,\n",
    "    chr = Chr,\n",
    "    start = Start,\n",
    "    end = End,\n",
    "    chip_gene_wgs = Gene.refGene,\n",
    "    chip_mut_func_wgs = Func.refGene,\n",
    "    chip_mut_exofunc_wgs = ExonicFunc.refGene,\n",
    "    chip_mut_aachange_wgs = NonsynOI,\n",
    "    GT_wgs = GT,\n",
    "    AF_wgs = AF,\n",
    "    DP_wgs = DP,\n",
    "    AD_1_wgs = AD_1,\n",
    "    AD_2_wgs = AD_2,\n",
    "    AD_3_wgs = AD_3,\n",
    "    AD_4_wgs = AD_4,\n",
    "    F1R2_1_wgs = F1R2_1, \n",
    "    F1R2_2_wgs = F1R2_2, \n",
    "    F1R2_3_wgs = F1R2_3, \n",
    "    F1R2_4_wgs = F1R2_4, \n",
    "    F2R1_1_wgs = F2R1_1, \n",
    "    F2R1_2_wgs = F2R1_2, \n",
    "    F2R1_3_wgs = F2R1_3, \n",
    "    F2R1_4_wgs = F2R1_4) |>\n",
    "# filter to only GRIDs that also have DTS\n",
    "inner_join(cohort_dts_wgs, by = 'SAMPLE_ID') |>\n",
    "# some GRIDs were run through mutect twice -- keep only one\n",
    "distinct(GRID, chip_gene_wgs, chip_mut_aachange_wgs, AF_wgs, .keep_all = TRUE) |>\n",
    "# keep only needed columns\n",
    "select(GRID, person_id, SAMPLE_ID,\n",
    "       birth_date, gender, biosample_date, age_at_biosample,\n",
    "       chr:F2R1_4_wgs) |>\n",
    "glimpse() ->\n",
    "chip_vars_wgs"
   ]
  },
  {
   "cell_type": "code",
   "execution_count": 35,
   "metadata": {
    "ExecuteTime": {
     "end_time": "2025-07-14T19:39:50.268951Z",
     "start_time": "2025-07-14T19:39:49.800Z"
    },
    "scrolled": true
   },
   "outputs": [
    {
     "data": {
      "text/html": [
       "853"
      ],
      "text/latex": [
       "853"
      ],
      "text/markdown": [
       "853"
      ],
      "text/plain": [
       "[1] 853"
      ]
     },
     "metadata": {},
     "output_type": "display_data"
    }
   ],
   "source": [
    "chip_vars_wgs$GRID |> lu()"
   ]
  },
  {
   "cell_type": "code",
   "execution_count": 36,
   "metadata": {
    "ExecuteTime": {
     "end_time": "2025-07-14T19:39:50.289439Z",
     "start_time": "2025-07-14T19:39:49.988Z"
    }
   },
   "outputs": [
    {
     "data": {
      "text/html": [
       "1"
      ],
      "text/latex": [
       "1"
      ],
      "text/markdown": [
       "1"
      ],
      "text/plain": [
       "[1] 1"
      ]
     },
     "metadata": {},
     "output_type": "display_data"
    }
   ],
   "source": [
    "mean(chip_vars_wgs$GRID %in% cohort_dts_wgs$GRID)"
   ]
  },
  {
   "cell_type": "code",
   "execution_count": 37,
   "metadata": {},
   "outputs": [
    {
     "data": {
      "image/png": "[encoded data removed]",
      "text/plain": [
       "plot without title"
      ]
     },
     "metadata": {
      "image/png": {
       "height": 420,
       "width": 420
      }
     },
     "output_type": "display_data"
    }
   ],
   "source": [
    "chip_vars_wgs |>\n",
    "count(chip_gene_wgs, sort = TRUE) |>\n",
    "mutate(chip_gene_wgs = factor(chip_gene_wgs, levels = chip_gene_wgs)) |>\n",
    "ggplot(mapping = aes(x = chip_gene_wgs, y = n)) +\n",
    "geom_bar(stat = 'identity') +\n",
    "theme_bw() +\n",
    "theme(axis.text.x = element_text(angle = 90, vjust = 0.5, hjust=1))"
   ]
  },
  {
   "cell_type": "code",
   "execution_count": 38,
   "metadata": {},
   "outputs": [],
   "source": [
    "ggsave('WGS_chip_genes_histogram.pdf', width = 7, height = 4)"
   ]
  },
  {
   "cell_type": "markdown",
   "metadata": {
    "heading_collapsed": true
   },
   "source": [
    "# cohort basics"
   ]
  },
  {
   "cell_type": "code",
   "execution_count": 20,
   "metadata": {
    "ExecuteTime": {
     "end_time": "2025-07-14T19:34:40.217128Z",
     "start_time": "2025-07-14T19:34:40.156Z"
    },
    "hidden": true
   },
   "outputs": [
    {
     "data": {
      "text/html": [
       "9925"
      ],
      "text/latex": [
       "9925"
      ],
      "text/markdown": [
       "9925"
      ],
      "text/plain": [
       "[1] 9925"
      ]
     },
     "metadata": {},
     "output_type": "display_data"
    }
   ],
   "source": [
    "# size of study cohort?\n",
    "nrow(cohort_dts_wgs)"
   ]
  },
  {
   "cell_type": "code",
   "execution_count": 21,
   "metadata": {
    "ExecuteTime": {
     "end_time": "2025-04-28T14:45:02.017496Z",
     "start_time": "2025-04-28T14:44:52.516Z"
    },
    "hidden": true
   },
   "outputs": [
    {
     "data": {
      "text/html": [
       "1255"
      ],
      "text/latex": [
       "1255"
      ],
      "text/markdown": [
       "1255"
      ],
      "text/plain": [
       "[1] 1255"
      ]
     },
     "metadata": {},
     "output_type": "display_data"
    }
   ],
   "source": [
    "# how many have CHIP by gold standard?\n",
    "nrow(chip_calls_dts |> distinct(GRID))"
   ]
  },
  {
   "cell_type": "code",
   "execution_count": 22,
   "metadata": {
    "ExecuteTime": {
     "end_time": "2025-04-28T14:45:02.039241Z",
     "start_time": "2025-04-28T14:44:52.862Z"
    },
    "hidden": true
   },
   "outputs": [
    {
     "data": {
      "text/html": [
       "13"
      ],
      "text/latex": [
       "13"
      ],
      "text/markdown": [
       "13"
      ],
      "text/plain": [
       "[1] 13"
      ]
     },
     "metadata": {},
     "output_type": "display_data"
    }
   ],
   "source": [
    "# what % have CHIP?\n",
    "round(100 * nrow(distinct(chip_calls_dts, GRID))/nrow(cohort_dts_wgs))"
   ]
  },
  {
   "cell_type": "code",
   "execution_count": 23,
   "metadata": {
    "ExecuteTime": {
     "end_time": "2025-04-28T14:45:02.099437Z",
     "start_time": "2025-04-28T14:44:53.852Z"
    },
    "hidden": true
   },
   "outputs": [
    {
     "data": {
      "text/html": [
       "<table class=\"dataframe\">\n",
       "<caption>A tibble: 6 × 2</caption>\n",
       "<thead>\n",
       "\t<tr><th scope=col>n</th><th scope=col>num_chip_muts</th></tr>\n",
       "\t<tr><th scope=col>&lt;int&gt;</th><th scope=col>&lt;int&gt;</th></tr>\n",
       "</thead>\n",
       "<tbody>\n",
       "\t<tr><td>1</td><td>1059</td></tr>\n",
       "\t<tr><td>2</td><td> 156</td></tr>\n",
       "\t<tr><td>3</td><td>  27</td></tr>\n",
       "\t<tr><td>4</td><td>  10</td></tr>\n",
       "\t<tr><td>5</td><td>   1</td></tr>\n",
       "\t<tr><td>6</td><td>   2</td></tr>\n",
       "</tbody>\n",
       "</table>\n"
      ],
      "text/latex": [
       "A tibble: 6 × 2\n",
       "\\begin{tabular}{ll}\n",
       " n & num\\_chip\\_muts\\\\\n",
       " <int> & <int>\\\\\n",
       "\\hline\n",
       "\t 1 & 1059\\\\\n",
       "\t 2 &  156\\\\\n",
       "\t 3 &   27\\\\\n",
       "\t 4 &   10\\\\\n",
       "\t 5 &    1\\\\\n",
       "\t 6 &    2\\\\\n",
       "\\end{tabular}\n"
      ],
      "text/markdown": [
       "\n",
       "A tibble: 6 × 2\n",
       "\n",
       "| n &lt;int&gt; | num_chip_muts &lt;int&gt; |\n",
       "|---|---|\n",
       "| 1 | 1059 |\n",
       "| 2 |  156 |\n",
       "| 3 |   27 |\n",
       "| 4 |   10 |\n",
       "| 5 |    1 |\n",
       "| 6 |    2 |\n",
       "\n"
      ],
      "text/plain": [
       "  n num_chip_muts\n",
       "1 1 1059         \n",
       "2 2  156         \n",
       "3 3   27         \n",
       "4 4   10         \n",
       "5 5    1         \n",
       "6 6    2         "
      ]
     },
     "metadata": {},
     "output_type": "display_data"
    }
   ],
   "source": [
    "# how many have single CHIP vs multi-CHIP?\n",
    "chip_calls_dts |>\n",
    "filter(!is.na(chip_gene_dts)) |>\n",
    "count(GRID) |>\n",
    "count(n, name = 'num_chip_muts')"
   ]
  },
  {
   "cell_type": "markdown",
   "metadata": {
    "heading_collapsed": true
   },
   "source": [
    "# sens/spec/PPV/NPV by person -- deprecated"
   ]
  },
  {
   "cell_type": "code",
   "execution_count": 27,
   "metadata": {
    "ExecuteTime": {
     "end_time": "2025-04-28T14:45:02.114805Z",
     "start_time": "2025-04-28T14:44:54.914Z"
    },
    "hidden": true
   },
   "outputs": [],
   "source": [
    "# glimpse(chip_calls_dts)"
   ]
  },
  {
   "cell_type": "code",
   "execution_count": 28,
   "metadata": {
    "ExecuteTime": {
     "end_time": "2025-04-28T14:45:02.130223Z",
     "start_time": "2025-04-28T14:44:55.312Z"
    },
    "hidden": true
   },
   "outputs": [],
   "source": [
    "# glimpse(chip_calls_wgs)"
   ]
  },
  {
   "cell_type": "code",
   "execution_count": 27,
   "metadata": {
    "ExecuteTime": {
     "end_time": "2025-07-14T19:36:20.444046Z",
     "start_time": "2025-07-14T19:36:20.384Z"
    },
    "hidden": true
   },
   "outputs": [
    {
     "name": "stdout",
     "output_type": "stream",
     "text": [
      "Rows: 1,177\n",
      "Columns: 6\n",
      "$ GRID                  \u001b[3m\u001b[90m<chr>\u001b[39m\u001b[23m \"R236850354\"\u001b[90m, \u001b[39m\"R288271461\"\u001b[90m, \u001b[39m\"R231178314\"\u001b[90m, \u001b[39m\"R2740…\n",
      "$ chip_gene_dts         \u001b[3m\u001b[90m<chr>\u001b[39m\u001b[23m \"DNMT3A\"\u001b[90m, \u001b[39m\"GNB1\"\u001b[90m, \u001b[39m\"DNMT3A\"\u001b[90m, \u001b[39m\"DNMT3A\"\u001b[90m, \u001b[39m\"DNMT3A\"\u001b[90m, \u001b[39m…\n",
      "$ chip_mut_func_dts     \u001b[3m\u001b[90m<chr>\u001b[39m\u001b[23m \"exonic\"\u001b[90m, \u001b[39m\"exonic\"\u001b[90m, \u001b[39m\"splicing\"\u001b[90m, \u001b[39m\"exonic\"\u001b[90m, \u001b[39m\"exoni…\n",
      "$ chip_mut_exofunc_dts  \u001b[3m\u001b[90m<chr>\u001b[39m\u001b[23m \"frameshift deletion\"\u001b[90m, \u001b[39m\"nonsynonymous SNV\"\u001b[90m, \u001b[39m\".\"\u001b[90m,\u001b[39m…\n",
      "$ chip_mut_aachange_dts \u001b[3m\u001b[90m<chr>\u001b[39m\u001b[23m \"R767Gfs*14\"\u001b[90m, \u001b[39m\"K57E\"\u001b[90m, \u001b[39m\u001b[31mNA\u001b[39m\u001b[90m, \u001b[39m\"L637P\"\u001b[90m, \u001b[39m\"T257Mfs*59\"\u001b[90m,\u001b[39m…\n",
      "$ AF_dts                \u001b[3m\u001b[90m<dbl>\u001b[39m\u001b[23m 0.065\u001b[90m, \u001b[39m0.031\u001b[90m, \u001b[39m0.439\u001b[90m, \u001b[39m0.023\u001b[90m, \u001b[39m0.048\u001b[90m, \u001b[39m0.032\u001b[90m, \u001b[39m0.020\u001b[90m,\u001b[39m…\n"
     ]
    }
   ],
   "source": [
    "# glimpse(chip_calls_dts)"
   ]
  },
  {
   "cell_type": "code",
   "execution_count": 25,
   "metadata": {
    "ExecuteTime": {
     "end_time": "2025-07-14T19:35:11.171026Z",
     "start_time": "2025-07-14T19:35:11.040Z"
    },
    "hidden": true
   },
   "outputs": [
    {
     "name": "stderr",
     "output_type": "stream",
     "text": [
      "\u001b[1m\u001b[22mJoining with `by = join_by(GRID)`\n",
      "\u001b[1m\u001b[22mJoining with `by = join_by(GRID)`\n"
     ]
    },
    {
     "name": "stdout",
     "output_type": "stream",
     "text": [
      "Rows: 7,981\n",
      "Columns: 9\n",
      "$ GRID             \u001b[3m\u001b[90m<chr>\u001b[39m\u001b[23m \"R269032555\"\u001b[90m, \u001b[39m\"R242126835\"\u001b[90m, \u001b[39m\"R268805840\"\u001b[90m, \u001b[39m\"R222516063…\n",
      "$ biosample_date   \u001b[3m\u001b[90m<date>\u001b[39m\u001b[23m 2015-04-24\u001b[90m, \u001b[39m2010-11-11\u001b[90m, \u001b[39m2008-04-07\u001b[90m, \u001b[39m2007-11-14\u001b[90m, \u001b[39m2010…\n",
      "$ SAMPLE_ID        \u001b[3m\u001b[90m<dbl>\u001b[39m\u001b[23m 100248046\u001b[90m, \u001b[39m100242018\u001b[90m, \u001b[39m100059828\u001b[90m, \u001b[39m100173774\u001b[90m, \u001b[39m100219642…\n",
      "$ person_id        \u001b[3m\u001b[90m<dbl>\u001b[39m\u001b[23m 1628809\u001b[90m, \u001b[39m1723942\u001b[90m, \u001b[39m1420199\u001b[90m, \u001b[39m1727913\u001b[90m, \u001b[39m2133852\u001b[90m, \u001b[39m2254816\u001b[90m,\u001b[39m…\n",
      "$ birth_date       \u001b[3m\u001b[90m<dttm>\u001b[39m\u001b[23m 1950-02-19\u001b[90m, \u001b[39m1936-02-03\u001b[90m, \u001b[39m1949-10-31\u001b[90m, \u001b[39m1962-03-07\u001b[90m, \u001b[39m1934…\n",
      "$ gender           \u001b[3m\u001b[90m<chr>\u001b[39m\u001b[23m \"F\"\u001b[90m, \u001b[39m\"F\"\u001b[90m, \u001b[39m\"F\"\u001b[90m, \u001b[39m\"M\"\u001b[90m, \u001b[39m\"M\"\u001b[90m, \u001b[39m\"F\"\u001b[90m, \u001b[39m\"F\"\u001b[90m, \u001b[39m\"M\"\u001b[90m, \u001b[39m\"M\"\u001b[90m, \u001b[39m\"M\"\u001b[90m, \u001b[39m\"F\"…\n",
      "$ age_at_biosample \u001b[3m\u001b[90m<dbl>\u001b[39m\u001b[23m 65.08544\u001b[90m, \u001b[39m74.66849\u001b[90m, \u001b[39m58.35407\u001b[90m, \u001b[39m45.62679\u001b[90m, \u001b[39m75.60629\u001b[90m, \u001b[39m60.…\n",
      "$ AF_dts           \u001b[3m\u001b[90m<dbl>\u001b[39m\u001b[23m \u001b[31mNA\u001b[39m\u001b[90m, \u001b[39m\u001b[31mNA\u001b[39m\u001b[90m, \u001b[39m\u001b[31mNA\u001b[39m\u001b[90m, \u001b[39m\u001b[31mNA\u001b[39m\u001b[90m, \u001b[39m\u001b[31mNA\u001b[39m\u001b[90m, \u001b[39m\u001b[31mNA\u001b[39m\u001b[90m, \u001b[39m\u001b[31mNA\u001b[39m\u001b[90m, \u001b[39m\u001b[31mNA\u001b[39m\u001b[90m, \u001b[39m\u001b[31mNA\u001b[39m\u001b[90m, \u001b[39m\u001b[31mNA\u001b[39m\u001b[90m, \u001b[39m\u001b[31mNA\u001b[39m\u001b[90m, \u001b[39m\u001b[31mNA\u001b[39m\u001b[90m, \u001b[39m\u001b[31mNA\u001b[39m\u001b[90m, \u001b[39m\u001b[31mN\u001b[39m…\n",
      "$ AF_wgs           \u001b[3m\u001b[90m<dbl>\u001b[39m\u001b[23m \u001b[31mNA\u001b[39m\u001b[90m, \u001b[39m\u001b[31mNA\u001b[39m\u001b[90m, \u001b[39m\u001b[31mNA\u001b[39m\u001b[90m, \u001b[39m\u001b[31mNA\u001b[39m\u001b[90m, \u001b[39m\u001b[31mNA\u001b[39m\u001b[90m, \u001b[39m\u001b[31mNA\u001b[39m\u001b[90m, \u001b[39m\u001b[31mNA\u001b[39m\u001b[90m, \u001b[39m\u001b[31mNA\u001b[39m\u001b[90m, \u001b[39m\u001b[31mNA\u001b[39m\u001b[90m, \u001b[39m\u001b[31mNA\u001b[39m\u001b[90m, \u001b[39m\u001b[31mNA\u001b[39m\u001b[90m, \u001b[39m\u001b[31mNA\u001b[39m\u001b[90m, \u001b[39m\u001b[31mNA\u001b[39m\u001b[90m, \u001b[39m\u001b[31mN\u001b[39m…\n"
     ]
    }
   ],
   "source": [
    "# cohort_dts_wgs |>\n",
    "# left_join(\n",
    "#     chip_calls_dts |>\n",
    "#     group_by(GRID) |>\n",
    "#     summarise(AF_dts = max(AF_dts))\n",
    "# ) |>\n",
    "# left_join(\n",
    "#     chip_calls_wgs |>\n",
    "#     group_by(GRID) |>\n",
    "#     summarise(AF_wgs = max(AF_wgs))\n",
    "# ) |>\n",
    "# glimpse() ->\n",
    "# chip_calls_joined_byperson"
   ]
  },
  {
   "cell_type": "code",
   "execution_count": null,
   "metadata": {
    "hidden": true
   },
   "outputs": [],
   "source": [
    "# write_tsv(chip_calls_joined_byperson, 'chip_calls_dts_wgs')"
   ]
  },
  {
   "cell_type": "code",
   "execution_count": 30,
   "metadata": {
    "ExecuteTime": {
     "end_time": "2025-04-28T14:45:10.098887Z",
     "start_time": "2025-04-28T14:45:09.865Z"
    },
    "hidden": true
   },
   "outputs": [
    {
     "name": "stdout",
     "output_type": "stream",
     "text": [
      "[1] 0.9643777\n"
     ]
    }
   ],
   "source": [
    "# chip_calls_joined_byperson |>\n",
    "# filter(is.na(AF_dts)) |>\n",
    "# pull(AF_wgs) |>\n",
    "# is.na() |> mean() |> print() ->\n",
    "# wgs_spec"
   ]
  },
  {
   "cell_type": "code",
   "execution_count": 31,
   "metadata": {
    "ExecuteTime": {
     "end_time": "2025-04-28T14:46:15.073194Z",
     "start_time": "2025-04-28T14:46:14.803Z"
    },
    "hidden": true
   },
   "outputs": [
    {
     "name": "stdout",
     "output_type": "stream",
     "text": [
      "[1] 0.2552977\n"
     ]
    }
   ],
   "source": [
    "# chip_calls_joined_byperson |>\n",
    "# filter(!is.na(AF_dts)) |>\n",
    "# pull(AF_wgs) |>\n",
    "# is_not_na() |> mean() |> print() ->\n",
    "# wgs_sens"
   ]
  },
  {
   "cell_type": "code",
   "execution_count": 32,
   "metadata": {
    "ExecuteTime": {
     "end_time": "2025-04-28T14:46:29.891721Z",
     "start_time": "2025-04-28T14:46:29.519Z"
    },
    "hidden": true
   },
   "outputs": [
    {
     "name": "stdout",
     "output_type": "stream",
     "text": [
      "[1] 0.4109589\n"
     ]
    }
   ],
   "source": [
    "# chip_calls_joined_byperson |>\n",
    "# filter(!is.na(AF_dts)) |>\n",
    "# filter(AF_dts > 0.05) |>\n",
    "# pull(AF_wgs) |>\n",
    "# is_not_na() |> mean() |> print() ->\n",
    "# wgs_sens_gt_05"
   ]
  },
  {
   "cell_type": "code",
   "execution_count": 38,
   "metadata": {
    "ExecuteTime": {
     "end_time": "2025-04-28T14:47:36.539729Z",
     "start_time": "2025-04-28T14:47:36.250Z"
    },
    "hidden": true
   },
   "outputs": [
    {
     "name": "stdout",
     "output_type": "stream",
     "text": [
      "[1] 0.4830508\n"
     ]
    }
   ],
   "source": [
    "# chip_calls_joined_byperson |>\n",
    "# filter(!is.na(AF_dts)) |>\n",
    "# filter(AF_dts > 0.1) |>\n",
    "# pull(AF_wgs) |>\n",
    "# is_not_na() |> mean() |> print() ->\n",
    "# wgs_sens_gt_10"
   ]
  },
  {
   "cell_type": "code",
   "execution_count": 39,
   "metadata": {
    "ExecuteTime": {
     "end_time": "2025-04-28T14:47:44.170964Z",
     "start_time": "2025-04-28T14:47:43.920Z"
    },
    "hidden": true
   },
   "outputs": [
    {
     "name": "stdout",
     "output_type": "stream",
     "text": [
      "[1] 0.3245614\n"
     ]
    }
   ],
   "source": [
    "# chip_calls_joined_byperson |>\n",
    "# filter(!is.na(AF_dts)) |>\n",
    "# filter(AF_dts > 0.2) |>\n",
    "# pull(AF_wgs) |>\n",
    "# is_not_na() |> mean() |> print() ->\n",
    "# wgs_sens_gt_20"
   ]
  },
  {
   "cell_type": "code",
   "execution_count": 40,
   "metadata": {
    "ExecuteTime": {
     "end_time": "2025-04-28T14:47:51.173516Z",
     "start_time": "2025-04-28T14:47:50.947Z"
    },
    "hidden": true
   },
   "outputs": [
    {
     "name": "stdout",
     "output_type": "stream",
     "text": [
      "[1] 0.1607143\n"
     ]
    }
   ],
   "source": [
    "# chip_calls_joined_byperson |>\n",
    "# filter(!is.na(AF_dts)) |>\n",
    "# filter(AF_dts > 0.3) |>\n",
    "# pull(AF_wgs) |>\n",
    "# is_not_na() |> mean() |> print() ->\n",
    "# wgs_sens_gt_30"
   ]
  },
  {
   "cell_type": "code",
   "execution_count": 33,
   "metadata": {
    "ExecuteTime": {
     "end_time": "2025-04-28T14:47:18.906868Z",
     "start_time": "2025-04-28T14:47:18.687Z"
    },
    "hidden": true
   },
   "outputs": [],
   "source": [
    "# chip_calls_joined_byperson |>\n",
    "# filter(!is.na(AF_dts)) |>\n",
    "# filter(between(AF_dts, 0.02, 0.05)) |>\n",
    "# pull(AF_wgs) |>\n",
    "# is_not_na() |>\n",
    "# mean()"
   ]
  },
  {
   "cell_type": "code",
   "execution_count": 34,
   "metadata": {
    "ExecuteTime": {
     "end_time": "2025-04-28T14:47:26.273486Z",
     "start_time": "2025-04-28T14:47:26.019Z"
    },
    "hidden": true
   },
   "outputs": [],
   "source": [
    "# chip_calls_joined_byperson |>\n",
    "# filter(!is.na(AF_dts)) |>\n",
    "# filter(between(AF_dts, 0.05, 0.1)) |>\n",
    "# pull(AF_wgs) |>\n",
    "# is_not_na() |>\n",
    "# mean()"
   ]
  },
  {
   "cell_type": "code",
   "execution_count": 35,
   "metadata": {
    "ExecuteTime": {
     "end_time": "2025-04-28T14:47:28.097118Z",
     "start_time": "2025-04-28T14:47:27.667Z"
    },
    "hidden": true
   },
   "outputs": [],
   "source": [
    "# chip_calls_joined_byperson |>\n",
    "# filter(!is.na(AF_dts)) |>\n",
    "# filter(between(AF_dts, 0.1, 0.2)) |>\n",
    "# pull(AF_wgs) |>\n",
    "# is_not_na() |>\n",
    "# mean()"
   ]
  },
  {
   "cell_type": "code",
   "execution_count": 36,
   "metadata": {
    "ExecuteTime": {
     "end_time": "2025-04-28T14:47:29.577128Z",
     "start_time": "2025-04-28T14:47:29.227Z"
    },
    "hidden": true
   },
   "outputs": [],
   "source": [
    "# chip_calls_joined_byperson |>\n",
    "# filter(!is.na(AF_dts)) |>\n",
    "# filter(between(AF_dts, 0.2, 0.3)) |>\n",
    "# pull(AF_wgs) |>\n",
    "# is_not_na() |>\n",
    "# mean()"
   ]
  },
  {
   "cell_type": "code",
   "execution_count": 37,
   "metadata": {
    "ExecuteTime": {
     "end_time": "2025-04-28T14:47:32.063440Z",
     "start_time": "2025-04-28T14:47:31.735Z"
    },
    "hidden": true
   },
   "outputs": [],
   "source": [
    "# chip_calls_joined_byperson |>\n",
    "# filter(!is.na(AF_dts)) |>\n",
    "# filter(between(AF_dts, 0.3, 1)) |>\n",
    "# pull(AF_wgs) |>\n",
    "# is_not_na() |>\n",
    "# mean()"
   ]
  },
  {
   "cell_type": "code",
   "execution_count": 39,
   "metadata": {
    "ExecuteTime": {
     "end_time": "2025-04-24T15:29:16.022694Z",
     "start_time": "2025-04-24T15:29:12.583Z"
    },
    "hidden": true,
    "scrolled": false
   },
   "outputs": [
    {
     "name": "stdout",
     "output_type": "stream",
     "text": [
      "\u001b[90m# A tibble: 4 × 2\u001b[39m\n",
      "  name                                    value\n",
      "  \u001b[3m\u001b[90m<chr>\u001b[39m\u001b[23m                                   \u001b[3m\u001b[90m<dbl>\u001b[39m\u001b[23m\n",
      "\u001b[90m1\u001b[39m \u001b[90m\"\u001b[39mspecificity\u001b[90m\"\u001b[39m                           0.964\n",
      "\u001b[90m2\u001b[39m \u001b[90m\"\u001b[39msensitivity for people\\nwith CHIP\u001b[90m\"\u001b[39m     0.255\n",
      "\u001b[90m3\u001b[39m \u001b[90m\"\u001b[39msensitivity for people\\nwith AF > 5%\u001b[90m\"\u001b[39m  0.411\n",
      "\u001b[90m4\u001b[39m \u001b[90m\"\u001b[39msensitivity for people\\nwith AF > 10%\u001b[90m\"\u001b[39m 0.483\n"
     ]
    },
    {
     "data": {
      "image/png": "[encoded data removed]",
      "text/plain": [
       "plot without title"
      ]
     },
     "metadata": {
      "image/png": {
       "height": 420,
       "width": 420
      }
     },
     "output_type": "display_data"
    }
   ],
   "source": [
    "# tibble(\n",
    "#     `specificity` = wgs_spec,\n",
    "#     `sensitivity for people\\nwith CHIP` = wgs_sens,\n",
    "#     `sensitivity for people\\nwith AF > 5%` = wgs_sens_gt_05,\n",
    "#     `sensitivity for people\\nwith AF > 10%` = wgs_sens_gt_10,\n",
    "# #     `sensitivity for people\\nwith AF > 20%` = wgs_sens_gt_20,\n",
    "# #     `sensitivity for people\\nwith AF > 30%` = wgs_sens_gt_30\n",
    "# ) |>\n",
    "# pivot_longer(cols = everything()) |>\n",
    "# print() |>\n",
    "# mutate(name = factor(name, levels = name)) |>\n",
    "# ggplot(aes(x = name, y = value)) +\n",
    "# geom_bar(stat = 'identity') +\n",
    "# theme_bw() +\n",
    "# labs(x = NULL, y = 'sensitivity or specificity')"
   ]
  },
  {
   "cell_type": "code",
   "execution_count": 40,
   "metadata": {
    "ExecuteTime": {
     "end_time": "2025-04-24T15:29:17.054958Z",
     "start_time": "2025-04-24T15:29:13.362Z"
    },
    "hidden": true
   },
   "outputs": [],
   "source": [
    "# ggsave('wgs_sens_spec_byperson.pdf', height = 4, width = 6)"
   ]
  },
  {
   "cell_type": "markdown",
   "metadata": {},
   "source": [
    "# sens/spec/PPV/NPV by variant"
   ]
  },
  {
   "cell_type": "code",
   "execution_count": 39,
   "metadata": {
    "ExecuteTime": {
     "end_time": "2025-07-14T19:36:57.353237Z",
     "start_time": "2025-07-14T19:36:55.880Z"
    }
   },
   "outputs": [
    {
     "data": {
      "image/png": "[encoded data removed]",
      "text/plain": [
       "Plot with title “Histogram of chip_vars_wgs$DP_wgs”"
      ]
     },
     "metadata": {
      "image/png": {
       "height": 420,
       "width": 420
      }
     },
     "output_type": "display_data"
    }
   ],
   "source": [
    "chip_vars_wgs$DP_wgs |> hist()"
   ]
  },
  {
   "cell_type": "code",
   "execution_count": 42,
   "metadata": {
    "ExecuteTime": {
     "end_time": "2025-07-14T19:47:54.066864Z",
     "start_time": "2025-07-14T19:47:53.977Z"
    }
   },
   "outputs": [
    {
     "name": "stdout",
     "output_type": "stream",
     "text": [
      "Rows: 2,045\n",
      "Columns: 32\n",
      "$ GRID                  \u001b[3m\u001b[90m<chr>\u001b[39m\u001b[23m \"R236850354\"\u001b[90m, \u001b[39m\"R288271461\"\u001b[90m, \u001b[39m\"R231178314\"\u001b[90m, \u001b[39m\"R2126…\n",
      "$ chip_gene_dts         \u001b[3m\u001b[90m<chr>\u001b[39m\u001b[23m \"DNMT3A\"\u001b[90m, \u001b[39m\"GNB1\"\u001b[90m, \u001b[39m\"DNMT3A\"\u001b[90m, \u001b[39m\"ASXL1\"\u001b[90m, \u001b[39m\"DNMT3A\"\u001b[90m, \u001b[39m\"…\n",
      "$ chip_mut_func_dts     \u001b[3m\u001b[90m<chr>\u001b[39m\u001b[23m \"exonic\"\u001b[90m, \u001b[39m\"exonic\"\u001b[90m, \u001b[39m\"splicing\"\u001b[90m, \u001b[39m\"exonic\"\u001b[90m, \u001b[39m\"exoni…\n",
      "$ chip_mut_exofunc_dts  \u001b[3m\u001b[90m<chr>\u001b[39m\u001b[23m \"frameshift deletion\"\u001b[90m, \u001b[39m\"nonsynonymous SNV\"\u001b[90m, \u001b[39m\".\"\u001b[90m,\u001b[39m…\n",
      "$ chip_mut_aachange_dts \u001b[3m\u001b[90m<chr>\u001b[39m\u001b[23m \"R767Gfs*14\"\u001b[90m, \u001b[39m\"K57E\"\u001b[90m, \u001b[39m\u001b[31mNA\u001b[39m\u001b[90m, \u001b[39m\"P808Lfs*10\"\u001b[90m, \u001b[39m\"L637P\"\u001b[90m,\u001b[39m…\n",
      "$ AF_dts                \u001b[3m\u001b[90m<dbl>\u001b[39m\u001b[23m 0.065\u001b[90m, \u001b[39m0.031\u001b[90m, \u001b[39m0.439\u001b[90m, \u001b[39m0.264\u001b[90m, \u001b[39m0.023\u001b[90m, \u001b[39m0.048\u001b[90m, \u001b[39m0.032\u001b[90m,\u001b[39m…\n",
      "$ person_id             \u001b[3m\u001b[90m<dbl>\u001b[39m\u001b[23m 2321854\u001b[90m, \u001b[39m\u001b[31mNA\u001b[39m\u001b[90m, \u001b[39m\u001b[31mNA\u001b[39m\u001b[90m, \u001b[39m1824488\u001b[90m, \u001b[39m\u001b[31mNA\u001b[39m\u001b[90m, \u001b[39m\u001b[31mNA\u001b[39m\u001b[90m, \u001b[39m\u001b[31mNA\u001b[39m\u001b[90m, \u001b[39m\u001b[31mNA\u001b[39m\u001b[90m, \u001b[39m928126…\n",
      "$ SAMPLE_ID             \u001b[3m\u001b[90m<dbl>\u001b[39m\u001b[23m 100184671\u001b[90m, \u001b[39m\u001b[31mNA\u001b[39m\u001b[90m, \u001b[39m\u001b[31mNA\u001b[39m\u001b[90m, \u001b[39m100208003\u001b[90m, \u001b[39m\u001b[31mNA\u001b[39m\u001b[90m, \u001b[39m\u001b[31mNA\u001b[39m\u001b[90m, \u001b[39m\u001b[31mNA\u001b[39m\u001b[90m, \u001b[39m\u001b[31mNA\u001b[39m\u001b[90m, \u001b[39m10…\n",
      "$ birth_date            \u001b[3m\u001b[90m<dttm>\u001b[39m\u001b[23m 1935-08-26\u001b[90m, \u001b[39m\u001b[31mNA\u001b[39m\u001b[90m, \u001b[39m\u001b[31mNA\u001b[39m\u001b[90m, \u001b[39m1947-06-20\u001b[90m, \u001b[39m\u001b[31mNA\u001b[39m\u001b[90m, \u001b[39m\u001b[31mNA\u001b[39m\u001b[90m, \u001b[39m\u001b[31mNA\u001b[39m\u001b[90m, \u001b[39m\u001b[31mNA\u001b[39m\u001b[90m,\u001b[39m…\n",
      "$ gender                \u001b[3m\u001b[90m<chr>\u001b[39m\u001b[23m \"F\"\u001b[90m, \u001b[39m\u001b[31mNA\u001b[39m\u001b[90m, \u001b[39m\u001b[31mNA\u001b[39m\u001b[90m, \u001b[39m\"F\"\u001b[90m, \u001b[39m\u001b[31mNA\u001b[39m\u001b[90m, \u001b[39m\u001b[31mNA\u001b[39m\u001b[90m, \u001b[39m\u001b[31mNA\u001b[39m\u001b[90m, \u001b[39m\u001b[31mNA\u001b[39m\u001b[90m, \u001b[39m\"M\"\u001b[90m, \u001b[39m\"M\"\u001b[90m, \u001b[39m\u001b[31mNA\u001b[39m\u001b[90m, \u001b[39m…\n",
      "$ biosample_date        \u001b[3m\u001b[90m<date>\u001b[39m\u001b[23m 2011-04-11\u001b[90m, \u001b[39m\u001b[31mNA\u001b[39m\u001b[90m, \u001b[39m\u001b[31mNA\u001b[39m\u001b[90m, \u001b[39m2016-09-19\u001b[90m, \u001b[39m\u001b[31mNA\u001b[39m\u001b[90m, \u001b[39m\u001b[31mNA\u001b[39m\u001b[90m, \u001b[39m\u001b[31mNA\u001b[39m\u001b[90m, \u001b[39m\u001b[31mNA\u001b[39m\u001b[90m,\u001b[39m…\n",
      "$ age_at_biosample      \u001b[3m\u001b[90m<dbl>\u001b[39m\u001b[23m 75.62698\u001b[90m, \u001b[39m\u001b[31mNA\u001b[39m\u001b[90m, \u001b[39m\u001b[31mNA\u001b[39m\u001b[90m, \u001b[39m69.25309\u001b[90m, \u001b[39m\u001b[31mNA\u001b[39m\u001b[90m, \u001b[39m\u001b[31mNA\u001b[39m\u001b[90m, \u001b[39m\u001b[31mNA\u001b[39m\u001b[90m, \u001b[39m\u001b[31mNA\u001b[39m\u001b[90m, \u001b[39m69.9…\n",
      "$ chr                   \u001b[3m\u001b[90m<chr>\u001b[39m\u001b[23m \"chr2\"\u001b[90m, \u001b[39m\u001b[31mNA\u001b[39m\u001b[90m, \u001b[39m\u001b[31mNA\u001b[39m\u001b[90m, \u001b[39m\"chr20\"\u001b[90m, \u001b[39m\u001b[31mNA\u001b[39m\u001b[90m, \u001b[39m\u001b[31mNA\u001b[39m\u001b[90m, \u001b[39m\u001b[31mNA\u001b[39m\u001b[90m, \u001b[39m\u001b[31mNA\u001b[39m\u001b[90m, \u001b[39m\"chr2\"\u001b[90m,\u001b[39m…\n",
      "$ start                 \u001b[3m\u001b[90m<dbl>\u001b[39m\u001b[23m 25240324\u001b[90m, \u001b[39m\u001b[31mNA\u001b[39m\u001b[90m, \u001b[39m\u001b[31mNA\u001b[39m\u001b[90m, \u001b[39m32435134\u001b[90m, \u001b[39m\u001b[31mNA\u001b[39m\u001b[90m, \u001b[39m\u001b[31mNA\u001b[39m\u001b[90m, \u001b[39m\u001b[31mNA\u001b[39m\u001b[90m, \u001b[39m\u001b[31mNA\u001b[39m\u001b[90m, \u001b[39m2524…\n",
      "$ end                   \u001b[3m\u001b[90m<dbl>\u001b[39m\u001b[23m 25240325\u001b[90m, \u001b[39m\u001b[31mNA\u001b[39m\u001b[90m, \u001b[39m\u001b[31mNA\u001b[39m\u001b[90m, \u001b[39m32435134\u001b[90m, \u001b[39m\u001b[31mNA\u001b[39m\u001b[90m, \u001b[39m\u001b[31mNA\u001b[39m\u001b[90m, \u001b[39m\u001b[31mNA\u001b[39m\u001b[90m, \u001b[39m\u001b[31mNA\u001b[39m\u001b[90m, \u001b[39m2524…\n",
      "$ chip_mut_func_wgs     \u001b[3m\u001b[90m<chr>\u001b[39m\u001b[23m \"exonic\"\u001b[90m, \u001b[39m\u001b[31mNA\u001b[39m\u001b[90m, \u001b[39m\u001b[31mNA\u001b[39m\u001b[90m, \u001b[39m\"exonic\"\u001b[90m, \u001b[39m\u001b[31mNA\u001b[39m\u001b[90m, \u001b[39m\u001b[31mNA\u001b[39m\u001b[90m, \u001b[39m\u001b[31mNA\u001b[39m\u001b[90m, \u001b[39m\u001b[31mNA\u001b[39m\u001b[90m, \u001b[39m\"exo…\n",
      "$ chip_mut_exofunc_wgs  \u001b[3m\u001b[90m<chr>\u001b[39m\u001b[23m \"frameshift deletion\"\u001b[90m, \u001b[39m\u001b[31mNA\u001b[39m\u001b[90m, \u001b[39m\u001b[31mNA\u001b[39m\u001b[90m, \u001b[39m\"frameshift delet…\n",
      "$ GT_wgs                \u001b[3m\u001b[90m<chr>\u001b[39m\u001b[23m \"0/1\"\u001b[90m, \u001b[39m\u001b[31mNA\u001b[39m\u001b[90m, \u001b[39m\u001b[31mNA\u001b[39m\u001b[90m, \u001b[39m\"0/1\"\u001b[90m, \u001b[39m\u001b[31mNA\u001b[39m\u001b[90m, \u001b[39m\u001b[31mNA\u001b[39m\u001b[90m, \u001b[39m\u001b[31mNA\u001b[39m\u001b[90m, \u001b[39m\u001b[31mNA\u001b[39m\u001b[90m, \u001b[39m\"0/1\"\u001b[90m, \u001b[39m\"0/…\n",
      "$ AF_wgs                \u001b[3m\u001b[90m<dbl>\u001b[39m\u001b[23m 0.936\u001b[90m, \u001b[39m\u001b[31mNA\u001b[39m\u001b[90m, \u001b[39m\u001b[31mNA\u001b[39m\u001b[90m, \u001b[39m0.936\u001b[90m, \u001b[39m\u001b[31mNA\u001b[39m\u001b[90m, \u001b[39m\u001b[31mNA\u001b[39m\u001b[90m, \u001b[39m\u001b[31mNA\u001b[39m\u001b[90m, \u001b[39m\u001b[31mNA\u001b[39m\u001b[90m, \u001b[39m0.936\u001b[90m, \u001b[39m0.9…\n",
      "$ DP_wgs                \u001b[3m\u001b[90m<dbl>\u001b[39m\u001b[23m 31\u001b[90m, \u001b[39m\u001b[31mNA\u001b[39m\u001b[90m, \u001b[39m\u001b[31mNA\u001b[39m\u001b[90m, \u001b[39m34\u001b[90m, \u001b[39m\u001b[31mNA\u001b[39m\u001b[90m, \u001b[39m\u001b[31mNA\u001b[39m\u001b[90m, \u001b[39m\u001b[31mNA\u001b[39m\u001b[90m, \u001b[39m\u001b[31mNA\u001b[39m\u001b[90m, \u001b[39m29\u001b[90m, \u001b[39m38\u001b[90m, \u001b[39m\u001b[31mNA\u001b[39m\u001b[90m, \u001b[39m\u001b[31mNA\u001b[39m\u001b[90m, \u001b[39m…\n",
      "$ AD_1_wgs              \u001b[3m\u001b[90m<dbl>\u001b[39m\u001b[23m 27\u001b[90m, \u001b[39m\u001b[31mNA\u001b[39m\u001b[90m, \u001b[39m\u001b[31mNA\u001b[39m\u001b[90m, \u001b[39m24\u001b[90m, \u001b[39m\u001b[31mNA\u001b[39m\u001b[90m, \u001b[39m\u001b[31mNA\u001b[39m\u001b[90m, \u001b[39m\u001b[31mNA\u001b[39m\u001b[90m, \u001b[39m\u001b[31mNA\u001b[39m\u001b[90m, \u001b[39m18\u001b[90m, \u001b[39m29\u001b[90m, \u001b[39m\u001b[31mNA\u001b[39m\u001b[90m, \u001b[39m\u001b[31mNA\u001b[39m\u001b[90m, \u001b[39m…\n",
      "$ AD_2_wgs              \u001b[3m\u001b[90m<dbl>\u001b[39m\u001b[23m 4\u001b[90m, \u001b[39m\u001b[31mNA\u001b[39m\u001b[90m, \u001b[39m\u001b[31mNA\u001b[39m\u001b[90m, \u001b[39m10\u001b[90m, \u001b[39m\u001b[31mNA\u001b[39m\u001b[90m, \u001b[39m\u001b[31mNA\u001b[39m\u001b[90m, \u001b[39m\u001b[31mNA\u001b[39m\u001b[90m, \u001b[39m\u001b[31mNA\u001b[39m\u001b[90m, \u001b[39m11\u001b[90m, \u001b[39m9\u001b[90m, \u001b[39m\u001b[31mNA\u001b[39m\u001b[90m, \u001b[39m\u001b[31mNA\u001b[39m\u001b[90m, \u001b[39m3\u001b[90m,\u001b[39m…\n",
      "$ AD_3_wgs              \u001b[3m\u001b[90m<dbl>\u001b[39m\u001b[23m \u001b[31mNA\u001b[39m\u001b[90m, \u001b[39m\u001b[31mNA\u001b[39m\u001b[90m, \u001b[39m\u001b[31mNA\u001b[39m\u001b[90m, \u001b[39m\u001b[31mNA\u001b[39m\u001b[90m, \u001b[39m\u001b[31mNA\u001b[39m\u001b[90m, \u001b[39m\u001b[31mNA\u001b[39m\u001b[90m, \u001b[39m\u001b[31mNA\u001b[39m\u001b[90m, \u001b[39m\u001b[31mNA\u001b[39m\u001b[90m, \u001b[39m\u001b[31mNA\u001b[39m\u001b[90m, \u001b[39m\u001b[31mNA\u001b[39m\u001b[90m, \u001b[39m\u001b[31mNA\u001b[39m\u001b[90m, \u001b[39m\u001b[31mNA\u001b[39m\u001b[90m, \u001b[39m…\n",
      "$ AD_4_wgs              \u001b[3m\u001b[90m<lgl>\u001b[39m\u001b[23m \u001b[31mNA\u001b[39m\u001b[90m, \u001b[39m\u001b[31mNA\u001b[39m\u001b[90m, \u001b[39m\u001b[31mNA\u001b[39m\u001b[90m, \u001b[39m\u001b[31mNA\u001b[39m\u001b[90m, \u001b[39m\u001b[31mNA\u001b[39m\u001b[90m, \u001b[39m\u001b[31mNA\u001b[39m\u001b[90m, \u001b[39m\u001b[31mNA\u001b[39m\u001b[90m, \u001b[39m\u001b[31mNA\u001b[39m\u001b[90m, \u001b[39m\u001b[31mNA\u001b[39m\u001b[90m, \u001b[39m\u001b[31mNA\u001b[39m\u001b[90m, \u001b[39m\u001b[31mNA\u001b[39m\u001b[90m, \u001b[39m\u001b[31mNA\u001b[39m\u001b[90m, \u001b[39m…\n",
      "$ F1R2_1_wgs            \u001b[3m\u001b[90m<dbl>\u001b[39m\u001b[23m 10\u001b[90m, \u001b[39m\u001b[31mNA\u001b[39m\u001b[90m, \u001b[39m\u001b[31mNA\u001b[39m\u001b[90m, \u001b[39m12\u001b[90m, \u001b[39m\u001b[31mNA\u001b[39m\u001b[90m, \u001b[39m\u001b[31mNA\u001b[39m\u001b[90m, \u001b[39m\u001b[31mNA\u001b[39m\u001b[90m, \u001b[39m\u001b[31mNA\u001b[39m\u001b[90m, \u001b[39m8\u001b[90m, \u001b[39m19\u001b[90m, \u001b[39m\u001b[31mNA\u001b[39m\u001b[90m, \u001b[39m\u001b[31mNA\u001b[39m\u001b[90m, \u001b[39m1…\n",
      "$ F1R2_2_wgs            \u001b[3m\u001b[90m<dbl>\u001b[39m\u001b[23m 2\u001b[90m, \u001b[39m\u001b[31mNA\u001b[39m\u001b[90m, \u001b[39m\u001b[31mNA\u001b[39m\u001b[90m, \u001b[39m4\u001b[90m, \u001b[39m\u001b[31mNA\u001b[39m\u001b[90m, \u001b[39m\u001b[31mNA\u001b[39m\u001b[90m, \u001b[39m\u001b[31mNA\u001b[39m\u001b[90m, \u001b[39m\u001b[31mNA\u001b[39m\u001b[90m, \u001b[39m6\u001b[90m, \u001b[39m3\u001b[90m, \u001b[39m\u001b[31mNA\u001b[39m\u001b[90m, \u001b[39m\u001b[31mNA\u001b[39m\u001b[90m, \u001b[39m1\u001b[90m, \u001b[39m\u001b[31mN\u001b[39m…\n",
      "$ F1R2_3_wgs            \u001b[3m\u001b[90m<dbl>\u001b[39m\u001b[23m \u001b[31mNA\u001b[39m\u001b[90m, \u001b[39m\u001b[31mNA\u001b[39m\u001b[90m, \u001b[39m\u001b[31mNA\u001b[39m\u001b[90m, \u001b[39m\u001b[31mNA\u001b[39m\u001b[90m, \u001b[39m\u001b[31mNA\u001b[39m\u001b[90m, \u001b[39m\u001b[31mNA\u001b[39m\u001b[90m, \u001b[39m\u001b[31mNA\u001b[39m\u001b[90m, \u001b[39m\u001b[31mNA\u001b[39m\u001b[90m, \u001b[39m\u001b[31mNA\u001b[39m\u001b[90m, \u001b[39m\u001b[31mNA\u001b[39m\u001b[90m, \u001b[39m\u001b[31mNA\u001b[39m\u001b[90m, \u001b[39m\u001b[31mNA\u001b[39m\u001b[90m, \u001b[39m…\n",
      "$ F1R2_4_wgs            \u001b[3m\u001b[90m<lgl>\u001b[39m\u001b[23m \u001b[31mNA\u001b[39m\u001b[90m, \u001b[39m\u001b[31mNA\u001b[39m\u001b[90m, \u001b[39m\u001b[31mNA\u001b[39m\u001b[90m, \u001b[39m\u001b[31mNA\u001b[39m\u001b[90m, \u001b[39m\u001b[31mNA\u001b[39m\u001b[90m, \u001b[39m\u001b[31mNA\u001b[39m\u001b[90m, \u001b[39m\u001b[31mNA\u001b[39m\u001b[90m, \u001b[39m\u001b[31mNA\u001b[39m\u001b[90m, \u001b[39m\u001b[31mNA\u001b[39m\u001b[90m, \u001b[39m\u001b[31mNA\u001b[39m\u001b[90m, \u001b[39m\u001b[31mNA\u001b[39m\u001b[90m, \u001b[39m\u001b[31mNA\u001b[39m\u001b[90m, \u001b[39m…\n",
      "$ F2R1_1_wgs            \u001b[3m\u001b[90m<dbl>\u001b[39m\u001b[23m 16\u001b[90m, \u001b[39m\u001b[31mNA\u001b[39m\u001b[90m, \u001b[39m\u001b[31mNA\u001b[39m\u001b[90m, \u001b[39m12\u001b[90m, \u001b[39m\u001b[31mNA\u001b[39m\u001b[90m, \u001b[39m\u001b[31mNA\u001b[39m\u001b[90m, \u001b[39m\u001b[31mNA\u001b[39m\u001b[90m, \u001b[39m\u001b[31mNA\u001b[39m\u001b[90m, \u001b[39m10\u001b[90m, \u001b[39m9\u001b[90m, \u001b[39m\u001b[31mNA\u001b[39m\u001b[90m, \u001b[39m\u001b[31mNA\u001b[39m\u001b[90m, \u001b[39m1…\n",
      "$ F2R1_2_wgs            \u001b[3m\u001b[90m<dbl>\u001b[39m\u001b[23m 2\u001b[90m, \u001b[39m\u001b[31mNA\u001b[39m\u001b[90m, \u001b[39m\u001b[31mNA\u001b[39m\u001b[90m, \u001b[39m6\u001b[90m, \u001b[39m\u001b[31mNA\u001b[39m\u001b[90m, \u001b[39m\u001b[31mNA\u001b[39m\u001b[90m, \u001b[39m\u001b[31mNA\u001b[39m\u001b[90m, \u001b[39m\u001b[31mNA\u001b[39m\u001b[90m, \u001b[39m5\u001b[90m, \u001b[39m5\u001b[90m, \u001b[39m\u001b[31mNA\u001b[39m\u001b[90m, \u001b[39m\u001b[31mNA\u001b[39m\u001b[90m, \u001b[39m2\u001b[90m, \u001b[39m\u001b[31mN\u001b[39m…\n",
      "$ F2R1_3_wgs            \u001b[3m\u001b[90m<dbl>\u001b[39m\u001b[23m \u001b[31mNA\u001b[39m\u001b[90m, \u001b[39m\u001b[31mNA\u001b[39m\u001b[90m, \u001b[39m\u001b[31mNA\u001b[39m\u001b[90m, \u001b[39m\u001b[31mNA\u001b[39m\u001b[90m, \u001b[39m\u001b[31mNA\u001b[39m\u001b[90m, \u001b[39m\u001b[31mNA\u001b[39m\u001b[90m, \u001b[39m\u001b[31mNA\u001b[39m\u001b[90m, \u001b[39m\u001b[31mNA\u001b[39m\u001b[90m, \u001b[39m\u001b[31mNA\u001b[39m\u001b[90m, \u001b[39m\u001b[31mNA\u001b[39m\u001b[90m, \u001b[39m\u001b[31mNA\u001b[39m\u001b[90m, \u001b[39m\u001b[31mNA\u001b[39m\u001b[90m, \u001b[39m…\n",
      "$ F2R1_4_wgs            \u001b[3m\u001b[90m<lgl>\u001b[39m\u001b[23m \u001b[31mNA\u001b[39m\u001b[90m, \u001b[39m\u001b[31mNA\u001b[39m\u001b[90m, \u001b[39m\u001b[31mNA\u001b[39m\u001b[90m, \u001b[39m\u001b[31mNA\u001b[39m\u001b[90m, \u001b[39m\u001b[31mNA\u001b[39m\u001b[90m, \u001b[39m\u001b[31mNA\u001b[39m\u001b[90m, \u001b[39m\u001b[31mNA\u001b[39m\u001b[90m, \u001b[39m\u001b[31mNA\u001b[39m\u001b[90m, \u001b[39m\u001b[31mNA\u001b[39m\u001b[90m, \u001b[39m\u001b[31mNA\u001b[39m\u001b[90m, \u001b[39m\u001b[31mNA\u001b[39m\u001b[90m, \u001b[39m\u001b[31mNA\u001b[39m\u001b[90m, \u001b[39m…\n"
     ]
    }
   ],
   "source": [
    "chip_vars_dts |>\n",
    "full_join(chip_vars_wgs, \n",
    "          by = join_by(\n",
    "              GRID, \n",
    "              chip_gene_dts == chip_gene_wgs,\n",
    "              chip_mut_aachange_dts == chip_mut_aachange_wgs)) |>\n",
    "# full_join(cohort_dts_wgs, by = 'GRID') |>\n",
    "# select(\n",
    "#     GRID,\n",
    "#     person_id,\n",
    "#     SAMPLE_ID,\n",
    "#     birth_date, gender, age_at_biosample,\n",
    "#     chip_gene = chip_gene_dts,\n",
    "#     chip_mut_func = chip_mut_func_dts,\n",
    "#     chip_mut_exofunc = chip_mut_exofunc_dts,\n",
    "#     chip_mut_aachange = chip_mut_aachange_dts,\n",
    "#     AF_dts,\n",
    "#     AD1_wgs:DP_wgs\n",
    "# ) |>\n",
    "glimpse() ->\n",
    "chip_calls_joined_byvariant"
   ]
  },
  {
   "cell_type": "code",
   "execution_count": 43,
   "metadata": {
    "ExecuteTime": {
     "end_time": "2025-07-14T19:47:59.546508Z",
     "start_time": "2025-07-14T19:47:59.461Z"
    }
   },
   "outputs": [],
   "source": [
    "write_tsv(\n",
    "    chip_calls_joined_byvariant,\n",
    "    'WGS_DTS_chip_calls_joined_by_variant.tsv'\n",
    ")"
   ]
  },
  {
   "cell_type": "code",
   "execution_count": 44,
   "metadata": {
    "ExecuteTime": {
     "end_time": "2025-07-14T19:48:02.555409Z",
     "start_time": "2025-07-14T19:48:00.292Z"
    }
   },
   "outputs": [
    {
     "data": {
      "text/html": [],
      "text/latex": [],
      "text/markdown": [],
      "text/plain": [
       "character(0)"
      ]
     },
     "metadata": {},
     "output_type": "display_data"
    }
   ],
   "source": [
    "gscp(\n",
    "    'WGS_DTS_chip_calls_joined_by_variant.tsv',\n",
    "    glue('{WORKSPACE_BUCKET}/rcorty')\n",
    ")"
   ]
  },
  {
   "cell_type": "code",
   "execution_count": 46,
   "metadata": {
    "ExecuteTime": {
     "end_time": "2025-07-14T19:48:09.091912Z",
     "start_time": "2025-07-14T19:48:07.159Z"
    }
   },
   "outputs": [
    {
     "name": "stderr",
     "output_type": "stream",
     "text": [
      "all results of gsutil ls start with gs://fc-secure-95fec9d6-9173-477a-822e-cad4b97c8f0d/rcorty/\n",
      "\n"
     ]
    },
    {
     "data": {
      "text/html": [
       "<style>\n",
       ".list-inline {list-style: none; margin:0; padding: 0}\n",
       ".list-inline>li {display: inline-block}\n",
       ".list-inline>li:not(:last-child)::after {content: \"\\00b7\"; padding: 0 .5ex}\n",
       "</style>\n",
       "<ol class=list-inline><li>'AGD250kcohortshiftedsampledates.csv'</li><li>'AGD_March_2025_SampleIDMap.csv'</li><li>'SRSF1.bed'</li><li>'TERT.bed'</li><li>'WGS_DTS_chip_calls_joined_by_variant.tsv'</li><li>'agd_baseline_data_250k.csv'</li><li>'chip_calls_byperson_DP_15p_AD2_2p_bs.tsv'</li><li>'chip_calls_byperson_DP_15p_AD2_2p_bs_35k_cohort.tsv'</li><li>'chip_calls_byperson_DP_15p_AD2_2p_os.tsv'</li><li>'chip_calls_byperson_DP_15p_AD2_3p_bs.tsv'</li><li>'chip_calls_byperson_DP_15p_AD2_3p_os.tsv'</li><li>'chip_calls_byperson_DP_15p_AD2_4p_bs.tsv'</li><li>'chip_calls_byperson_DP_15p_AD2_4p_os.tsv'</li><li>'chip_calls_byperson_DP_15p_AD2_5p_bs.tsv'</li><li>'chip_calls_byperson_DP_15p_AD2_5p_os.tsv'</li><li>'chip_vars_DP_15p_AD2_2p_bs.tsv'</li><li>'chip_vars_DP_15p_AD2_2p_os.tsv'</li><li>'chip_vars_DP_15p_AD2_3p_bs.tsv'</li><li>'chip_vars_DP_15p_AD2_3p_os.tsv'</li><li>'chip_vars_DP_15p_AD2_4p_bs.tsv'</li><li>'chip_vars_DP_15p_AD2_4p_os.tsv'</li><li>'chip_vars_DP_15p_AD2_5p_bs.tsv'</li><li>'chip_vars_DP_15p_AD2_5p_os.tsv'</li><li>'demog_of_agd.csv'</li><li>'putative_chip_vars_nofilters.RDS'</li><li>'targeted_sequencing_biovu_rad_mtp_kidney_yp_03182025.tsv'</li><li>'wgs_CHIP_is_spec_but_not_sens.ipynb'</li><li>'score_files/'</li></ol>\n"
      ],
      "text/latex": [
       "\\begin{enumerate*}\n",
       "\\item 'AGD250kcohortshiftedsampledates.csv'\n",
       "\\item 'AGD\\_March\\_2025\\_SampleIDMap.csv'\n",
       "\\item 'SRSF1.bed'\n",
       "\\item 'TERT.bed'\n",
       "\\item 'WGS\\_DTS\\_chip\\_calls\\_joined\\_by\\_variant.tsv'\n",
       "\\item 'agd\\_baseline\\_data\\_250k.csv'\n",
       "\\item 'chip\\_calls\\_byperson\\_DP\\_15p\\_AD2\\_2p\\_bs.tsv'\n",
       "\\item 'chip\\_calls\\_byperson\\_DP\\_15p\\_AD2\\_2p\\_bs\\_35k\\_cohort.tsv'\n",
       "\\item 'chip\\_calls\\_byperson\\_DP\\_15p\\_AD2\\_2p\\_os.tsv'\n",
       "\\item 'chip\\_calls\\_byperson\\_DP\\_15p\\_AD2\\_3p\\_bs.tsv'\n",
       "\\item 'chip\\_calls\\_byperson\\_DP\\_15p\\_AD2\\_3p\\_os.tsv'\n",
       "\\item 'chip\\_calls\\_byperson\\_DP\\_15p\\_AD2\\_4p\\_bs.tsv'\n",
       "\\item 'chip\\_calls\\_byperson\\_DP\\_15p\\_AD2\\_4p\\_os.tsv'\n",
       "\\item 'chip\\_calls\\_byperson\\_DP\\_15p\\_AD2\\_5p\\_bs.tsv'\n",
       "\\item 'chip\\_calls\\_byperson\\_DP\\_15p\\_AD2\\_5p\\_os.tsv'\n",
       "\\item 'chip\\_vars\\_DP\\_15p\\_AD2\\_2p\\_bs.tsv'\n",
       "\\item 'chip\\_vars\\_DP\\_15p\\_AD2\\_2p\\_os.tsv'\n",
       "\\item 'chip\\_vars\\_DP\\_15p\\_AD2\\_3p\\_bs.tsv'\n",
       "\\item 'chip\\_vars\\_DP\\_15p\\_AD2\\_3p\\_os.tsv'\n",
       "\\item 'chip\\_vars\\_DP\\_15p\\_AD2\\_4p\\_bs.tsv'\n",
       "\\item 'chip\\_vars\\_DP\\_15p\\_AD2\\_4p\\_os.tsv'\n",
       "\\item 'chip\\_vars\\_DP\\_15p\\_AD2\\_5p\\_bs.tsv'\n",
       "\\item 'chip\\_vars\\_DP\\_15p\\_AD2\\_5p\\_os.tsv'\n",
       "\\item 'demog\\_of\\_agd.csv'\n",
       "\\item 'putative\\_chip\\_vars\\_nofilters.RDS'\n",
       "\\item 'targeted\\_sequencing\\_biovu\\_rad\\_mtp\\_kidney\\_yp\\_03182025.tsv'\n",
       "\\item 'wgs\\_CHIP\\_is\\_spec\\_but\\_not\\_sens.ipynb'\n",
       "\\item 'score\\_files/'\n",
       "\\end{enumerate*}\n"
      ],
      "text/markdown": [
       "1. 'AGD250kcohortshiftedsampledates.csv'\n",
       "2. 'AGD_March_2025_SampleIDMap.csv'\n",
       "3. 'SRSF1.bed'\n",
       "4. 'TERT.bed'\n",
       "5. 'WGS_DTS_chip_calls_joined_by_variant.tsv'\n",
       "6. 'agd_baseline_data_250k.csv'\n",
       "7. 'chip_calls_byperson_DP_15p_AD2_2p_bs.tsv'\n",
       "8. 'chip_calls_byperson_DP_15p_AD2_2p_bs_35k_cohort.tsv'\n",
       "9. 'chip_calls_byperson_DP_15p_AD2_2p_os.tsv'\n",
       "10. 'chip_calls_byperson_DP_15p_AD2_3p_bs.tsv'\n",
       "11. 'chip_calls_byperson_DP_15p_AD2_3p_os.tsv'\n",
       "12. 'chip_calls_byperson_DP_15p_AD2_4p_bs.tsv'\n",
       "13. 'chip_calls_byperson_DP_15p_AD2_4p_os.tsv'\n",
       "14. 'chip_calls_byperson_DP_15p_AD2_5p_bs.tsv'\n",
       "15. 'chip_calls_byperson_DP_15p_AD2_5p_os.tsv'\n",
       "16. 'chip_vars_DP_15p_AD2_2p_bs.tsv'\n",
       "17. 'chip_vars_DP_15p_AD2_2p_os.tsv'\n",
       "18. 'chip_vars_DP_15p_AD2_3p_bs.tsv'\n",
       "19. 'chip_vars_DP_15p_AD2_3p_os.tsv'\n",
       "20. 'chip_vars_DP_15p_AD2_4p_bs.tsv'\n",
       "21. 'chip_vars_DP_15p_AD2_4p_os.tsv'\n",
       "22. 'chip_vars_DP_15p_AD2_5p_bs.tsv'\n",
       "23. 'chip_vars_DP_15p_AD2_5p_os.tsv'\n",
       "24. 'demog_of_agd.csv'\n",
       "25. 'putative_chip_vars_nofilters.RDS'\n",
       "26. 'targeted_sequencing_biovu_rad_mtp_kidney_yp_03182025.tsv'\n",
       "27. 'wgs_CHIP_is_spec_but_not_sens.ipynb'\n",
       "28. 'score_files/'\n",
       "\n",
       "\n"
      ],
      "text/plain": [
       " [1] \"AGD250kcohortshiftedsampledates.csv\"                     \n",
       " [2] \"AGD_March_2025_SampleIDMap.csv\"                          \n",
       " [3] \"SRSF1.bed\"                                               \n",
       " [4] \"TERT.bed\"                                                \n",
       " [5] \"WGS_DTS_chip_calls_joined_by_variant.tsv\"                \n",
       " [6] \"agd_baseline_data_250k.csv\"                              \n",
       " [7] \"chip_calls_byperson_DP_15p_AD2_2p_bs.tsv\"                \n",
       " [8] \"chip_calls_byperson_DP_15p_AD2_2p_bs_35k_cohort.tsv\"     \n",
       " [9] \"chip_calls_byperson_DP_15p_AD2_2p_os.tsv\"                \n",
       "[10] \"chip_calls_byperson_DP_15p_AD2_3p_bs.tsv\"                \n",
       "[11] \"chip_calls_byperson_DP_15p_AD2_3p_os.tsv\"                \n",
       "[12] \"chip_calls_byperson_DP_15p_AD2_4p_bs.tsv\"                \n",
       "[13] \"chip_calls_byperson_DP_15p_AD2_4p_os.tsv\"                \n",
       "[14] \"chip_calls_byperson_DP_15p_AD2_5p_bs.tsv\"                \n",
       "[15] \"chip_calls_byperson_DP_15p_AD2_5p_os.tsv\"                \n",
       "[16] \"chip_vars_DP_15p_AD2_2p_bs.tsv\"                          \n",
       "[17] \"chip_vars_DP_15p_AD2_2p_os.tsv\"                          \n",
       "[18] \"chip_vars_DP_15p_AD2_3p_bs.tsv\"                          \n",
       "[19] \"chip_vars_DP_15p_AD2_3p_os.tsv\"                          \n",
       "[20] \"chip_vars_DP_15p_AD2_4p_bs.tsv\"                          \n",
       "[21] \"chip_vars_DP_15p_AD2_4p_os.tsv\"                          \n",
       "[22] \"chip_vars_DP_15p_AD2_5p_bs.tsv\"                          \n",
       "[23] \"chip_vars_DP_15p_AD2_5p_os.tsv\"                          \n",
       "[24] \"demog_of_agd.csv\"                                        \n",
       "[25] \"putative_chip_vars_nofilters.RDS\"                        \n",
       "[26] \"targeted_sequencing_biovu_rad_mtp_kidney_yp_03182025.tsv\"\n",
       "[27] \"wgs_CHIP_is_spec_but_not_sens.ipynb\"                     \n",
       "[28] \"score_files/\"                                            "
      ]
     },
     "metadata": {},
     "output_type": "display_data"
    }
   ],
   "source": [
    "gsls(glue('{WORKSPACE_BUCKET}/rcorty'))"
   ]
  },
  {
   "cell_type": "code",
   "execution_count": 28,
   "metadata": {},
   "outputs": [
    {
     "name": "stderr",
     "output_type": "stream",
     "text": [
      "\u001b[1mRows: \u001b[22m\u001b[34m10303\u001b[39m \u001b[1mColumns: \u001b[22m\u001b[34m15\u001b[39m\n",
      "\u001b[36m──\u001b[39m \u001b[1mColumn specification\u001b[22m \u001b[36m────────────────────────────────────────────────────────\u001b[39m\n",
      "\u001b[1mDelimiter:\u001b[22m \"\\t\"\n",
      "\u001b[31mchr\u001b[39m  (8): GRID, chip_gene_dts, chip_mut_func_dts, chip_mut_exofunc_dts, chip...\n",
      "\u001b[32mdbl\u001b[39m  (5): AF_dts, AF_wgs, SAMPLE_ID, person_id, age_at_biosample\n",
      "\u001b[34mdttm\u001b[39m (1): birth_date\n",
      "\u001b[34mdate\u001b[39m (1): biosample_date\n",
      "\n",
      "\u001b[36mℹ\u001b[39m Use `spec()` to retrieve the full column specification for this data.\n",
      "\u001b[36mℹ\u001b[39m Specify the column types or set `show_col_types = FALSE` to quiet this message.\n"
     ]
    }
   ],
   "source": [
    "chip_calls_joined_byvariant = read_tsv('WGS_DTS_chip_calls_joined_by_variant.tsv')"
   ]
  },
  {
   "cell_type": "markdown",
   "metadata": {
    "heading_collapsed": true
   },
   "source": [
    "## look into false positives"
   ]
  },
  {
   "cell_type": "code",
   "execution_count": 25,
   "metadata": {
    "hidden": true,
    "scrolled": true
   },
   "outputs": [
    {
     "name": "stdout",
     "output_type": "stream",
     "text": [
      "[1] 0.06095065\n"
     ]
    }
   ],
   "source": [
    "chip_calls_joined_byvariant |>\n",
    "filter(is.na(AF_dts)) |>\n",
    "pull(AF_wgs) |>\n",
    "is_not_na() |> mean() |> print() ->\n",
    "wgs_fpr"
   ]
  },
  {
   "cell_type": "code",
   "execution_count": 26,
   "metadata": {
    "hidden": true
   },
   "outputs": [],
   "source": [
    "chip_calls_joined_byvariant |>\n",
    "filter(is.na(AF_dts), !is.na(AF_wgs)) |>\n",
    "pull(AF_wgs) ->\n",
    "false_pos_AF_wgs"
   ]
  },
  {
   "cell_type": "code",
   "execution_count": 27,
   "metadata": {
    "hidden": true
   },
   "outputs": [
    {
     "data": {
      "image/png": "[encoded data removed]",
      "text/plain": [
       "Plot with title “Histogram of false_pos_AF_wgs”"
      ]
     },
     "metadata": {
      "image/png": {
       "height": 420,
       "width": 420
      }
     },
     "output_type": "display_data"
    }
   ],
   "source": [
    "hist(false_pos_AF_wgs)"
   ]
  },
  {
   "cell_type": "code",
   "execution_count": 28,
   "metadata": {
    "collapsed": true,
    "hidden": true
   },
   "outputs": [
    {
     "name": "stdout",
     "output_type": "stream",
     "text": [
      "c(0.152, 0.103, 0.113, 0.102, 0.111, 0.077, 0.13, 0.162, 0.147, \n",
      "0.114, 0.194, 0.1, 0.103, 0.137, 0.125, 0.104, 0.119, 0.075, \n",
      "0.091, 0.343, 0.107, 0.06, 0.673, 0.094, 0.184, 0.109, 0.111, \n",
      "0.292, 0.347, 0.113, 0.125, 0.105, 0.163, 0.147, 0.088, 0.115, \n",
      "0.479, 0.103, 0.22, 0.165, 0.118, 0.069, 0.148, 0.506, 0.179, \n",
      "0.088, 0.07, 0.1, 0.133, 0.045, 0.259, 0.086, 0.167, 0.127, 0.217, \n",
      "0.08, 0.097, 0.082, 0.138, 0.109, 0.068, 0.093, 0.09, 0.119, \n",
      "0.175, 0.115, 0.193, 0.131, 0.12, 0.285, 0.442, 0.125, 0.116, \n",
      "0.18, 0.172, 0.125, 0.176, 0.322, 0.1, 0.319, 0.095, 0.241, 0.263, \n",
      "0.228, 0.207, 0.218, 0.135, 0.235, 0.13, 0.099, 0.18, 0.072, \n",
      "0.106, 0.216, 0.302, 0.21, 0.336, 0.083, 0.118, 0.086, 0.139, \n",
      "0.116, 0.075, 0.15, 0.143, 0.113, 0.072, 0.138, 0.112, 0.187, \n",
      "0.133, 0.087, 0.237, 0.128, 0.13, 0.104, 0.115, 0.143, 0.096, \n",
      "0.097, 0.118, 0.091, 0.229, 0.274, 0.241, 0.206, 0.206, 0.219, \n",
      "0.125, 0.111, 0.13, 0.291, 0.103, 0.095, 0.101, 0.395, 0.094, \n",
      "0.479, 0.115, 0.199, 0.054, 0.138, 0.111, 0.511, 0.104, 0.061, \n",
      "0.113, 0.062, 0.248, 0.08, 0.143, 0.152, 0.414, 0.071, 0.092, \n",
      "0.103, 0.108, 0.075, 0.23, 0.153, 0.096, 0.055, 0.26, 0.102, \n",
      "0.128, 0.3, 0.093, 0.35, 0.132, 0.081, 0.11, 0.115, 0.077, 0.093, \n",
      "0.074, 0.101, 0.07, 0.076, 0.115, 0.204, 0.143, 0.062, 0.258, \n",
      "0.137, 0.071, 0.12, 0.187, 0.291, 0.249, 0.133, 0.091, 0.159, \n",
      "0.312, 0.552, 0.1, 0.06, 0.088, 0.119, 0.107, 0.176, 0.35, 0.078, \n",
      "0.2, 0.111, 0.137, 0.182, 0.159, 0.095, 0.093, 0.2, 0.102, 0.107, \n",
      "0.21, 0.279, 0.303, 0.1, 0.467, 0.093, 0.093, 0.194, 0.256, 0.108, \n",
      "0.231, 0.311, 0.161, 0.222, 0.481, 0.577, 0.194, 0.077, 0.075, \n",
      "0.403, 0.135, 0.322, 0.17, 0.3, 0.243, 0.2, 0.207, 0.294, 0.075, \n",
      "0.467, 0.075, 0.162, 0.123, 0.094, 0.175, 0.134, 0.081, 0.198, \n",
      "0.096, 0.097, 0.103, 0.083, 0.147, 0.195, 0.206, 0.107, 0.151, \n",
      "0.107, 0.093, 0.066, 0.263, 0.111, 0.297, 0.125, 0.103, 0.083, \n",
      "0.125, 0.073, 0.107, 0.161, 0.126, 0.137, 0.333, 0.192, 0.079, \n",
      "0.185, 0.111, 0.175, 0.071, 0.193, 0.175, 0.156, 0.131, 0.099, \n",
      "0.086, 0.095, 0.125, 0.073, 0.272, 0.116, 0.219, 0.088, 0.309, \n",
      "0.423, 0.101, 0.119, 0.114, 0.278, 0.088, 0.091, 0.103, 0.107, \n",
      "0.267, 0.135, 0.107, 0.084, 0.107, 0.128, 0.166, 0.138, 0.147, \n",
      "0.097, 0.093, 0.116, 0.133, 0.159, 0.12, 0.314, 0.128, 0.1, 0.109, \n",
      "0.142, 0.096, 0.1, 0.111, 0.2, 0.295, 0.058, 0.1, 0.057, 0.111, \n",
      "0.2, 0.167, 0.09, 0.067, 0.12, 0.193, 0.336, 0.121, 0.266, 0.115, \n",
      "0.094, 0.373, 0.136, 0.081, 0.141, 0.166, 0.107, 0.057, 0.091, \n",
      "0.092, 0.157, 0.214, 0.526, 0.101, 0.103, 0.139, 0.133, 0.124, \n",
      "0.129, 0.235, 0.149, 0.131, 0.097, 0.083, 0.165, 0.195, 0.061, \n",
      "0.072, 0.074, 0.23, 0.2, 0.081, 0.129, 0.08, 0.511, 0.103, 0.441, \n",
      "0.067, 0.158, 0.152, 0.075, 0.172, 0.088, 0.115, 0.075, 0.185, \n",
      "0.114, 0.325, 0.157, 0.304, 0.121, 0.066, 0.233, 0.306, 0.12, \n",
      "0.146, 0.055, 0.113, 0.134, 0.099, 0.147, 0.107, 0.091, 0.455, \n",
      "0.138, 0.146, 0.09, 0.241, 0.359, 0.205, 0.28, 0.091, 0.087, \n",
      "0.138, 0.167, 0.088, 0.094, 0.161, 0.22, 0.175, 0.096, 0.055, \n",
      "0.35, 0.079, 0.247, 0.137, 0.104, 0.405, 0.125, 0.226, 0.072, \n",
      "0.382, 0.1, 0.075, 0.114, 0.35, 0.222, 0.067, 0.332, 0.103, 0.102, \n",
      "0.088, 0.218, 0.143, 0.143, 0.231, 0.094, 0.308, 0.097, 0.068, \n",
      "0.079, 0.112, 0.315, 0.116, 0.134, 0.089, 0.133, 0.097, 0.369, \n",
      "0.12, 0.327, 0.077, 0.179, 0.178, 0.088, 0.122, 0.089, 0.058, \n",
      "0.101, 0.159, 0.404, 0.113, 0.135, 0.285, 0.104, 0.448, 0.228, \n",
      "0.114, 0.29, 0.086, 0.256, 0.31, 0.106, 0.249, 0.09, 0.105, 0.161, \n",
      "0.112, 0.166, 0.229, 0.138, 0.179, 0.348, 0.123, 0.093, 0.114, \n",
      "0.088, 0.093, 0.1, 0.089, 0.075, 0.208, 0.135, 0.093, 0.091, \n",
      "0.295, 0.103, 0.471, 0.073, 0.201, 0.267, 0.098, 0.081, 0.103, \n",
      "0.273, 0.123, 0.072, 0.171, 0.512, 0.309, 0.163, 0.11, 0.178, \n",
      "0.122, 0.1, 0.131, 0.094, 0.418, 0.062, 0.138, 0.117, 0.311, \n",
      "0.455)\n"
     ]
    }
   ],
   "source": [
    "dput(false_pos_AF_wgs)"
   ]
  },
  {
   "cell_type": "code",
   "execution_count": 29,
   "metadata": {
    "ExecuteTime": {
     "end_time": "2025-07-14T19:47:59.546508Z",
     "start_time": "2025-07-14T19:47:59.461Z"
    },
    "hidden": true
   },
   "outputs": [],
   "source": [
    "write_tsv(\n",
    "    chip_calls_joined_byvariant,\n",
    "    'WGS_DTS_chip_calls_joined_by_variant.tsv'\n",
    ")"
   ]
  },
  {
   "cell_type": "code",
   "execution_count": 31,
   "metadata": {
    "ExecuteTime": {
     "end_time": "2025-07-14T19:48:02.555409Z",
     "start_time": "2025-07-14T19:48:00.292Z"
    },
    "hidden": true
   },
   "outputs": [
    {
     "data": {
      "text/html": [],
      "text/latex": [],
      "text/markdown": [],
      "text/plain": [
       "character(0)"
      ]
     },
     "metadata": {},
     "output_type": "display_data"
    }
   ],
   "source": [
    "gscp(\n",
    "    'WGS_DTS_chip_calls_joined_by_variant.tsv',\n",
    "    glue('{WORKSPACE_BUCKET}/rcorty')\n",
    ")"
   ]
  },
  {
   "cell_type": "code",
   "execution_count": 64,
   "metadata": {
    "ExecuteTime": {
     "end_time": "2025-07-14T19:48:09.091912Z",
     "start_time": "2025-07-14T19:48:07.159Z"
    },
    "collapsed": true,
    "hidden": true
   },
   "outputs": [
    {
     "data": {
      "text/html": [
       "<style>\n",
       ".list-inline {list-style: none; margin:0; padding: 0}\n",
       ".list-inline>li {display: inline-block}\n",
       ".list-inline>li:not(:last-child)::after {content: \"\\00b7\"; padding: 0 .5ex}\n",
       "</style>\n",
       "<ol class=list-inline><li>'gs://fc-secure-ef139649-d520-4a71-b534-d9c22b970743/rcorty/'</li><li>'gs://fc-secure-ef139649-d520-4a71-b534-d9c22b970743/rcorty/SRSF1.bed'</li><li>'gs://fc-secure-ef139649-d520-4a71-b534-d9c22b970743/rcorty/TERT.bed'</li><li>'gs://fc-secure-ef139649-d520-4a71-b534-d9c22b970743/rcorty/WGS_DTS_chip_calls_joined_by_variant.tsv'</li><li>'gs://fc-secure-ef139649-d520-4a71-b534-d9c22b970743/rcorty/wgs_CHIP_is_spec_but_not_sens.ipynb'</li><li>'gs://fc-secure-ef139649-d520-4a71-b534-d9c22b970743/rcorty/score_files/'</li></ol>\n"
      ],
      "text/latex": [
       "\\begin{enumerate*}\n",
       "\\item 'gs://fc-secure-ef139649-d520-4a71-b534-d9c22b970743/rcorty/'\n",
       "\\item 'gs://fc-secure-ef139649-d520-4a71-b534-d9c22b970743/rcorty/SRSF1.bed'\n",
       "\\item 'gs://fc-secure-ef139649-d520-4a71-b534-d9c22b970743/rcorty/TERT.bed'\n",
       "\\item 'gs://fc-secure-ef139649-d520-4a71-b534-d9c22b970743/rcorty/WGS\\_DTS\\_chip\\_calls\\_joined\\_by\\_variant.tsv'\n",
       "\\item 'gs://fc-secure-ef139649-d520-4a71-b534-d9c22b970743/rcorty/wgs\\_CHIP\\_is\\_spec\\_but\\_not\\_sens.ipynb'\n",
       "\\item 'gs://fc-secure-ef139649-d520-4a71-b534-d9c22b970743/rcorty/score\\_files/'\n",
       "\\end{enumerate*}\n"
      ],
      "text/markdown": [
       "1. 'gs://fc-secure-ef139649-d520-4a71-b534-d9c22b970743/rcorty/'\n",
       "2. 'gs://fc-secure-ef139649-d520-4a71-b534-d9c22b970743/rcorty/SRSF1.bed'\n",
       "3. 'gs://fc-secure-ef139649-d520-4a71-b534-d9c22b970743/rcorty/TERT.bed'\n",
       "4. 'gs://fc-secure-ef139649-d520-4a71-b534-d9c22b970743/rcorty/WGS_DTS_chip_calls_joined_by_variant.tsv'\n",
       "5. 'gs://fc-secure-ef139649-d520-4a71-b534-d9c22b970743/rcorty/wgs_CHIP_is_spec_but_not_sens.ipynb'\n",
       "6. 'gs://fc-secure-ef139649-d520-4a71-b534-d9c22b970743/rcorty/score_files/'\n",
       "\n",
       "\n"
      ],
      "text/plain": [
       "[1] \"gs://fc-secure-ef139649-d520-4a71-b534-d9c22b970743/rcorty/\"                                        \n",
       "[2] \"gs://fc-secure-ef139649-d520-4a71-b534-d9c22b970743/rcorty/SRSF1.bed\"                               \n",
       "[3] \"gs://fc-secure-ef139649-d520-4a71-b534-d9c22b970743/rcorty/TERT.bed\"                                \n",
       "[4] \"gs://fc-secure-ef139649-d520-4a71-b534-d9c22b970743/rcorty/WGS_DTS_chip_calls_joined_by_variant.tsv\"\n",
       "[5] \"gs://fc-secure-ef139649-d520-4a71-b534-d9c22b970743/rcorty/wgs_CHIP_is_spec_but_not_sens.ipynb\"     \n",
       "[6] \"gs://fc-secure-ef139649-d520-4a71-b534-d9c22b970743/rcorty/score_files/\"                            "
      ]
     },
     "metadata": {},
     "output_type": "display_data"
    }
   ],
   "source": [
    "gsls(glue('{wb}/rcorty'))"
   ]
  },
  {
   "cell_type": "markdown",
   "metadata": {},
   "source": [
    "## sens and PPV overall"
   ]
  },
  {
   "cell_type": "code",
   "execution_count": 36,
   "metadata": {},
   "outputs": [
    {
     "name": "stdout",
     "output_type": "stream",
     "text": [
      "[1] 1509\n"
     ]
    }
   ],
   "source": [
    "chip_calls_joined_byvariant |>\n",
    "filter(is_not_na(AF_dts)) |>\n",
    "nrow() |> print() ->\n",
    "num_w_chip"
   ]
  },
  {
   "cell_type": "code",
   "execution_count": 37,
   "metadata": {},
   "outputs": [
    {
     "name": "stdout",
     "output_type": "stream",
     "text": [
      "[1] 426\n"
     ]
    }
   ],
   "source": [
    "chip_calls_joined_byvariant |>\n",
    "filter(is_not_na(AF_dts), is_not_na(AF_wgs)) |>\n",
    "nrow() |> print() ->\n",
    "num_w_chip_detected_by_wgs"
   ]
  },
  {
   "cell_type": "code",
   "execution_count": 38,
   "metadata": {},
   "outputs": [
    {
     "data": {
      "text/html": [
       "0.282306163021869"
      ],
      "text/latex": [
       "0.282306163021869"
      ],
      "text/markdown": [
       "0.282306163021869"
      ],
      "text/plain": [
       "[1] 0.2823062"
      ]
     },
     "metadata": {},
     "output_type": "display_data"
    }
   ],
   "source": [
    "# wgs sensitivity\n",
    "num_w_chip_detected_by_wgs/num_w_chip"
   ]
  },
  {
   "cell_type": "code",
   "execution_count": 29,
   "metadata": {},
   "outputs": [
    {
     "name": "stdout",
     "output_type": "stream",
     "text": [
      "[1] 8794\n"
     ]
    }
   ],
   "source": [
    "chip_calls_joined_byvariant |>\n",
    "filter(is.na(AF_dts)) |>\n",
    "nrow() |> print() ->\n",
    "num_wo_chip"
   ]
  },
  {
   "cell_type": "code",
   "execution_count": 30,
   "metadata": {},
   "outputs": [
    {
     "name": "stdout",
     "output_type": "stream",
     "text": [
      "[1] 8258\n"
     ]
    }
   ],
   "source": [
    "chip_calls_joined_byvariant |>\n",
    "filter(is.na(AF_dts), is.na(AF_wgs)) |>\n",
    "nrow() |> print() ->\n",
    "num_wo_chip_not_detected_by_wgs"
   ]
  },
  {
   "cell_type": "code",
   "execution_count": 31,
   "metadata": {},
   "outputs": [
    {
     "data": {
      "text/html": [
       "0.939049351830794"
      ],
      "text/latex": [
       "0.939049351830794"
      ],
      "text/markdown": [
       "0.939049351830794"
      ],
      "text/plain": [
       "[1] 0.9390494"
      ]
     },
     "metadata": {},
     "output_type": "display_data"
    }
   ],
   "source": [
    "num_wo_chip_not_detected_by_wgs/num_wo_chip"
   ]
  },
  {
   "cell_type": "code",
   "execution_count": 39,
   "metadata": {},
   "outputs": [
    {
     "name": "stdout",
     "output_type": "stream",
     "text": [
      "[1] 962\n"
     ]
    }
   ],
   "source": [
    "chip_calls_joined_byvariant |>\n",
    "filter(is_not_na(AF_wgs)) |>\n",
    "nrow() |> print() ->\n",
    "num_detected_by_wgs"
   ]
  },
  {
   "cell_type": "code",
   "execution_count": 40,
   "metadata": {},
   "outputs": [
    {
     "data": {
      "text/html": [
       "0.442827442827443"
      ],
      "text/latex": [
       "0.442827442827443"
      ],
      "text/markdown": [
       "0.442827442827443"
      ],
      "text/plain": [
       "[1] 0.4428274"
      ]
     },
     "metadata": {},
     "output_type": "display_data"
    }
   ],
   "source": [
    "# wgs ppv\n",
    "num_w_chip_detected_by_wgs / num_detected_by_wgs"
   ]
  },
  {
   "cell_type": "markdown",
   "metadata": {},
   "source": [
    "## sens and PPV by AF"
   ]
  },
  {
   "cell_type": "code",
   "execution_count": 46,
   "metadata": {
    "ExecuteTime": {
     "end_time": "2025-04-22T15:03:26.525133Z",
     "start_time": "2025-04-22T15:03:25.860Z"
    }
   },
   "outputs": [
    {
     "name": "stdout",
     "output_type": "stream",
     "text": [
      "\u001b[90m# A tibble: 4 × 2\u001b[39m\n",
      "  `Variant Allele Fraction` num_vars_found\n",
      "  \u001b[3m\u001b[90m<fct>\u001b[39m\u001b[23m                              \u001b[3m\u001b[90m<int>\u001b[39m\u001b[23m\n",
      "\u001b[90m1\u001b[39m (0.02,0.05]                           71\n",
      "\u001b[90m2\u001b[39m (0.05,0.1]                            93\n",
      "\u001b[90m3\u001b[39m (0.1,0.2]                            112\n",
      "\u001b[90m4\u001b[39m (0.2,1]                              149\n"
     ]
    }
   ],
   "source": [
    "# number of variants found by AF\n",
    "chip_calls_joined_byvariant |>\n",
    "filter(is_not_na(AF_dts) & AF_dts > 0.02) |>\n",
    "mutate(AF_dts_range = cut(AF_dts, c(0.02, 0.05, 0.10, 0.2, 1))) |>\n",
    "group_by(`Variant Allele Fraction` = AF_dts_range) |>\n",
    "summarise(num_vars_found = sum(is_not_na(AF_wgs))) |>\n",
    "print() ->\n",
    "num_vars_by_af"
   ]
  },
  {
   "cell_type": "code",
   "execution_count": 45,
   "metadata": {
    "ExecuteTime": {
     "end_time": "2025-04-22T15:03:26.525133Z",
     "start_time": "2025-04-22T15:03:25.860Z"
    }
   },
   "outputs": [
    {
     "data": {
      "image/png": "[encoded data removed]",
      "text/plain": [
       "plot without title"
      ]
     },
     "metadata": {
      "image/png": {
       "height": 420,
       "width": 420
      }
     },
     "output_type": "display_data"
    }
   ],
   "source": [
    "num_vars_by_af |>\n",
    "ggplot(aes(x = `Variant Allele Fraction`, y = num_vars_found)) +\n",
    "geom_bar(stat = 'identity') +\n",
    "theme_bw()"
   ]
  },
  {
   "cell_type": "code",
   "execution_count": 47,
   "metadata": {
    "ExecuteTime": {
     "end_time": "2025-04-22T15:03:26.525133Z",
     "start_time": "2025-04-22T15:03:25.860Z"
    }
   },
   "outputs": [
    {
     "name": "stdout",
     "output_type": "stream",
     "text": [
      "\u001b[90m# A tibble: 4 × 2\u001b[39m\n",
      "  `Variant Allele Fraction` `WGS sensitivity`\n",
      "  \u001b[3m\u001b[90m<fct>\u001b[39m\u001b[23m                                 \u001b[3m\u001b[90m<dbl>\u001b[39m\u001b[23m\n",
      "\u001b[90m1\u001b[39m (0.02,0.05]                          0.087\u001b[4m2\u001b[24m\n",
      "\u001b[90m2\u001b[39m (0.05,0.1]                           0.318 \n",
      "\u001b[90m3\u001b[39m (0.1,0.2]                            0.671 \n",
      "\u001b[90m4\u001b[39m (0.2,1]                              0.861 \n"
     ]
    }
   ],
   "source": [
    "chip_calls_joined_byvariant |>\n",
    "filter(is_not_na(AF_dts) & AF_dts > 0.02) |>\n",
    "mutate(AF_dts_range = cut(AF_dts, c(0.02, 0.05, 0.10, 0.2, 1))) |>\n",
    "group_by(`Variant Allele Fraction` = AF_dts_range) |>\n",
    "summarise(`WGS sensitivity` = mean(is_not_na(AF_wgs))) |>\n",
    "print() ->\n",
    "sens_by_af"
   ]
  },
  {
   "cell_type": "code",
   "execution_count": 48,
   "metadata": {
    "ExecuteTime": {
     "end_time": "2025-04-22T15:03:26.525133Z",
     "start_time": "2025-04-22T15:03:25.860Z"
    }
   },
   "outputs": [],
   "source": [
    "sens_by_af |>\n",
    "ggplot(aes(x = `Variant Allele Fraction`, y = `WGS sensitivity`)) +\n",
    "geom_bar(stat = 'identity') +\n",
    "theme_bw() +\n",
    "labs(tag = 'A', x = 'VAF by DTS') ->\n",
    "p1"
   ]
  },
  {
   "cell_type": "code",
   "execution_count": 49,
   "metadata": {},
   "outputs": [
    {
     "data": {
      "image/png": "[encoded data removed]",
      "text/plain": [
       "plot without title"
      ]
     },
     "metadata": {
      "image/png": {
       "height": 420,
       "width": 420
      }
     },
     "output_type": "display_data"
    }
   ],
   "source": [
    "p1"
   ]
  },
  {
   "cell_type": "code",
   "execution_count": 48,
   "metadata": {
    "ExecuteTime": {
     "end_time": "2025-04-22T15:03:26.653258Z",
     "start_time": "2025-04-22T15:03:26.372Z"
    }
   },
   "outputs": [],
   "source": [
    "ggsave('wgs_sens_spec_byvariant.pdf', height = 4, width = 6)"
   ]
  },
  {
   "cell_type": "code",
   "execution_count": 50,
   "metadata": {},
   "outputs": [
    {
     "name": "stdout",
     "output_type": "stream",
     "text": [
      "\u001b[90m# A tibble: 4 × 2\u001b[39m\n",
      "  AF_wgs_range   PPV\n",
      "  \u001b[3m\u001b[90m<fct>\u001b[39m\u001b[23m        \u001b[3m\u001b[90m<dbl>\u001b[39m\u001b[23m\n",
      "\u001b[90m1\u001b[39m (0.02,0.05]  0    \n",
      "\u001b[90m2\u001b[39m (0.05,0.1]   0.257\n",
      "\u001b[90m3\u001b[39m (0.1,0.2]    0.439\n",
      "\u001b[90m4\u001b[39m (0.2,1]      0.575\n"
     ]
    }
   ],
   "source": [
    "chip_calls_joined_byvariant |>\n",
    "filter(is_not_na(AF_wgs)) |>\n",
    "mutate(AF_wgs_range = cut(AF_wgs, c(0.02, 0.05, 0.10, 0.2, 1))) |>\n",
    "group_by(AF_wgs_range) |>\n",
    "summarise(PPV = mean(is_not_na(AF_dts))) |>\n",
    "print() ->\n",
    "ppv_by_af"
   ]
  },
  {
   "cell_type": "code",
   "execution_count": null,
   "metadata": {},
   "outputs": [],
   "source": [
    "ppv_by_af |>\n",
    "ggplot(aes(x = AF_wgs_range, y = PPV)) +\n",
    "geom_bar(stat = 'identity') +\n",
    "theme_bw() +\n",
    "labs(tag = 'B', x = 'VAF by WGS', fill = NULL) ->\n",
    "p2"
   ]
  },
  {
   "cell_type": "code",
   "execution_count": 43,
   "metadata": {
    "ExecuteTime": {
     "end_time": "2025-04-22T20:57:24.264679Z",
     "start_time": "2025-04-22T20:57:23.080Z"
    }
   },
   "outputs": [
    {
     "name": "stderr",
     "output_type": "stream",
     "text": [
      "\u001b[1m\u001b[22m`geom_smooth()` using formula = 'y ~ x'\n",
      "\u001b[1m\u001b[22m`geom_smooth()` using formula = 'y ~ x'\n"
     ]
    },
    {
     "data": {
      "image/png": "[encoded data removed]",
      "text/plain": [
       "plot without title"
      ]
     },
     "metadata": {
      "image/png": {
       "height": 420,
       "width": 420
      }
     },
     "output_type": "display_data"
    }
   ],
   "source": [
    "chip_calls_joined_byvariant |>\n",
    "filter(AF_wgs != 0 & AF_dts != 0) |>\n",
    "# glimpse() \n",
    "ggplot(aes(x = AF_dts, y = AF_wgs)) +\n",
    "geom_point(aes(color = factor(round(DP_wgs, -1)))) +\n",
    "geom_abline(slope = 1, intercept = 0) +\n",
    "# geom_abline(slope = 1, intercept = -0.05, color = 'blue') +\n",
    "# geom_abline(slope = 1, intercept = 0.05, color = 'blue') +\n",
    "geom_smooth(method = 'lm') +\n",
    "theme_bw() +\n",
    "xlim(c(0, 0.45)) +\n",
    "ylim(c(0, 0.45)) +\n",
    "labs(x = 'AF', y = 'WGS-estimated AF', color = 'depth') \n",
    "\n",
    "ggsave('AF_dotplot.pdf', height = 4, width = 5)"
   ]
  },
  {
   "cell_type": "code",
   "execution_count": 60,
   "metadata": {
    "ExecuteTime": {
     "end_time": "2025-04-22T15:07:28.037163Z",
     "start_time": "2025-04-22T15:07:27.901Z"
    }
   },
   "outputs": [
    {
     "data": {
      "text/html": [
       "<table class=\"dataframe\">\n",
       "<caption>A tibble: 3 × 5</caption>\n",
       "<thead>\n",
       "\t<tr><th scope=col>term</th><th scope=col>estimate</th><th scope=col>std.error</th><th scope=col>statistic</th><th scope=col>p.value</th></tr>\n",
       "\t<tr><th scope=col>&lt;chr&gt;</th><th scope=col>&lt;dbl&gt;</th><th scope=col>&lt;dbl&gt;</th><th scope=col>&lt;dbl&gt;</th><th scope=col>&lt;dbl&gt;</th></tr>\n",
       "</thead>\n",
       "<tbody>\n",
       "\t<tr><td>(Intercept)</td><td> 0.153747666</td><td>0.011633237</td><td>13.216241</td><td>7.282426e-30</td></tr>\n",
       "\t<tr><td>AF_dts     </td><td> 0.417069196</td><td>0.030659726</td><td>13.603161</td><td>4.032546e-31</td></tr>\n",
       "\t<tr><td>DP_wgs     </td><td>-0.001609052</td><td>0.000314217</td><td>-5.120831</td><td>6.549295e-07</td></tr>\n",
       "</tbody>\n",
       "</table>\n"
      ],
      "text/latex": [
       "A tibble: 3 × 5\n",
       "\\begin{tabular}{lllll}\n",
       " term & estimate & std.error & statistic & p.value\\\\\n",
       " <chr> & <dbl> & <dbl> & <dbl> & <dbl>\\\\\n",
       "\\hline\n",
       "\t (Intercept) &  0.153747666 & 0.011633237 & 13.216241 & 7.282426e-30\\\\\n",
       "\t AF\\_dts      &  0.417069196 & 0.030659726 & 13.603161 & 4.032546e-31\\\\\n",
       "\t DP\\_wgs      & -0.001609052 & 0.000314217 & -5.120831 & 6.549295e-07\\\\\n",
       "\\end{tabular}\n"
      ],
      "text/markdown": [
       "\n",
       "A tibble: 3 × 5\n",
       "\n",
       "| term &lt;chr&gt; | estimate &lt;dbl&gt; | std.error &lt;dbl&gt; | statistic &lt;dbl&gt; | p.value &lt;dbl&gt; |\n",
       "|---|---|---|---|---|\n",
       "| (Intercept) |  0.153747666 | 0.011633237 | 13.216241 | 7.282426e-30 |\n",
       "| AF_dts      |  0.417069196 | 0.030659726 | 13.603161 | 4.032546e-31 |\n",
       "| DP_wgs      | -0.001609052 | 0.000314217 | -5.120831 | 6.549295e-07 |\n",
       "\n"
      ],
      "text/plain": [
       "  term        estimate     std.error   statistic p.value     \n",
       "1 (Intercept)  0.153747666 0.011633237 13.216241 7.282426e-30\n",
       "2 AF_dts       0.417069196 0.030659726 13.603161 4.032546e-31\n",
       "3 DP_wgs      -0.001609052 0.000314217 -5.120831 6.549295e-07"
      ]
     },
     "metadata": {},
     "output_type": "display_data"
    }
   ],
   "source": [
    "chip_calls_joined_byvariant |>\n",
    "filter(AF_wgs != 0 & AF_dts != 0) |>\n",
    "lm(AF_wgs ~ AF_dts + DP_wgs, data = _) |>\n",
    "tidy()"
   ]
  },
  {
   "cell_type": "code",
   "execution_count": 51,
   "metadata": {
    "ExecuteTime": {
     "end_time": "2025-04-22T15:05:02.709227Z",
     "start_time": "2025-04-22T15:05:02.350Z"
    }
   },
   "outputs": [
    {
     "data": {
      "text/html": [
       "<table class=\"dataframe\">\n",
       "<caption>A tibble: 2 × 5</caption>\n",
       "<thead>\n",
       "\t<tr><th scope=col>term</th><th scope=col>estimate</th><th scope=col>std.error</th><th scope=col>statistic</th><th scope=col>p.value</th></tr>\n",
       "\t<tr><th scope=col>&lt;chr&gt;</th><th scope=col>&lt;dbl&gt;</th><th scope=col>&lt;dbl&gt;</th><th scope=col>&lt;dbl&gt;</th><th scope=col>&lt;dbl&gt;</th></tr>\n",
       "</thead>\n",
       "<tbody>\n",
       "\t<tr><td>(Intercept)</td><td> 0.094613092</td><td>0.0110986657</td><td> 8.524727</td><td>2.243872e-15</td></tr>\n",
       "\t<tr><td>DP_wgs     </td><td>-0.001201419</td><td>0.0003244883</td><td>-3.702502</td><td>2.685752e-04</td></tr>\n",
       "</tbody>\n",
       "</table>\n"
      ],
      "text/latex": [
       "A tibble: 2 × 5\n",
       "\\begin{tabular}{lllll}\n",
       " term & estimate & std.error & statistic & p.value\\\\\n",
       " <chr> & <dbl> & <dbl> & <dbl> & <dbl>\\\\\n",
       "\\hline\n",
       "\t (Intercept) &  0.094613092 & 0.0110986657 &  8.524727 & 2.243872e-15\\\\\n",
       "\t DP\\_wgs      & -0.001201419 & 0.0003244883 & -3.702502 & 2.685752e-04\\\\\n",
       "\\end{tabular}\n"
      ],
      "text/markdown": [
       "\n",
       "A tibble: 2 × 5\n",
       "\n",
       "| term &lt;chr&gt; | estimate &lt;dbl&gt; | std.error &lt;dbl&gt; | statistic &lt;dbl&gt; | p.value &lt;dbl&gt; |\n",
       "|---|---|---|---|---|\n",
       "| (Intercept) |  0.094613092 | 0.0110986657 |  8.524727 | 2.243872e-15 |\n",
       "| DP_wgs      | -0.001201419 | 0.0003244883 | -3.702502 | 2.685752e-04 |\n",
       "\n"
      ],
      "text/plain": [
       "  term        estimate     std.error    statistic p.value     \n",
       "1 (Intercept)  0.094613092 0.0110986657  8.524727 2.243872e-15\n",
       "2 DP_wgs      -0.001201419 0.0003244883 -3.702502 2.685752e-04"
      ]
     },
     "metadata": {},
     "output_type": "display_data"
    }
   ],
   "source": [
    "chip_calls_joined_byvariant |>\n",
    "filter(AF_wgs != 0 & AF_dts != 0) |>\n",
    "mutate(AF_dev = abs(AF_dts - AF_wgs)) |>\n",
    "lm(AF_dev ~ DP_wgs, data = _) |>\n",
    "tidy()"
   ]
  },
  {
   "cell_type": "code",
   "execution_count": 52,
   "metadata": {
    "ExecuteTime": {
     "end_time": "2025-04-22T15:05:02.960364Z",
     "start_time": "2025-04-22T15:05:02.816Z"
    }
   },
   "outputs": [
    {
     "data": {
      "text/html": [
       "<table class=\"dataframe\">\n",
       "<caption>A tibble: 2 × 5</caption>\n",
       "<thead>\n",
       "\t<tr><th scope=col>term</th><th scope=col>estimate</th><th scope=col>std.error</th><th scope=col>statistic</th><th scope=col>p.value</th></tr>\n",
       "\t<tr><th scope=col>&lt;chr&gt;</th><th scope=col>&lt;dbl&gt;</th><th scope=col>&lt;dbl&gt;</th><th scope=col>&lt;dbl&gt;</th><th scope=col>&lt;dbl&gt;</th></tr>\n",
       "</thead>\n",
       "<tbody>\n",
       "\t<tr><td>(Intercept)</td><td> 0.0100825939</td><td>1.585913e-03</td><td> 6.357594</td><td>1.127589e-09</td></tr>\n",
       "\t<tr><td>DP_wgs     </td><td>-0.0001743118</td><td>4.636687e-05</td><td>-3.759403</td><td>2.171301e-04</td></tr>\n",
       "</tbody>\n",
       "</table>\n"
      ],
      "text/latex": [
       "A tibble: 2 × 5\n",
       "\\begin{tabular}{lllll}\n",
       " term & estimate & std.error & statistic & p.value\\\\\n",
       " <chr> & <dbl> & <dbl> & <dbl> & <dbl>\\\\\n",
       "\\hline\n",
       "\t (Intercept) &  0.0100825939 & 1.585913e-03 &  6.357594 & 1.127589e-09\\\\\n",
       "\t DP\\_wgs      & -0.0001743118 & 4.636687e-05 & -3.759403 & 2.171301e-04\\\\\n",
       "\\end{tabular}\n"
      ],
      "text/markdown": [
       "\n",
       "A tibble: 2 × 5\n",
       "\n",
       "| term &lt;chr&gt; | estimate &lt;dbl&gt; | std.error &lt;dbl&gt; | statistic &lt;dbl&gt; | p.value &lt;dbl&gt; |\n",
       "|---|---|---|---|---|\n",
       "| (Intercept) |  0.0100825939 | 1.585913e-03 |  6.357594 | 1.127589e-09 |\n",
       "| DP_wgs      | -0.0001743118 | 4.636687e-05 | -3.759403 | 2.171301e-04 |\n",
       "\n"
      ],
      "text/plain": [
       "  term        estimate      std.error    statistic p.value     \n",
       "1 (Intercept)  0.0100825939 1.585913e-03  6.357594 1.127589e-09\n",
       "2 DP_wgs      -0.0001743118 4.636687e-05 -3.759403 2.171301e-04"
      ]
     },
     "metadata": {},
     "output_type": "display_data"
    }
   ],
   "source": [
    "chip_calls_joined_byvariant |>\n",
    "filter(AF_wgs != 0 & AF_dts != 0) |>\n",
    "mutate(AF_dev = (AF_dts - AF_wgs)^2) |>\n",
    "lm(AF_dev ~ DP_wgs, data = _) |>\n",
    "tidy()"
   ]
  },
  {
   "cell_type": "markdown",
   "metadata": {
    "heading_collapsed": true
   },
   "source": [
    "# sens/spec/PPV/NPV by mutation"
   ]
  },
  {
   "cell_type": "code",
   "execution_count": null,
   "metadata": {
    "ExecuteTime": {
     "end_time": "2025-04-14T19:01:03.267105Z",
     "start_time": "2025-04-14T19:01:03.173Z"
    },
    "hidden": true,
    "scrolled": false
   },
   "outputs": [],
   "source": [
    "chip_calls_dts |>\n",
    "full_join(chip_calls_wgs, \n",
    "          by = join_by(GRID, \n",
    "                       chip_gene_dts == chip_gene_wgs,\n",
    "                       chip_mut_aachange_dts == chip_mut_aachange_wgs)) |>\n",
    "glimpse() |>\n",
    "transmute(\n",
    "    GRID,\n",
    "    chip_gene = replace_na(chip_gene_dts, 'none'),\n",
    "    chip_mut_aachange = replace_na(chip_mut_aachange_dts, 'none'),\n",
    "    AF_dts,\n",
    "    AF_wgs,\n",
    "    DP_wgs\n",
    ") |>\n",
    "mutate(\n",
    "    AF_dts = replace_na(AF_dts, 0),\n",
    "    AF_wgs = replace_na(AF_wgs, 0)\n",
    ") |>\n",
    "glimpse() ->\n",
    "chip_calls_combined"
   ]
  },
  {
   "cell_type": "code",
   "execution_count": null,
   "metadata": {
    "ExecuteTime": {
     "end_time": "2025-04-14T18:30:48.643908Z",
     "start_time": "2025-04-14T18:30:48.544Z"
    },
    "hidden": true
   },
   "outputs": [],
   "source": [
    "chip_calls_combined |>\n",
    "group_by(\n",
    "    AF_range_dts = cut(AF_dts, c(0, 0.02, 0.05, 0.1, 0.3, 0.45, 0.55, 1), right = FALSE),\n",
    "    has_chip_wgs = AF_wgs != 0\n",
    ") |>\n",
    "summarise(n = n(), .groups = 'keep') |>\n",
    "pivot_wider(names_from = has_chip_wgs, names_prefix = 'wgs_CHIP_', values_from = n) |>\n",
    "mutate(\n",
    "    wgs_CHIP_TRUE = replace_na(wgs_CHIP_TRUE, 0),\n",
    "    num_people = (wgs_CHIP_TRUE + wgs_CHIP_FALSE),\n",
    "    pos_rate = round(100*wgs_CHIP_TRUE / num_people),\n",
    "    neg_rate = 100 - pos_rate\n",
    ") |>\n",
    "select(\n",
    "    `AF range` = AF_range_dts,\n",
    "    `num. people` = num_people,\n",
    "    `CHIP positive` = wgs_CHIP_TRUE,\n",
    "    `CHIP negative` = wgs_CHIP_FALSE,\n",
    "    `WGS pos. rate` = pos_rate,\n",
    "    `WGS neg. rate` = neg_rate\n",
    ") ->\n",
    "sensspec_df"
   ]
  },
  {
   "cell_type": "code",
   "execution_count": null,
   "metadata": {
    "ExecuteTime": {
     "end_time": "2025-04-14T18:30:49.342838Z",
     "start_time": "2025-04-14T18:30:49.231Z"
    },
    "hidden": true
   },
   "outputs": [],
   "source": [
    "sensspec_df"
   ]
  },
  {
   "cell_type": "code",
   "execution_count": null,
   "metadata": {
    "ExecuteTime": {
     "end_time": "2025-04-14T18:13:53.312916Z",
     "start_time": "2025-04-14T18:13:53.222Z"
    },
    "hidden": true
   },
   "outputs": [],
   "source": [
    "chip_calls_combined |>\n",
    "group_by(\n",
    "    AF_range_wgs = cut(AF_wgs, c(0, 0.02, 0.05, 0.1, 0.3, 0.45, 0.55, 1), right = FALSE),\n",
    "    has_chip_dts = AF_dts != 0\n",
    ") |>\n",
    "summarise(n = n(), .groups = 'keep') |>\n",
    "pivot_wider(names_from = has_chip_dts, names_prefix = 'dts_CHIP_', values_from = n) |>\n",
    "mutate(\n",
    "    dts_CHIP_TRUE = replace_na(dts_CHIP_TRUE, 0),\n",
    "    num_people = (dts_CHIP_TRUE + dts_CHIP_FALSE),\n",
    "    predictive_value = round(100 * dts_CHIP_TRUE / num_people),\n",
    "    other_pv = 100 - predictive_value\n",
    ") |>\n",
    "select(\n",
    "    `AF range` = AF_range_wgs,\n",
    "    `num. people` = num_people,\n",
    "    `CHIP positive` = dts_CHIP_TRUE,\n",
    "    `CHIP negative` = dts_CHIP_FALSE,\n",
    "    `pos. pred. value` = predictive_value,\n",
    "    `neg. pred. value` = other_pv\n",
    ") ->\n",
    "predvalue_df"
   ]
  },
  {
   "cell_type": "code",
   "execution_count": null,
   "metadata": {
    "ExecuteTime": {
     "end_time": "2025-04-14T18:13:53.853871Z",
     "start_time": "2025-04-14T18:13:53.773Z"
    },
    "hidden": true
   },
   "outputs": [],
   "source": [
    "predvalue_df"
   ]
  },
  {
   "cell_type": "code",
   "execution_count": null,
   "metadata": {
    "ExecuteTime": {
     "end_time": "2025-04-14T18:59:19.048070Z",
     "start_time": "2025-04-14T18:59:18.605Z"
    },
    "hidden": true
   },
   "outputs": [],
   "source": [
    "chip_calls_combined |>\n",
    "filter(AF_wgs != 0) |>\n",
    "ggplot(mapping = aes(x = AF_dts, y = AF_wgs)) +\n",
    "geom_point() +\n",
    "theme_bw() ->\n",
    "p\n",
    "\n",
    "ggMarginal(p, type=\"histogram\")"
   ]
  },
  {
   "cell_type": "code",
   "execution_count": null,
   "metadata": {
    "ExecuteTime": {
     "end_time": "2025-04-14T18:59:25.616993Z",
     "start_time": "2025-04-14T18:59:25.152Z"
    },
    "hidden": true
   },
   "outputs": [],
   "source": [
    "chip_calls_combined |>\n",
    "filter(AF_dts != 0) |>\n",
    "ggplot(mapping = aes(x = AF_dts, y = AF_wgs)) +\n",
    "geom_point() +\n",
    "theme_bw() ->\n",
    "p\n",
    "\n",
    "ggMarginal(p, type=\"histogram\")"
   ]
  },
  {
   "cell_type": "code",
   "execution_count": null,
   "metadata": {
    "ExecuteTime": {
     "end_time": "2025-04-14T19:27:19.632104Z",
     "start_time": "2025-04-14T19:27:19.062Z"
    },
    "hidden": true
   },
   "outputs": [],
   "source": [
    "options(repr.plot.width = 8, repr.plot.height = 5)\n",
    "\n",
    "chip_calls_combined |>\n",
    "filter(AF_wgs != 0 & AF_dts != 0) |>\n",
    "glimpse() |>\n",
    "ggplot(mapping = aes(x = AF_dts, y = AF_wgs, color = factor(10*round(DP_wgs/10)))) +\n",
    "geom_point() +\n",
    "geom_abline(slope = 1, intercept = 0) +\n",
    "geom_abline(slope = 1, intercept = -0.05, color = 'blue') +\n",
    "geom_abline(slope = 1, intercept = 0.05, color = 'blue') +\n",
    "theme_bw() +\n",
    "xlim(c(0, 0.45)) +\n",
    "ylim(c(0, 0.45)) +\n",
    "labs(x = 'AF', y = 'WGS-estimated AF', color = 'depth') \n",
    "\n",
    "ggsave(filename = 'figA.pdf', height = 5, width = 8)"
   ]
  },
  {
   "cell_type": "code",
   "execution_count": null,
   "metadata": {
    "ExecuteTime": {
     "end_time": "2025-04-14T19:25:32.333798Z",
     "start_time": "2025-04-14T19:25:32.190Z"
    },
    "hidden": true
   },
   "outputs": [],
   "source": [
    "chip_calls_combined |>\n",
    "filter(AF_wgs != 0 & AF_dts != 0) |>\n",
    "mutate(AF_dev = abs(AF_dts - AF_wgs)) |>\n",
    "lm(AF_dev ~ DP_wgs, data = _) |>\n",
    "tidy()"
   ]
  },
  {
   "cell_type": "code",
   "execution_count": null,
   "metadata": {
    "ExecuteTime": {
     "end_time": "2025-04-14T19:25:32.643815Z",
     "start_time": "2025-04-14T19:25:32.545Z"
    },
    "hidden": true
   },
   "outputs": [],
   "source": [
    "chip_calls_combined |>\n",
    "filter(AF_wgs != 0 & AF_dts != 0) |>\n",
    "mutate(AF_dev = (AF_dts - AF_wgs)^2) |>\n",
    "lm(AF_dev ~ DP_wgs, data = _) |>\n",
    "tidy()"
   ]
  },
  {
   "cell_type": "code",
   "execution_count": null,
   "metadata": {
    "ExecuteTime": {
     "end_time": "2025-04-14T19:11:14.466434Z",
     "start_time": "2025-04-14T19:11:14.387Z"
    },
    "hidden": true
   },
   "outputs": [],
   "source": [
    "# chip_calls_combined |>\n",
    "# filter(AF_wgs != 0 & AF_dts != 0) |>\n",
    "# mutate(AF_dev = (AF_dts - AF_wgs)) |>\n",
    "# dglm(formula = AF_dev ~ AF_dts + DP_wgs, \n",
    "#      dformula = ~ AF_dts + DP_wgs,\n",
    "#      data = _) ->\n",
    "# dg_fit"
   ]
  },
  {
   "cell_type": "code",
   "execution_count": null,
   "metadata": {
    "ExecuteTime": {
     "end_time": "2025-04-14T19:11:21.887866Z",
     "start_time": "2025-04-14T19:11:21.813Z"
    },
    "hidden": true
   },
   "outputs": [],
   "source": [
    "# tidy(dg_fit)\n",
    "# tidy(dg_fit$dispersion.fit)"
   ]
  },
  {
   "cell_type": "markdown",
   "metadata": {
    "heading_collapsed": true
   },
   "source": [
    "# deprecated - calibrating binom cutoff"
   ]
  },
  {
   "cell_type": "code",
   "execution_count": null,
   "metadata": {
    "ExecuteTime": {
     "end_time": "2025-04-07T19:29:03.884841Z",
     "start_time": "2025-04-07T19:29:03.543Z"
    },
    "hidden": true
   },
   "outputs": [],
   "source": [
    "demog_agd_199k |> \n",
    "select(GRID, age = age_at_biosample) |>\n",
    "mutate(decade = round(age, -1)) |>\n",
    "filter(between(decade, 40, 90)) |>\n",
    "inner_join(dts_chip_by_person, by = 'GRID') |>\n",
    "inner_join(\n",
    "    wgs_chip_calls |>\n",
    "    filter_wgs_chip_calls(max_binom_p = 0.5) |>\n",
    "    transmute(GRID, has_chip_binom_05 = has_chip_wgs),\n",
    "    by = 'GRID') |>\n",
    "inner_join(\n",
    "    wgs_chip_calls |>\n",
    "    filter_wgs_chip_calls(max_binom_p = 0.1) |>\n",
    "    transmute(GRID, has_chip_binom_01 = has_chip_wgs),\n",
    "    by = 'GRID') |>\n",
    "inner_join(\n",
    "    wgs_chip_calls |>\n",
    "    filter_wgs_chip_calls(max_binom_p = 0.05) |>\n",
    "    transmute(GRID, has_chip_binom_005 = has_chip_wgs),\n",
    "    by = 'GRID') |>\n",
    "inner_join(\n",
    "    wgs_chip_calls |>\n",
    "    filter_wgs_chip_calls(max_binom_p = 0.01) |>\n",
    "    transmute(GRID, has_chip_binom_001 = has_chip_wgs),\n",
    "    by = 'GRID') |>\n",
    "inner_join(\n",
    "    wgs_chip_calls |>\n",
    "    filter_wgs_chip_calls(max_binom_p = 0.001) |>\n",
    "    transmute(GRID, has_chip_binom_0001 = has_chip_wgs),\n",
    "    by = 'GRID') |>\n",
    "glimpse() ->\n",
    "age_binom_dependence"
   ]
  },
  {
   "cell_type": "code",
   "execution_count": null,
   "metadata": {
    "ExecuteTime": {
     "end_time": "2025-04-09T02:14:09.688661Z",
     "start_time": "2025-04-09T02:14:09.514Z"
    },
    "hidden": true
   },
   "outputs": [],
   "source": [
    "-log10(wgs_chip_calls$binom_p_val) |> hist()"
   ]
  },
  {
   "cell_type": "code",
   "execution_count": null,
   "metadata": {
    "ExecuteTime": {
     "end_time": "2025-04-09T19:27:42.543832Z",
     "start_time": "2025-04-09T19:27:42.500Z"
    },
    "hidden": true,
    "scrolled": true
   },
   "outputs": [],
   "source": [
    "cut(-log10(c(1, 0.1, 0.01, 0.001)), c(0, 1, 2, 3, 4), right = FALSE)"
   ]
  },
  {
   "cell_type": "code",
   "execution_count": null,
   "metadata": {
    "ExecuteTime": {
     "end_time": "2025-04-09T19:23:16.588387Z",
     "start_time": "2025-04-09T19:23:13.850Z"
    },
    "hidden": true
   },
   "outputs": [],
   "source": [
    "?cut"
   ]
  },
  {
   "cell_type": "code",
   "execution_count": null,
   "metadata": {
    "ExecuteTime": {
     "end_time": "2025-04-09T19:33:57.651746Z",
     "start_time": "2025-04-09T19:33:57.371Z"
    },
    "hidden": true
   },
   "outputs": [],
   "source": [
    "# TODO figure otu how to do this right\n",
    "demog_agd_199k |> \n",
    "select(GRID, age = age_at_biosample) |>\n",
    "inner_join(chip_calls_collapsed_dts, by = 'GRID') |>\n",
    "full_join(\n",
    "    wgs_chip_calls,\n",
    "    by = 'GRID',\n",
    "    relationship = \"many-to-many\"\n",
    ") |>\n",
    "filter(!is.na(binom_p_val)) |>\n",
    "mutate(\n",
    "    log10_p = pmax(0, -log10(binom_p_val)),\n",
    "    binom_p_range = cut(log10_p, c(0, 1, 2, 3, 4, 5, Inf), right = FALSE),\n",
    "    decade = round(age, -1)\n",
    ") |>\n",
    "# filter(is.na(binom_p_range))\n",
    "# glimpse()\n",
    "# ggplot(aes(x = age, y = -log10(binom_p_val), color = is.na(chip_gene_dts))) + geom_point(alpha = 0.5)\n",
    "group_by(\n",
    "    binom_p_range, decade    \n",
    ") |>\n",
    "summarise(\n",
    "    num_pos = sum(!is.na(chip_gene_dts)),\n",
    "    pos_rate = mean(!is.na(chip_gene_dts)),\n",
    "    num_here = n(),\n",
    "    .groups = 'keep') |>\n",
    "filter(between(decade, 40, 90)) |>\n",
    "arrange(pos_rate)\n",
    "ggplot(aes(x = decade, y = binom_p_range, fill = pos_rate)) +\n",
    "geom_tile() +\n",
    "geom_label(aes(label = paste0(num_pos, '/', num_here, '\\n=', round(100*pos_rate))), fill = 'white')"
   ]
  },
  {
   "cell_type": "code",
   "execution_count": null,
   "metadata": {
    "ExecuteTime": {
     "end_time": "2025-04-07T19:33:58.512840Z",
     "start_time": "2025-04-07T19:33:58.390Z"
    },
    "hidden": true
   },
   "outputs": [],
   "source": [
    "glimpse(age_binom_dependence)"
   ]
  },
  {
   "cell_type": "code",
   "execution_count": null,
   "metadata": {
    "ExecuteTime": {
     "end_time": "2025-04-07T19:39:16.299551Z",
     "start_time": "2025-04-07T19:39:14.877Z"
    },
    "hidden": true
   },
   "outputs": [],
   "source": [
    "age_binom_dependence |>\n",
    "pivot_longer(cols = starts_with('has_chip_binom'), \n",
    "             names_to = 'binom_cutoff',\n",
    "             values_to = 'has_chip_wgs') |>\n",
    "group_by(decade, binom_cutoff) |>\n",
    "summarize(\n",
    "    TP = sum(has_chip_dts == TRUE & has_chip_wgs == TRUE),\n",
    "    FP = sum(has_chip_dts == FALSE & has_chip_wgs == TRUE),\n",
    "    TN = sum(has_chip_dts == FALSE & has_chip_wgs == FALSE),\n",
    "    FN = sum(has_chip_dts == TRUE & has_chip_wgs == FALSE),\n",
    "    sensitivity = TP / (TP + FN),\n",
    "    specificity = TN / (TN + FP),\n",
    "    .groups = 'drop'\n",
    ") |>\n",
    "glimpse() ->\n",
    "sens_spec_by_decade_binom"
   ]
  },
  {
   "cell_type": "code",
   "execution_count": null,
   "metadata": {
    "ExecuteTime": {
     "end_time": "2025-04-07T19:42:23.438321Z",
     "start_time": "2025-04-07T19:42:22.939Z"
    },
    "hidden": true
   },
   "outputs": [],
   "source": [
    "sens_spec_by_decade_binom |>\n",
    "ggplot(aes(x = 1 - specificity, y = sensitivity,\n",
    "           color = factor(decade), shape = factor(binom_cutoff))) +\n",
    "geom_point(size = 4) +\n",
    "geom_line(aes(group = factor(decade))) +\n",
    "geom_abline(intercept = 0, slope = 1, linetype = \"dashed\", color = \"gray\") +\n",
    "labs(\n",
    "    title = \"ROC Curves by Decade and Binomial Cutoff\",\n",
    "    x = \"1 - Specificity\",\n",
    "    y = \"Sensitivity\",\n",
    "    color = \"Decade\"\n",
    ") +\n",
    "theme_minimal()"
   ]
  },
  {
   "cell_type": "markdown",
   "metadata": {
    "heading_collapsed": true
   },
   "source": [
    "# deprecated - compute sens of WGS by call using DTS as gold standard"
   ]
  },
  {
   "cell_type": "code",
   "execution_count": null,
   "metadata": {
    "ExecuteTime": {
     "end_time": "2025-04-09T20:06:09.152920Z",
     "start_time": "2025-04-09T20:06:09.021Z"
    },
    "hidden": true
   },
   "outputs": [],
   "source": [
    "chip_calls_collapsed_dts"
   ]
  },
  {
   "cell_type": "code",
   "execution_count": null,
   "metadata": {
    "ExecuteTime": {
     "end_time": "2025-04-09T20:06:15.571231Z",
     "start_time": "2025-04-09T20:06:15.340Z"
    },
    "hidden": true
   },
   "outputs": [],
   "source": [
    "wgs_chip_calls\n",
    "# TODO: make sens/spec/PPV/NPV for each AF range\n",
    "# step 1: make TP/FP/TN/FN for each AF range"
   ]
  },
  {
   "cell_type": "code",
   "execution_count": null,
   "metadata": {
    "ExecuteTime": {
     "end_time": "2025-04-09T20:03:00.022240Z",
     "start_time": "2025-04-09T20:02:59.972Z"
    },
    "hidden": true
   },
   "outputs": [],
   "source": [
    "chip_calls_collapsed_dts |>\n",
    "filter(!is.na(chip_gene_dts)) |>\n",
    "pull(AF_dts) |>\n",
    "range()"
   ]
  },
  {
   "cell_type": "code",
   "execution_count": null,
   "metadata": {
    "ExecuteTime": {
     "end_time": "2025-04-09T20:03:00.981263Z",
     "start_time": "2025-04-09T20:03:00.940Z"
    },
    "hidden": true
   },
   "outputs": [],
   "source": [
    "options(repr.plot.height = 4, repr.plot.width = 15)"
   ]
  },
  {
   "cell_type": "code",
   "execution_count": null,
   "metadata": {
    "ExecuteTime": {
     "end_time": "2025-04-09T20:03:03.262382Z",
     "start_time": "2025-04-09T20:03:03.217Z"
    },
    "hidden": true
   },
   "outputs": [],
   "source": [
    "grade_wgs_calls_sens = function(wgs_calls_filtered) {\n",
    "    \n",
    "    chip_calls_collapsed_dts |>\n",
    "    filter(!is.na(chip_gene_dts)) |>\n",
    "    left_join(\n",
    "        wgs_calls_filtered,\n",
    "        by = c('GRID', \n",
    "               'chip_gene_dts' = 'chip_gene_wgs',\n",
    "               'chip_mut_aachange_dts' = 'chip_mut_aachange_wgs')\n",
    "    )  |>\n",
    "    filter(chip_gene_dts %in% c('ASXL1', 'DNMT3A', 'TET2')) |>\n",
    "    group_by(\n",
    "        wgs_chip = !is.na(AF_wgs),\n",
    "        chip_gene_dts,\n",
    "        af_group = cut(AF_dts, breaks = c(0, 0.02, 0.05, 0.1, 0.2, 1), right = FALSE)\n",
    "    ) |>\n",
    "    summarise(n = n(), .groups = 'keep') |>\n",
    "    pivot_wider(names_from = 'wgs_chip', values_from = 'n', names_prefix = 'wgs_chip_') |>\n",
    "    rename(`true pos.` = wgs_chip_TRUE, `false neg.` = wgs_chip_FALSE)\n",
    "}"
   ]
  },
  {
   "cell_type": "code",
   "execution_count": null,
   "metadata": {
    "ExecuteTime": {
     "end_time": "2025-04-09T20:05:24.741834Z",
     "start_time": "2025-04-09T20:05:24.701Z"
    },
    "hidden": true
   },
   "outputs": [],
   "source": [
    "grade_wgs_calls_spec = function(wgs_calls_filtered) {\n",
    "    \n",
    "    chip_calls_collapsed_dts |>\n",
    "    filter(is.na(chip_gene_dts)) |>\n",
    "    left_join(\n",
    "        wgs_calls_filtered,\n",
    "        by = c('GRID')\n",
    "#                'chip_gene_dts' = 'chip_gene_wgs',\n",
    "#                'chip_mut_aachange_dts' = 'chip_mut_aachange_wgs')\n",
    "    )  |>\n",
    "#     filter(chip_gene0_dts %in% c('ASXL1', 'DNMT3A', 'TET2')) |>\n",
    "    group_by(\n",
    "        wgs_chip = !is.na(AF_wgs),\n",
    "        chip_gene_dts,\n",
    "        af_group = cut(AF_dts, breaks = c(0, 0.02, 0.05, 0.1, 0.2, 1), right = FALSE)\n",
    "    ) |>\n",
    "    summarise(n = n(), .groups = 'keep') |>\n",
    "    pivot_wider(names_from = 'wgs_chip', values_from = 'n', names_prefix = 'wgs_chip_') |>\n",
    "    rename(`false pos.` = wgs_chip_TRUE, `true neg.` = wgs_chip_FALSE)\n",
    "}"
   ]
  },
  {
   "cell_type": "code",
   "execution_count": null,
   "metadata": {
    "ExecuteTime": {
     "end_time": "2025-04-09T20:04:56.507323Z",
     "start_time": "2025-04-09T20:04:56.418Z"
    },
    "hidden": true
   },
   "outputs": [],
   "source": [
    "wgs_chip_calls |>\n",
    "grade_wgs_calls_sens()"
   ]
  },
  {
   "cell_type": "code",
   "execution_count": null,
   "metadata": {
    "ExecuteTime": {
     "end_time": "2025-04-09T20:04:01.334240Z",
     "start_time": "2025-04-09T20:04:01.291Z"
    },
    "hidden": true
   },
   "outputs": [],
   "source": [
    "make_sensitivity_plots = function(wgs_calls_filtered) {\n",
    "\n",
    "    wgs_calls_filtered |>\n",
    "    grade_wgs_calls_sens() |>\n",
    "    mutate(sensitivity = round(100*`true pos.`/(`true pos.` + `false neg.`), 1)) |>\n",
    "    ggplot(aes(x = af_group, y = sensitivity)) +\n",
    "    geom_bar(stat = 'identity') +\n",
    "    facet_wrap(facets = vars(chip_gene_dts)) +\n",
    "    theme_bw() +\n",
    "    xlab('AF range')\n",
    "}"
   ]
  },
  {
   "cell_type": "code",
   "execution_count": null,
   "metadata": {
    "ExecuteTime": {
     "end_time": "2025-04-09T20:05:43.055731Z",
     "start_time": "2025-04-09T20:05:43.015Z"
    },
    "hidden": true
   },
   "outputs": [],
   "source": [
    "make_tp_fn_count_plots = function(wgs_calls_filtered) {\n",
    "\n",
    "    wgs_calls_filtered |>\n",
    "    grade_wgs_calls_spec() |>\n",
    "    pivot_longer(cols = c(`false pos.`, `true neg.`)) |>\n",
    "    ggplot(aes(x = af_group, y = value, fill = name)) +\n",
    "    geom_bar(stat = 'identity') +\n",
    "    facet_wrap(facets = vars(chip_gene_dts)) +\n",
    "    theme_bw() +\n",
    "    xlab('AF range') +\n",
    "    theme(legend.title=element_blank(), \n",
    "          legend.position = c(0.9, 0.8))\n",
    "}"
   ]
  },
  {
   "cell_type": "code",
   "execution_count": null,
   "metadata": {
    "ExecuteTime": {
     "end_time": "2025-04-09T20:05:44.823210Z",
     "start_time": "2025-04-09T20:05:43.935Z"
    },
    "hidden": true
   },
   "outputs": [],
   "source": [
    "wgs_chip_calls |>\n",
    "make_sensitivity_plots()\n",
    "\n",
    "wgs_chip_calls |>\n",
    "make_tp_fn_count_plots()"
   ]
  },
  {
   "cell_type": "code",
   "execution_count": null,
   "metadata": {
    "ExecuteTime": {
     "end_time": "2025-04-02T19:38:28.248670Z",
     "start_time": "2025-04-02T19:38:27.324Z"
    },
    "hidden": true
   },
   "outputs": [],
   "source": [
    "wgs_chip_calls |>\n",
    "filter(binom_p_val < 0.01) |>\n",
    "make_sensitivity_plots()\n",
    "\n",
    "wgs_chip_calls |>\n",
    "filter(binom_p_val < 0.01) |>\n",
    "make_tp_fn_count_plots()"
   ]
  },
  {
   "cell_type": "code",
   "execution_count": null,
   "metadata": {
    "ExecuteTime": {
     "end_time": "2025-04-02T19:39:22.084503Z",
     "start_time": "2025-04-02T19:39:22.017Z"
    },
    "hidden": true
   },
   "outputs": [],
   "source": [
    "glimpse(wgs_chip_calls)"
   ]
  },
  {
   "cell_type": "code",
   "execution_count": null,
   "metadata": {
    "ExecuteTime": {
     "end_time": "2025-04-02T19:40:23.572653Z",
     "start_time": "2025-04-02T19:40:22.275Z"
    },
    "hidden": true
   },
   "outputs": [],
   "source": [
    "wgs_chip_calls |>\n",
    "make_sensitivity_plots()\n",
    "\n",
    "wgs_chip_calls |>\n",
    "filter(depth_gt_10) |>\n",
    "make_sensitivity_plots()\n",
    "\n",
    "wgs_chip_calls |>\n",
    "filter(depth_gt_20) |>\n",
    "make_sensitivity_plots()"
   ]
  },
  {
   "cell_type": "code",
   "execution_count": null,
   "metadata": {
    "ExecuteTime": {
     "end_time": "2025-04-02T19:05:11.782741Z",
     "start_time": "2025-04-02T19:05:11.011Z"
    },
    "hidden": true
   },
   "outputs": [],
   "source": [
    "dts_wgs_to_analyze |>\n",
    "# filter(!is.na(chip_gene_dts), !is.na(AF_wgs)) |>\n",
    "ggplot(mapping = aes(x = AF_dts, y = AF_wgs)) +\n",
    "geom_point() +\n",
    "xlim(0, 0.7) +\n",
    "ylim(0, 0.7) +\n",
    "geom_abline(slope = 1, intercept = 0) +\n",
    "labs(x = 'AF (deep targeted sequencing)', y = 'AF (whole genome sequencing)') ->\n",
    "p\n",
    "\n",
    "ggExtra::ggMarginal(p, type = \"histogram\")"
   ]
  },
  {
   "cell_type": "code",
   "execution_count": null,
   "metadata": {
    "ExecuteTime": {
     "end_time": "2025-03-31T18:43:54.668098Z",
     "start_time": "2025-03-31T18:43:54.542Z"
    },
    "hidden": true
   },
   "outputs": [],
   "source": [
    "dts_wgs_to_analyze |>\n",
    "filter(!is.na(AF_dts)) |>\n",
    "group_by(wgs_chip = !is.na(AF_wgs) & AF_wgs != 0) |>\n",
    "summarise(n = n()) |>\n",
    "pivot_wider(names_from = 'wgs_chip', values_from = 'n', names_prefix = 'wgs_chip_') |>\n",
    "mutate(sensitivity = round(100*wgs_chip_TRUE/(wgs_chip_TRUE + wgs_chip_FALSE), 1))"
   ]
  },
  {
   "cell_type": "markdown",
   "metadata": {
    "heading_collapsed": true
   },
   "source": [
    "# deprecated - make DTS results table by person (using maxAF)"
   ]
  },
  {
   "cell_type": "code",
   "execution_count": null,
   "metadata": {
    "ExecuteTime": {
     "end_time": "2025-03-31T15:55:31.496874Z",
     "start_time": "2025-03-31T15:55:31.327Z"
    },
    "hidden": true
   },
   "outputs": [],
   "source": [
    "dts_chip_calls |>\n",
    "count(GRID, name = 'num_chip_dts') |>\n",
    "filter(num_chip_dts > 1) |>\n",
    "left_join(dts_chip_calls, by = 'GRID') |>\n",
    "group_by(GRID) |>\n",
    "summarise(\n",
    "    chip_gene_dts = chip_gene_dts[which.max(AF_dts)],\n",
    "    chip_mut_func_dts = chip_mut_func_dts[which.max(AF_dts)],\n",
    "    chip_mut_exofunc_dts = chip_mut_exofunc_dts[which.max(AF_dts)],\n",
    "    chip_mut_aachange_dts = chip_mut_aachange_dts[which.max(AF_dts)],\n",
    "    AF_dts = max(AF_dts)\n",
    ") ->\n",
    "dts_multi_chip_summarised"
   ]
  },
  {
   "cell_type": "code",
   "execution_count": null,
   "metadata": {
    "ExecuteTime": {
     "end_time": "2025-03-31T15:57:48.858055Z",
     "start_time": "2025-03-31T15:57:48.706Z"
    },
    "hidden": true
   },
   "outputs": [],
   "source": [
    "dts_chip_calls |>\n",
    "count(GRID, name = 'num_rows_dts') |>\n",
    "filter(num_rows_dts == 1) |>\n",
    "left_join(dts_chip_calls, by = 'GRID') |>\n",
    "mutate(num_chip_dts = ifelse(is.na(chip_gene_dts), 0, 1)) |>\n",
    "select(-num_rows_dts) |>\n",
    "bind_rows(dts_multi_chip_summarised) ->\n",
    "dts_chip_calls_by_person"
   ]
  },
  {
   "cell_type": "code",
   "execution_count": null,
   "metadata": {
    "ExecuteTime": {
     "end_time": "2025-03-31T15:57:49.786386Z",
     "start_time": "2025-03-31T15:57:49.731Z"
    },
    "hidden": true
   },
   "outputs": [],
   "source": [
    "glimpse(dts_chip_calls_by_person)"
   ]
  },
  {
   "cell_type": "markdown",
   "metadata": {
    "heading_collapsed": true
   },
   "source": [
    "# deprecated - make WGS results table by person (using 15/2/both)"
   ]
  },
  {
   "cell_type": "code",
   "execution_count": null,
   "metadata": {
    "ExecuteTime": {
     "end_time": "2025-03-31T16:16:49.989964Z",
     "start_time": "2025-03-31T16:16:49.191Z"
    },
    "hidden": true
   },
   "outputs": [],
   "source": [
    "wgs_chip_calls |>\n",
    "group_by(GRID) |>\n",
    "summarise(\n",
    "    \n",
    "#     has_chip_wgs_15_1_both = any(depth_gt_15 & second_ad_gt_1 & both_strands, na.rm = TRUE),\n",
    "#     has_chip_wgs_15_2_both = any(depth_gt_15 & second_ad_gt_1 & both_strands, na.rm = TRUE),\n",
    "#     has_chip_wgs_15_3_both = any(depth_gt_15 & second_ad_gt_1 & both_strands, na.rm = TRUE),\n",
    "#     has_chip_wgs_15_4_both = any(depth_gt_15 & second_ad_gt_1 & both_strands, na.rm = TRUE),\n",
    "#     has_chip_wgs_15_5_both = any(depth_gt_15 & second_ad_gt_1 & both_strands, na.rm = TRUE),\n",
    "    \n",
    "#     has_chip_wgs_15_1 = any(depth_gt_15 & second_ad_gt_1, na.rm = TRUE),\n",
    "    has_chip_wgs_15_2 = any(depth_gt_15 & second_ad_gt_1, na.rm = TRUE),\n",
    "#     has_chip_wgs_15_3 = any(depth_gt_15 & second_ad_gt_1, na.rm = TRUE),\n",
    "#     has_chip_wgs_15_4 = any(depth_gt_15 & second_ad_gt_1, na.rm = TRUE),\n",
    "#     has_chip_wgs_15_5 = any(depth_gt_15 & second_ad_gt_1, na.rm = TRUE),\n",
    "    \n",
    "    num_chip_wgs = sum(depth_gt_15 & second_ad_gt_2, na.rm = TRUE),\n",
    "    \n",
    "    chip_gene_wgs = ifelse(has_chip_wgs_15_2, chip_gene_wgs[which.max(maxAF_wgs)], NA),\n",
    "    chip_mut_func_wgs = ifelse(has_chip_wgs_15_2, chip_mut_func_wgs[which.max(maxAF_wgs)], NA),\n",
    "    chip_mut_exofunc_wgs = ifelse(has_chip_wgs_15_2, chip_mut_exofunc_wgs[which.max(maxAF_wgs)], NA),\n",
    "    chip_mut_aachange_wgs = ifelse(has_chip_wgs_15_2, chip_mut_aachange_wgs[which.max(maxAF_wgs)], NA),\n",
    "    AF_wgs = ifelse(has_chip_wgs_15_2, max(maxAF_wgs), NA)) ->\n",
    "wgs_chip_calls_by_person"
   ]
  },
  {
   "cell_type": "markdown",
   "metadata": {
    "heading_collapsed": true
   },
   "source": [
    "# deprecated - compute sens/spec of WGS calls by person"
   ]
  },
  {
   "cell_type": "code",
   "execution_count": null,
   "metadata": {
    "ExecuteTime": {
     "end_time": "2025-03-31T16:21:10.582973Z",
     "start_time": "2025-03-31T16:21:10.465Z"
    },
    "hidden": true
   },
   "outputs": [],
   "source": [
    "dts_chip_calls_by_person |> \n",
    "select(-biovu_sample_date) |>\n",
    "full_join(wgs_chip_calls_by_person, by = c('GRID')) |>\n",
    "\n",
    "filter(is.na(AF_dts) | AF_dts > 0.10) |>\n",
    "count(has_chip_dts = !is.na(chip_gene_dts), has_chip_wgs_15_2) |>\n",
    "pivot_wider(names_from = 'has_chip_wgs_15_2', values_from = 'n', names_prefix = 'wgs_chip_') |>\n",
    "mutate(pr = wgs_chip_TRUE / (wgs_chip_TRUE + wgs_chip_FALSE))"
   ]
  },
  {
   "cell_type": "code",
   "execution_count": null,
   "metadata": {
    "ExecuteTime": {
     "end_time": "2025-03-31T16:04:01.669727Z",
     "start_time": "2025-03-31T16:04:01.423Z"
    },
    "hidden": true
   },
   "outputs": [],
   "source": [
    "dts_chip_calls_by_person |> \n",
    "select(-biovu_sample_date) |>\n",
    "full_join(wgs_chip_calls_by_person, \n",
    "          by = c('GRID', \n",
    "                 'chip_gene_dts' = 'chip_gene_wgs',\n",
    "                 'chip_mut_aachange_dts' = 'chip_mut_aachange_wgs')) |>\n",
    "mutate(has_chip_wgs_15_2_both = replace_na(has_chip_wgs_15_2_both, FALSE))"
   ]
  },
  {
   "cell_type": "code",
   "execution_count": null,
   "metadata": {
    "ExecuteTime": {
     "end_time": "2025-03-31T16:04:01.669727Z",
     "start_time": "2025-03-31T16:04:01.423Z"
    },
    "hidden": true
   },
   "outputs": [],
   "source": [
    "dts_chip_calls_by_person |> \n",
    "select(-biovu_sample_date) |>\n",
    "full_join(wgs_chip_calls_by_person, \n",
    "          by = c('GRID', \n",
    "                 'chip_gene_dts' = 'chip_gene_wgs',\n",
    "                 'chip_mut_aachange_dts' = 'chip_mut_aachange_wgs')) |>\n",
    "mutate(has_chip_wgs_15_2_both = replace_na(has_chip_wgs_15_2_both, FALSE))"
   ]
  },
  {
   "cell_type": "code",
   "execution_count": null,
   "metadata": {
    "ExecuteTime": {
     "end_time": "2025-03-31T15:55:34.649221Z",
     "start_time": "2025-03-31T15:55:34.571Z"
    },
    "hidden": true
   },
   "outputs": [],
   "source": [
    "dts_chip_yesno |>\n",
    "inner_join(wgs_chip_yesno, by = 'GRID') |>\n",
    "group_by(has_chip_dts, \n",
    "         af_range = cut(maxAF, c(0, 0.02, 0.05, 0.1, 1), include.lowest = TRUE)) |>\n",
    "summarise(\n",
    "    .groups = 'drop',\n",
    "    n = n(), \n",
    "    pr_15_1_both = sum(has_chip_wgs_15_1_both)/n()\n",
    ")"
   ]
  },
  {
   "cell_type": "code",
   "execution_count": null,
   "metadata": {
    "ExecuteTime": {
     "end_time": "2025-03-30T03:10:51.836018Z",
     "start_time": "2025-03-30T03:10:51.079Z"
    },
    "hidden": true
   },
   "outputs": [],
   "source": [
    "# wgs_chip_calls_raw |>\n",
    "# mutate(\n",
    "#     has_chip_5_1_both   = depth_gt_5 & second_ad_gt_1 & both_strands,\n",
    "#     has_chip_5_1_either = depth_gt_5 & second_ad_gt_1,\n",
    "#     has_chip_5_2_both   = depth_gt_5 & second_ad_gt_2 & both_strands,\n",
    "#     has_chip_5_2_either = depth_gt_5 & second_ad_gt_2,\n",
    "#     has_chip_5_3_both   = depth_gt_5 & second_ad_gt_3 & both_strands,\n",
    "#     has_chip_5_3_either = depth_gt_5 & second_ad_gt_3,\n",
    "#     has_chip_5_4_both   = depth_gt_5 & second_ad_gt_4 & both_strands,\n",
    "#     has_chip_5_4_either = depth_gt_5 & second_ad_gt_4,\n",
    "#     has_chip_5_5_both   = depth_gt_5 & second_ad_gt_5 & both_strands,\n",
    "#     has_chip_5_5_either = depth_gt_5 & second_ad_gt_5,\n",
    "    \n",
    "#     has_chip_10_1_both   = depth_gt_10 & second_ad_gt_1 & both_strands,\n",
    "#     has_chip_10_1_either = depth_gt_10 & second_ad_gt_1,\n",
    "#     has_chip_10_2_both   = depth_gt_10 & second_ad_gt_2 & both_strands,\n",
    "#     has_chip_10_2_either = depth_gt_10 & second_ad_gt_2,\n",
    "#     has_chip_10_3_both   = depth_gt_10 & second_ad_gt_3 & both_strands,\n",
    "#     has_chip_10_3_either = depth_gt_10 & second_ad_gt_3,\n",
    "#     has_chip_10_4_both   = depth_gt_10 & second_ad_gt_4 & both_strands,\n",
    "#     has_chip_10_4_either = depth_gt_10 & second_ad_gt_4,\n",
    "#     has_chip_10_5_both   = depth_gt_10 & second_ad_gt_5 & both_strands,\n",
    "#     has_chip_10_5_either = depth_gt_10 & second_ad_gt_5,\n",
    "    \n",
    "#     has_chip_15_1_both   = depth_gt_15 & second_ad_gt_1 & both_strands,\n",
    "#     has_chip_15_1_either = depth_gt_15 & second_ad_gt_1,\n",
    "#     has_chip_15_2_both   = depth_gt_15 & second_ad_gt_2 & both_strands,\n",
    "#     has_chip_15_2_either = depth_gt_15 & second_ad_gt_2,\n",
    "#     has_chip_15_3_both   = depth_gt_15 & second_ad_gt_3 & both_strands,\n",
    "#     has_chip_15_3_either = depth_gt_15 & second_ad_gt_3,\n",
    "#     has_chip_15_4_both   = depth_gt_15 & second_ad_gt_4 & both_strands,\n",
    "#     has_chip_15_4_either = depth_gt_15 & second_ad_gt_4,\n",
    "#     has_chip_15_5_both   = depth_gt_15 & second_ad_gt_5 & both_strands,\n",
    "#     has_chip_15_5_either = depth_gt_15 & second_ad_gt_5,\n",
    "    \n",
    "#     has_chip_20_1_both   = depth_gt_20 & second_ad_gt_1 & both_strands,\n",
    "#     has_chip_20_1_either = depth_gt_20 & second_ad_gt_1,\n",
    "#     has_chip_20_2_both   = depth_gt_20 & second_ad_gt_2 & both_strands,\n",
    "#     has_chip_20_2_either = depth_gt_20 & second_ad_gt_2,\n",
    "#     has_chip_20_3_both   = depth_gt_20 & second_ad_gt_3 & both_strands,\n",
    "#     has_chip_20_3_either = depth_gt_20 & second_ad_gt_3,\n",
    "#     has_chip_20_4_both   = depth_gt_20 & second_ad_gt_4 & both_strands,\n",
    "#     has_chip_20_4_either = depth_gt_20 & second_ad_gt_4,\n",
    "#     has_chip_20_5_both   = depth_gt_20 & second_ad_gt_5 & both_strands,\n",
    "#     has_chip_20_5_either = depth_gt_20 & second_ad_gt_5,\n",
    "    \n",
    "#     has_chip_25_1_both   = depth_gt_25 & second_ad_gt_1 & both_strands,\n",
    "#     has_chip_25_1_either = depth_gt_25 & second_ad_gt_1,\n",
    "#     has_chip_25_2_both   = depth_gt_25 & second_ad_gt_2 & both_strands,\n",
    "#     has_chip_25_2_either = depth_gt_25 & second_ad_gt_2,\n",
    "#     has_chip_25_3_both   = depth_gt_25 & second_ad_gt_3 & both_strands,\n",
    "#     has_chip_25_3_either = depth_gt_25 & second_ad_gt_3,\n",
    "#     has_chip_25_4_both   = depth_gt_25 & second_ad_gt_4 & both_strands,\n",
    "#     has_chip_25_4_either = depth_gt_25 & second_ad_gt_4,\n",
    "#     has_chip_25_5_both   = depth_gt_25 & second_ad_gt_5 & both_strands,\n",
    "#     has_chip_25_5_either = depth_gt_25 & second_ad_gt_5    \n",
    "# ) |>\n",
    "# select(-(depth_gt_5:gene_hemeca_p)) |>\n",
    "# glimpse() ->\n",
    "# wgs_chip_calls"
   ]
  },
  {
   "cell_type": "markdown",
   "metadata": {
    "heading_collapsed": true
   },
   "source": [
    "# deprecated - combine gold-standard and WGS to compare"
   ]
  },
  {
   "cell_type": "code",
   "execution_count": null,
   "metadata": {
    "ExecuteTime": {
     "end_time": "2025-03-18T19:20:10.369648Z",
     "start_time": "2025-03-18T19:20:10.289Z"
    },
    "hidden": true,
    "scrolled": false
   },
   "outputs": [],
   "source": [
    "# inner_join(\n",
    "#     wgs_wide,\n",
    "#     gold_standard,\n",
    "#     by = 'person_id',\n",
    "#     suffix = c('_wgs', '_gs')\n",
    "# ) |>\n",
    "# glimpse() ->\n",
    "# to_compare"
   ]
  },
  {
   "cell_type": "code",
   "execution_count": null,
   "metadata": {
    "ExecuteTime": {
     "end_time": "2025-02-04T12:33:14.958740Z",
     "start_time": "2025-02-04T12:33:14.768Z"
    },
    "hidden": true
   },
   "outputs": [],
   "source": [
    "mean(to_compare$any_gs_chip)"
   ]
  },
  {
   "cell_type": "code",
   "execution_count": null,
   "metadata": {
    "ExecuteTime": {
     "end_time": "2025-02-04T12:33:15.887336Z",
     "start_time": "2025-02-04T12:33:15.768Z"
    },
    "hidden": true
   },
   "outputs": [],
   "source": [
    "to_compare |>\n",
    "group_by(any_wgs_chip, any_gs_chip) |>\n",
    "summarise(n = n(), .groups = 'drop') ->\n",
    "confusion_tbl"
   ]
  },
  {
   "cell_type": "code",
   "execution_count": null,
   "metadata": {
    "ExecuteTime": {
     "end_time": "2025-02-04T12:33:17.592425Z",
     "start_time": "2025-02-04T12:33:17.420Z"
    },
    "hidden": true
   },
   "outputs": [],
   "source": [
    "confusion_tbl |>\n",
    " summarise(\n",
    "   sensitivity = n[4] / sum(n[c(2,4)]),\n",
    "   specificity = n[1] / sum(n[c(1,3)]),\n",
    "   ppv = n[4] / sum(n[c(3,4)]),\n",
    "   npv = n[1] / sum(n[c(1,2)])\n",
    " )"
   ]
  },
  {
   "cell_type": "markdown",
   "metadata": {
    "heading_collapsed": true
   },
   "source": [
    "# deprecated - optimize filters"
   ]
  },
  {
   "cell_type": "code",
   "execution_count": null,
   "metadata": {
    "ExecuteTime": {
     "end_time": "2025-04-08T15:26:32.970069Z",
     "start_time": "2025-04-08T15:26:08.324Z"
    },
    "hidden": true
   },
   "outputs": [],
   "source": [
    "grade_wgs_calls_byperson <- function(wgs_calls, \n",
    "                                     min_dp, \n",
    "                                     min_ad2,\n",
    "                                     require_both_strands,\n",
    "                                     max_age_p,\n",
    "                                     max_tert_p,\n",
    "                                     max_binom_p) {\n",
    "\n",
    "    dts_chip_by_person |>\n",
    "    inner_join(wgs_calls, by = 'GRID') |>\n",
    "    count(has_chip_dts, has_chip_wgs) -> \n",
    "    wgs_vs_dts\n",
    "\n",
    "    # Extract counts\n",
    "    TP <- wgs_vs_dts |> filter(has_chip_dts == TRUE, has_chip_wgs == TRUE) |> pull(n)\n",
    "    TN <- wgs_vs_dts |> filter(has_chip_dts == FALSE, has_chip_wgs == FALSE) |> pull(n)\n",
    "    FP <- wgs_vs_dts |> filter(has_chip_dts == FALSE, has_chip_wgs == TRUE) |> pull(n)\n",
    "    FN <- wgs_vs_dts |> filter(has_chip_dts == TRUE, has_chip_wgs == FALSE) |> pull(n)\n",
    "    \n",
    "    # Calculate metrics (with error handling for division by zero)\n",
    "    sensitivity <- TP / (TP + FN)\n",
    "    specificity <- TN / (TN + FP)\n",
    "    PPV         <- TP / (TP + FP)\n",
    "    NPV         <- TN / (TN + FN)\n",
    "\n",
    "    # Create a results data frame with filter parameters\n",
    "    tibble(\n",
    "        min_dp = min_dp,\n",
    "        min_ad2 = min_ad2,\n",
    "        require_both_strands = require_both_strands,\n",
    "        max_age_p = max_age_p,\n",
    "        max_tert_p = max_tert_p,\n",
    "        max_binom_p = max_binom_p,\n",
    "        TP = TP,\n",
    "        TN = TN,\n",
    "        FP = FP,\n",
    "        FN = FN,\n",
    "        sensitivity = sensitivity,\n",
    "        specificity = specificity,\n",
    "        PPV = PPV,\n",
    "        NPV = NPV\n",
    "    )\n",
    "}"
   ]
  },
  {
   "cell_type": "code",
   "execution_count": null,
   "metadata": {
    "ExecuteTime": {
     "end_time": "2025-04-08T16:42:45.658683Z",
     "start_time": "2025-04-08T16:42:45.546Z"
    },
    "hidden": true
   },
   "outputs": [],
   "source": [
    "evaluate_filter_combinations <- function(data,\n",
    "                                         filter_df = ) {\n",
    "    \n",
    "    results <- tibble()\n",
    "    \n",
    "    total_combinations <- nrow(filter_params)\n",
    "    cat(\"Evaluating\", total_combinations, \"filter combinations\\n\")\n",
    "    pb <- txtProgressBar(min = 0, max = total_combinations, style = 3)\n",
    "    \n",
    "    for(i in 1:total_combinations) {\n",
    "        \n",
    "        filtered_data <- do.call(\n",
    "            filter_wgs_chip_calls,\n",
    "            c(list(data = data), as.list(filter_params[i, ]))\n",
    "        )\n",
    "        \n",
    "        metrics <- do.call(\n",
    "            grade_wgs_calls_byperson,\n",
    "            c(list(wgs_calls = filtered_data), as.list(filter_params[i, ]))\n",
    "        )\n",
    "        \n",
    "        results <- bind_rows(results, metrics)\n",
    "        \n",
    "        setTxtProgressBar(pb, i)\n",
    "    }\n",
    "    \n",
    "    close(pb)\n",
    "    return(results)\n",
    "}"
   ]
  },
  {
   "cell_type": "code",
   "execution_count": null,
   "metadata": {
    "ExecuteTime": {
     "end_time": "2025-04-08T16:42:51.016020Z",
     "start_time": "2025-04-08T16:42:46.732Z"
    },
    "hidden": true
   },
   "outputs": [],
   "source": [
    "wgs_chip_calls |>\n",
    "evaluate_filter_combinations()"
   ]
  },
  {
   "cell_type": "code",
   "execution_count": null,
   "metadata": {
    "ExecuteTime": {
     "end_time": "2025-04-08T15:26:33.011581Z",
     "start_time": "2025-04-08T15:26:08.326Z"
    },
    "hidden": true
   },
   "outputs": [],
   "source": [
    "# Define the parameter combinations to try\n",
    "filter_params <- expand_grid(\n",
    "    min_dp = c(10, 15, 20, 25),\n",
    "    min_ad2 = c(1, 2, 3, 4),\n",
    "    require_both_strands = c(TRUE, FALSE),\n",
    "    max_tert_p = c(0.1, 0.01, 0.001),\n",
    "    max_age_p = c(0.1, 0.01, 0.001),\n",
    "    max_binom_p = c(0.1, 0.01, 0.001)\n",
    ")"
   ]
  },
  {
   "cell_type": "code",
   "execution_count": null,
   "metadata": {
    "ExecuteTime": {
     "end_time": "2025-04-08T15:27:13.925707Z",
     "start_time": "2025-04-08T15:26:08.327Z"
    },
    "hidden": true
   },
   "outputs": [],
   "source": [
    "filter_params |>\n",
    "evaluate_filter_combinations(wgs_chip_calls) ->\n",
    "evals_of_filters"
   ]
  },
  {
   "cell_type": "code",
   "execution_count": null,
   "metadata": {
    "ExecuteTime": {
     "end_time": "2025-04-08T16:40:52.588785Z",
     "start_time": "2025-04-08T16:40:52.466Z"
    },
    "hidden": true
   },
   "outputs": [],
   "source": [
    "evals_of_filters |>\n",
    "filter(min_dp == 20, min_ad2 == 2, require_both_strands,\n",
    "       max_tert_p == 0.1, max_age_p == 0.1, max_binom_p == 0.01) |>\n",
    "glimpse()"
   ]
  },
  {
   "cell_type": "code",
   "execution_count": null,
   "metadata": {
    "ExecuteTime": {
     "end_time": "2025-04-08T15:27:13.943407Z",
     "start_time": "2025-04-08T15:26:08.328Z"
    },
    "hidden": true
   },
   "outputs": [],
   "source": [
    "options(repr.plot.width = 10, repr.plot.height = 5)"
   ]
  },
  {
   "cell_type": "code",
   "execution_count": null,
   "metadata": {
    "ExecuteTime": {
     "end_time": "2025-04-08T15:27:14.717430Z",
     "start_time": "2025-04-08T15:26:08.328Z"
    },
    "hidden": true
   },
   "outputs": [],
   "source": [
    "evals_of_filters |>\n",
    "# filter(min_dp == 20, min_ad2 == 2) |>\n",
    "ggplot(mapping = aes(x = 1-specificity, y = sensitivity, \n",
    "                     color = factor(min_dp), \n",
    "                     shape = factor(require_both_strands))) +\n",
    "geom_point()"
   ]
  },
  {
   "cell_type": "code",
   "execution_count": null,
   "metadata": {
    "ExecuteTime": {
     "end_time": "2025-04-08T15:27:14.763674Z",
     "start_time": "2025-04-08T15:26:08.329Z"
    },
    "hidden": true
   },
   "outputs": [],
   "source": [
    "# View the results\n",
    "evals_of_filters |> \n",
    "arrange(desc(sensitivity + specificity)) |>  # Sort by sum of sensitivity and specificity\n",
    "glimpse()"
   ]
  },
  {
   "cell_type": "code",
   "execution_count": null,
   "metadata": {
    "ExecuteTime": {
     "end_time": "2025-04-03T16:03:57.668748Z",
     "start_time": "2025-04-03T16:03:57.547Z"
    },
    "hidden": true
   },
   "outputs": [],
   "source": [
    "lm(formula = sensitivity ~ min_dp + min_ad2 + require_both_strands + max_age_p + max_tert_p + max_binom_p,\n",
    "   data = filter_evaluation_results) |>\n",
    "tidy()"
   ]
  },
  {
   "cell_type": "markdown",
   "metadata": {
    "heading_collapsed": true
   },
   "source": [
    "# deprecated - set up loop over filters to find sens/spec with/without various filters"
   ]
  },
  {
   "cell_type": "code",
   "execution_count": null,
   "metadata": {
    "ExecuteTime": {
     "end_time": "2025-02-04T12:34:27.561540Z",
     "start_time": "2025-02-04T12:34:27.454Z"
    },
    "hidden": true
   },
   "outputs": [],
   "source": [
    "calculate_metrics <- function(wgs_filtered, gold_data) {\n",
    "\n",
    "    wgs_filtered |>\n",
    "    right_join(demog, by = 'SAMPLE_ID') |>\n",
    "    group_by(person_id, wgs_chip_gene) |>\n",
    "    summarise(AF = median(AF), .groups = \"drop\") |>\n",
    "    pivot_wider(\n",
    "        id_cols = person_id,\n",
    "        names_from = wgs_chip_gene,\n",
    "        values_from = AF,\n",
    "        values_fill = 0\n",
    "    ) |>\n",
    "    select(-`NA`) |>\n",
    "    mutate(any_wgs_chip = if_any(-person_id, ~.!=0)) |>\n",
    "    inner_join(\n",
    "        gold_data,\n",
    "        by = 'person_id',\n",
    "        suffix = c('_wgs', '_gs')\n",
    "    )  |>\n",
    "    group_by(any_wgs_chip, any_gs_chip) |>\n",
    "    summarise(n = n(), .groups = \"drop\") |>\n",
    "    summarise(\n",
    "        sensitivity = n[4] / sum(n[c(2,4)]),\n",
    "        specificity = n[1] / sum(n[c(1,3)]),\n",
    "        ppv = n[4] / sum(n[c(3,4)]),\n",
    "        npv = n[1] / sum(n[c(1,2)])\n",
    "    )\n",
    "}"
   ]
  },
  {
   "cell_type": "code",
   "execution_count": null,
   "metadata": {
    "ExecuteTime": {
     "end_time": "2025-02-04T12:34:28.767505Z",
     "start_time": "2025-02-04T12:34:28.652Z"
    },
    "hidden": true
   },
   "outputs": [],
   "source": [
    "filters <- list(\n",
    "   depth_0__second_ad_0__strands_0 = quo(TRUE),\n",
    "   depth_0__second_ad_1__strands_0 = quo(second_ad_gt_1),\n",
    "   depth_0__second_ad_2__strands_0 = quo(second_ad_gt_2),\n",
    "   depth_0__second_ad_3__strands_0 = quo(second_ad_gt_3),\n",
    "   depth_0__second_ad_0__strands_1 = quo(both_strands),\n",
    "   depth_0__second_ad_1__strands_1 = quo(second_ad_gt_1 & both_strands),\n",
    "   depth_0__second_ad_2__strands_1 = quo(second_ad_gt_2 & both_strands),\n",
    "   depth_0__second_ad_3__strands_1 = quo(second_ad_gt_3 & both_strands),\n",
    "   depth_5__second_ad_0__strands_0 = quo(depth_gt_5),\n",
    "   depth_5__second_ad_1__strands_0 = quo(depth_gt_5 & second_ad_gt_1),\n",
    "   depth_5__second_ad_2__strands_0 = quo(depth_gt_5 & second_ad_gt_2),\n",
    "   depth_5__second_ad_3__strands_0 = quo(depth_gt_5 & second_ad_gt_3),\n",
    "   depth_5__second_ad_0__strands_1 = quo(depth_gt_5 & both_strands),\n",
    "   depth_5__second_ad_1__strands_1 = quo(depth_gt_5 & second_ad_gt_1 & both_strands),\n",
    "   depth_5__second_ad_2__strands_1 = quo(depth_gt_5 & second_ad_gt_2 & both_strands),\n",
    "   depth_5__second_ad_3__strands_1 = quo(depth_gt_5 & second_ad_gt_3 & both_strands),\n",
    "   depth_15__second_ad_0__strands_0 = quo(depth_gt_15),\n",
    "   depth_15__second_ad_1__strands_0 = quo(depth_gt_15 & second_ad_gt_1),\n",
    "   depth_15__second_ad_2__strands_0 = quo(depth_gt_15 & second_ad_gt_2),\n",
    "   depth_15__second_ad_3__strands_0 = quo(depth_gt_15 & second_ad_gt_3),\n",
    "   depth_15__second_ad_0__strands_1 = quo(depth_gt_15 & both_strands),\n",
    "   depth_15__second_ad_1__strands_1 = quo(depth_gt_15 & second_ad_gt_1 & both_strands),\n",
    "   depth_15__second_ad_2__strands_1 = quo(depth_gt_15 & second_ad_gt_2 & both_strands),\n",
    "   depth_15__second_ad_3__strands_1 = quo(depth_gt_15 & second_ad_gt_3 & both_strands),\n",
    "   depth_25__second_ad_0__strands_0 = quo(depth_gt_25),\n",
    "   depth_25__second_ad_1__strands_0 = quo(depth_gt_25 & second_ad_gt_1),\n",
    "   depth_25__second_ad_2__strands_0 = quo(depth_gt_25 & second_ad_gt_2),\n",
    "   depth_25__second_ad_3__strands_0 = quo(depth_gt_25 & second_ad_gt_3),\n",
    "   depth_25__second_ad_0__strands_1 = quo(depth_gt_25 & both_strands),\n",
    "   depth_25__second_ad_1__strands_1 = quo(depth_gt_25 & second_ad_gt_1 & both_strands),\n",
    "   depth_25__second_ad_2__strands_1 = quo(depth_gt_25 & second_ad_gt_2 & both_strands),\n",
    "   depth_25__second_ad_3__strands_1 = quo(depth_gt_25 & second_ad_gt_3 & both_strands)\n",
    ")"
   ]
  },
  {
   "cell_type": "code",
   "execution_count": null,
   "metadata": {
    "ExecuteTime": {
     "end_time": "2025-02-04T12:35:03.871422Z",
     "start_time": "2025-02-04T12:34:59.478Z"
    },
    "hidden": true,
    "scrolled": false
   },
   "outputs": [],
   "source": [
    "map_dfr(filters, ~{\n",
    "    wgs_pre_calls |>\n",
    "    filter(!!.x) |>\n",
    "    calculate_metrics(gold_standard)\n",
    "}, .id = \"filter_set\") ->\n",
    "sens_spec_metrics"
   ]
  },
  {
   "cell_type": "code",
   "execution_count": null,
   "metadata": {
    "ExecuteTime": {
     "end_time": "2025-02-04T12:49:59.453624Z",
     "start_time": "2025-02-04T12:49:59.346Z"
    },
    "hidden": true
   },
   "outputs": [],
   "source": [
    "options(repr.plot.width = 8, repr.plot.height = 5)"
   ]
  },
  {
   "cell_type": "code",
   "execution_count": null,
   "metadata": {
    "ExecuteTime": {
     "end_time": "2025-02-04T12:49:59.863543Z",
     "start_time": "2025-02-04T12:49:59.749Z"
    },
    "hidden": true
   },
   "outputs": [],
   "source": [
    "sens_spec_metrics |>\n",
    "separate(\n",
    "    col = 'filter_set',\n",
    "    into = c('depth', 'allele_depth', 'both_strands'),\n",
    "    sep = '__') |>\n",
    "mutate(depth = factor(str_split_i(depth, '_', 2), levels = c('0', '5', '10', '15', '20', '25'))) |>\n",
    "mutate(allele_depth = factor(str_split_i(allele_depth, '_', 3))) |>\n",
    "mutate(both_strands = str_split_i(both_strands, '_', 2)) ->\n",
    "sensspec_to_plot"
   ]
  },
  {
   "cell_type": "code",
   "execution_count": null,
   "metadata": {
    "ExecuteTime": {
     "end_time": "2025-02-04T12:50:04.724814Z",
     "start_time": "2025-02-04T12:50:04.618Z"
    },
    "hidden": true
   },
   "outputs": [],
   "source": [
    "# sensspec_to_plot"
   ]
  },
  {
   "cell_type": "code",
   "execution_count": null,
   "metadata": {
    "ExecuteTime": {
     "end_time": "2025-02-04T12:50:05.900395Z",
     "start_time": "2025-02-04T12:50:05.316Z"
    },
    "hidden": true
   },
   "outputs": [],
   "source": [
    "sensspec_to_plot |>\n",
    "ggplot(mapping = aes(x = 1-specificity, y = sensitivity)) +\n",
    "geom_point(aes(color = allele_depth, shape = both_strands), size = 5, alpha = 0.5) +\n",
    "# geom_line(aes(group = allele_depth, color = allele_depth), alpha = 0.5, linewidth = 2) +\n",
    "facet_wrap(facets = vars(depth)) +\n",
    "theme_bw() +\n",
    "labs(title = 'Sensitivity and Specificity of WGS-based CHIP calling',\n",
    "     subtitle = 'Comparison of WGS filtering strategies'\n",
    "#      caption = paste(\n",
    "#          'Total number of reads, shown in the title of each facet, has weak influence on the sensitivity and specificity',\n",
    "#          'of calls up to the cutoff of 25 reads (bottom right) which decreases sensitivity by ~5% and',\n",
    "#          'increases specificity by ~1%. Filtering based on the number of reads of the less common allele,',\n",
    "#          'shown in the color of each point, exerted a strong effect on sensitivity and specificty. Using a cutoff',\n",
    "#          'of one read (green) had no effect on sensitivity or specificity, but filtering on two or three reads markedly',\n",
    "#          'decreased sensitivity and increased specificity. Filtering based on the presence of reads from both alleles on both DNA',\n",
    "#          'strands, shown by the shape of each point, conferred a moderate decrease in sensitivity and increase in specificity.',\n",
    "#          sep = '\\n'\n",
    "     ) +\n",
    "theme(plot.caption = element_text(hjust = 0))"
   ]
  },
  {
   "cell_type": "code",
   "execution_count": null,
   "metadata": {
    "ExecuteTime": {
     "end_time": "2025-01-07T15:59:21.782315Z",
     "start_time": "2025-01-07T15:59:21.040Z"
    },
    "hidden": true,
    "scrolled": false
   },
   "outputs": [],
   "source": [
    "filters <- list(\n",
    "    base = quo(TRUE),\n",
    "    both_strands = quo(both_strands),\n",
    "    multi_allelic = quo(multi_allelic)\n",
    ")\n",
    "\n",
    "map_dfr(filters, ~{\n",
    "    wgs_pre_calls |>\n",
    "    filter(!!.x) |>\n",
    "    calculate_metrics(gold_standard)\n",
    "}, .id = \"filter_set\")"
   ]
  },
  {
   "cell_type": "code",
   "execution_count": null,
   "metadata": {
    "ExecuteTime": {
     "end_time": "2025-02-04T12:37:41.928567Z",
     "start_time": "2025-02-04T12:37:41.804Z"
    },
    "hidden": true
   },
   "outputs": [],
   "source": [
    "to_compare |> glimpse()"
   ]
  },
  {
   "cell_type": "code",
   "execution_count": null,
   "metadata": {
    "ExecuteTime": {
     "end_time": "2025-02-04T12:49:10.173304Z",
     "start_time": "2025-02-04T12:49:10.053Z"
    },
    "hidden": true
   },
   "outputs": [],
   "source": [
    "glimpse(wgs_pre_calls)"
   ]
  },
  {
   "cell_type": "code",
   "execution_count": null,
   "metadata": {
    "ExecuteTime": {
     "end_time": "2025-02-04T12:50:47.499881Z",
     "start_time": "2025-02-04T12:50:47.246Z"
    },
    "hidden": true
   },
   "outputs": [],
   "source": [
    "wgs_pre_calls |>\n",
    "right_join(demog, by = 'SAMPLE_ID') |>\n",
    "group_by(person_id, wgs_chip_gene) |>\n",
    "summarise(\n",
    "    AF = max(AF), \n",
    "    both_strands = any(second_ad_gt_2),\n",
    "    .groups = \"drop\") |>\n",
    "pivot_wider(\n",
    "    id_cols = person_id,\n",
    "    names_from = wgs_chip_gene,\n",
    "    values_from = c(AF, both_strands),\n",
    "    values_fill = list(AF = 0, both_strands = FALSE)\n",
    ") |>\n",
    "select(-AF_NA, -both_strands_NA) |>\n",
    "mutate(any_wgs_chip = if_any(-person_id, ~.!=0)) |>\n",
    "glimpse() ->\n",
    "wgs_wide\n",
    "\n",
    "inner_join(\n",
    "    wgs_wide,\n",
    "    gold_standard,\n",
    "    by = 'person_id',\n",
    "    suffix = c('_wgs', '_gs')\n",
    ") |>\n",
    "glimpse() ->\n",
    "to_compare"
   ]
  },
  {
   "cell_type": "code",
   "execution_count": null,
   "metadata": {
    "ExecuteTime": {
     "end_time": "2025-02-04T12:51:19.559000Z",
     "start_time": "2025-02-04T12:51:19.087Z"
    },
    "hidden": true
   },
   "outputs": [],
   "source": [
    "to_compare |>\n",
    "ggplot(aes(x = DNMT3A, y = AF_DNMT3A, color = both_strands_DNMT3A)) +\n",
    "geom_point() +\n",
    "labs(title = 'DNMT3A WGS validation', \n",
    "     x = 'deep targeted sequencing', y = 'WGS', color = 'minor allele > 2') +\n",
    "theme_bw()"
   ]
  },
  {
   "cell_type": "code",
   "execution_count": null,
   "metadata": {
    "ExecuteTime": {
     "end_time": "2025-02-04T12:55:03.636562Z",
     "start_time": "2025-02-04T12:55:03.301Z"
    },
    "hidden": true
   },
   "outputs": [],
   "source": [
    "to_compare |>\n",
    "group_by(AF_range = cut(DNMT3A, c(0, 0.02, 0.05, 0.1, 0.15, 0.2, 1))) |>\n",
    "summarise(\n",
    "    n = n(),\n",
    "    pos = sum(AF_DNMT3A > 0.02),\n",
    "    sens = mean(AF_DNMT3A > 0.02)) |>\n",
    "ggplot(mapping = aes(x = AF_range, y = sens)) +\n",
    "geom_bar(stat = 'identity') +\n",
    "labs(title = 'WGS sensitivity for DNMT3A CHIP') +\n",
    "theme_bw()"
   ]
  },
  {
   "cell_type": "code",
   "execution_count": null,
   "metadata": {
    "ExecuteTime": {
     "end_time": "2025-02-04T12:55:41.509024Z",
     "start_time": "2025-02-04T12:55:41.221Z"
    },
    "hidden": true
   },
   "outputs": [],
   "source": [
    "to_compare |>\n",
    "group_by(AF_range = cut(TET2, c(0, 0.02, 0.05, 0.1, 0.15, 0.2, 1))) |>\n",
    "summarise(\n",
    "    n = n(),\n",
    "    pos = sum(AF_TET2 > 0.02),\n",
    "    sens = mean(AF_TET2 > 0.02)) |>\n",
    "ggplot(mapping = aes(x = AF_range, y = sens)) +\n",
    "geom_bar(stat = 'identity') +\n",
    "labs(title = 'WGS sensitivity for TET2 CHIP') +\n",
    "theme_bw()"
   ]
  },
  {
   "cell_type": "code",
   "execution_count": null,
   "metadata": {
    "hidden": true
   },
   "outputs": [],
   "source": []
  }
 ],
 "metadata": {
  "kernelspec": {
   "display_name": "R",
   "language": "R",
   "name": "ir"
  },
  "language_info": {
   "codemirror_mode": "r",
   "file_extension": ".r",
   "mimetype": "text/x-r-source",
   "name": "R",
   "pygments_lexer": "r",
   "version": "4.5.0"
  },
  "toc": {
   "base_numbering": 1,
   "nav_menu": {},
   "number_sections": true,
   "sideBar": true,
   "skip_h1_title": false,
   "title_cell": "Table of Contents",
   "title_sidebar": "Contents",
   "toc_cell": false,
   "toc_position": {},
   "toc_section_display": true,
   "toc_window_display": false
  }
 },
 "nbformat": 4,
 "nbformat_minor": 2
}
